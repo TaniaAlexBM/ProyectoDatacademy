{
 "cells": [
  {
   "cell_type": "markdown",
   "source": "# Análisis de los 25 retailers más grandes de Estados Unidos",
   "metadata": {
    "cell_id": "1df879a0-53cd-4031-a50b-2c2fe17304a4",
    "tags": [],
    "is_collapsed": false,
    "deepnote_cell_height": 186,
    "deepnote_app_coordinates": {
     "x": 0,
     "y": 0,
     "w": 20,
     "h": 5
    },
    "deepnote_cell_type": "text-cell-h1"
   }
  },
  {
   "cell_type": "code",
   "metadata": {
    "tags": [],
    "cell_id": "3347a937-91c3-4305-b06c-213bb2f3bcaf",
    "deepnote_to_be_reexecuted": false,
    "source_hash": "3939dc73",
    "execution_start": 1645592493179,
    "execution_millis": 266,
    "deepnote_cell_height": 117,
    "deepnote_app_coordinates": {
     "x": 0,
     "y": 6,
     "w": 19,
     "h": 5
    },
    "deepnote_cell_type": "code"
   },
   "source": "import pandas as pd\nimport numpy as np\nimport altair as alt",
   "execution_count": 1,
   "outputs": []
  },
  {
   "cell_type": "code",
   "metadata": {
    "cell_id": "21d596bf-09d0-4e31-a87b-ecf09d03d3db",
    "tags": [],
    "deepnote_to_be_reexecuted": false,
    "source_hash": "8e915d82",
    "execution_start": 1645592493455,
    "execution_millis": 482,
    "deepnote_cell_height": 616,
    "deepnote_app_coordinates": {
     "x": 0,
     "y": 11,
     "w": 19,
     "h": 7
    },
    "deepnote_table_state": {
     "pageSize": 10,
     "pageIndex": 0,
     "filters": [],
     "sortBy": [
      {
       "id": "Stores",
       "type": "desc"
      }
     ]
    },
    "deepnote_table_loading": false,
    "deepnote_cell_type": "code"
   },
   "source": "df = pd.read_csv('largest_us_retailers.csv')\ndf",
   "execution_count": 2,
   "outputs": [
    {
     "output_type": "execute_result",
     "execution_count": 2,
     "data": {
      "application/vnd.deepnote.dataframe.v3+json": {
       "column_count": 6,
       "row_count": 25,
       "columns": [
        {
         "name": "Company",
         "dtype": "object",
         "stats": {
          "unique_count": 25,
          "nan_count": 0,
          "categories": [
           {
            "name": "Dollar Tree",
            "count": 1
           },
           {
            "name": "Dollar General",
            "count": 1
           },
           {
            "name": "23 others",
            "count": 23
           }
          ]
         }
        },
        {
         "name": "Sales",
         "dtype": "int64",
         "stats": {
          "unique_count": 25,
          "nan_count": 0,
          "min": "16592",
          "max": "658119",
          "histogram": [
           {
            "bin_start": 16592,
            "bin_end": 80744.7,
            "count": 21
           },
           {
            "bin_start": 80744.7,
            "bin_end": 144897.4,
            "count": 3
           },
           {
            "bin_start": 144897.4,
            "bin_end": 209050.09999999998,
            "count": 0
           },
           {
            "bin_start": 209050.09999999998,
            "bin_end": 273202.8,
            "count": 0
           },
           {
            "bin_start": 273202.8,
            "bin_end": 337355.5,
            "count": 0
           },
           {
            "bin_start": 337355.5,
            "bin_end": 401508.19999999995,
            "count": 0
           },
           {
            "bin_start": 401508.19999999995,
            "bin_end": 465660.89999999997,
            "count": 0
           },
           {
            "bin_start": 465660.89999999997,
            "bin_end": 529813.6,
            "count": 0
           },
           {
            "bin_start": 529813.6,
            "bin_end": 593966.2999999999,
            "count": 0
           },
           {
            "bin_start": 593966.2999999999,
            "bin_end": 658119,
            "count": 1
           }
          ]
         }
        },
        {
         "name": "Stores",
         "dtype": "float64",
         "stats": {
          "unique_count": 23,
          "nan_count": 2,
          "min": "231.0",
          "max": "14250.0",
          "histogram": [
           {
            "bin_start": 231,
            "bin_end": 1632.9,
            "count": 10
           },
           {
            "bin_start": 1632.9,
            "bin_end": 3034.8,
            "count": 6
           },
           {
            "bin_start": 3034.8,
            "bin_end": 4436.700000000001,
            "count": 1
           },
           {
            "bin_start": 4436.700000000001,
            "bin_end": 5838.6,
            "count": 2
           },
           {
            "bin_start": 5838.6,
            "bin_end": 7240.5,
            "count": 0
           },
           {
            "bin_start": 7240.5,
            "bin_end": 8642.400000000001,
            "count": 1
           },
           {
            "bin_start": 8642.400000000001,
            "bin_end": 10044.300000000001,
            "count": 1
           },
           {
            "bin_start": 10044.300000000001,
            "bin_end": 11446.2,
            "count": 0
           },
           {
            "bin_start": 11446.2,
            "bin_end": 12848.1,
            "count": 0
           },
           {
            "bin_start": 12848.1,
            "bin_end": 14250,
            "count": 2
           }
          ]
         }
        },
        {
         "name": "Sales/Avg. Store",
         "dtype": "float64",
         "stats": {
          "unique_count": 23,
          "nan_count": 2,
          "min": "1.56391854",
          "max": "187.7956204",
          "histogram": [
           {
            "bin_start": 1.56391854,
            "bin_end": 20.187088726,
            "count": 9
           },
           {
            "bin_start": 20.187088726,
            "bin_end": 38.810258912,
            "count": 7
           },
           {
            "bin_start": 38.810258912,
            "bin_end": 57.433429098000005,
            "count": 2
           },
           {
            "bin_start": 57.433429098000005,
            "bin_end": 76.056599284,
            "count": 3
           },
           {
            "bin_start": 76.056599284,
            "bin_end": 94.67976947,
            "count": 1
           },
           {
            "bin_start": 94.67976947,
            "bin_end": 113.302939656,
            "count": 0
           },
           {
            "bin_start": 113.302939656,
            "bin_end": 131.926109842,
            "count": 0
           },
           {
            "bin_start": 131.926109842,
            "bin_end": 150.549280028,
            "count": 0
           },
           {
            "bin_start": 150.549280028,
            "bin_end": 169.172450214,
            "count": 0
           },
           {
            "bin_start": 169.172450214,
            "bin_end": 187.7956204,
            "count": 1
           }
          ]
         }
        },
        {
         "name": "Store Count Growth",
         "dtype": "float64",
         "stats": {
          "unique_count": 23,
          "nan_count": 2,
          "min": "-0.05951506245",
          "max": "0.2556621881",
          "histogram": [
           {
            "bin_start": -0.05951506245,
            "bin_end": -0.027997337395000002,
            "count": 3
           },
           {
            "bin_start": -0.027997337395000002,
            "bin_end": 0.003520387659999999,
            "count": 4
           },
           {
            "bin_start": 0.003520387659999999,
            "bin_end": 0.035038112715,
            "count": 6
           },
           {
            "bin_start": 0.035038112715,
            "bin_end": 0.06655583777,
            "count": 2
           },
           {
            "bin_start": 0.06655583777,
            "bin_end": 0.098073562825,
            "count": 5
           },
           {
            "bin_start": 0.098073562825,
            "bin_end": 0.12959128788000002,
            "count": 1
           },
           {
            "bin_start": 0.12959128788000002,
            "bin_end": 0.16110901293500002,
            "count": 1
           },
           {
            "bin_start": 0.16110901293500002,
            "bin_end": 0.19262673799000002,
            "count": 0
           },
           {
            "bin_start": 0.19262673799000002,
            "bin_end": 0.22414446304500002,
            "count": 0
           },
           {
            "bin_start": 0.22414446304500002,
            "bin_end": 0.2556621881,
            "count": 1
           }
          ]
         }
        },
        {
         "name": "Category",
         "dtype": "object",
         "stats": {
          "unique_count": 11,
          "nan_count": 1,
          "categories": [
           {
            "name": "Grocery",
            "count": 7
           },
           {
            "name": "10 others",
            "count": 17
           },
           {
            "name": "Missing",
            "count": 1
           }
          ]
         }
        },
        {
         "name": "_deepnote_index_column",
         "dtype": "int64"
        }
       ],
       "rows": [
        {
         "Company": "Dollar Tree",
         "Sales": 21464,
         "Stores": 14250,
         "Sales/Avg. Store": 1.56391854,
         "Store Count Growth": 0.07962724449,
         "Category": "Dollar Stores",
         "_deepnote_index_column": 20
        },
        {
         "Company": "Dollar General",
         "Sales": 22234,
         "Stores": 13350,
         "Sales/Avg. Store": 1.768884999,
         "Store Count Growth": 0.1324115701,
         "Category": "Dollar Stores",
         "_deepnote_index_column": 19
        },
        {
         "Company": "CVS incl. Target",
         "Sales": 77792,
         "Stores": 9813,
         "Sales/Avg. Store": 8.825958702,
         "Store Count Growth": 0.2556621881,
         "Category": "Drug Stores",
         "_deepnote_index_column": 5
        },
        {
         "Company": "Walgreen Boots",
         "Sales": 78924,
         "Stores": 8002,
         "Sales/Avg. Store": 9.81092672,
         "Store Count Growth": -0.01051069618,
         "Category": "Drug Stores",
         "_deepnote_index_column": 4
        },
        {
         "Company": "Walmart US",
         "Sales": 658119,
         "Stores": 4574,
         "Sales/Avg. Store": 65.64972497,
         "Store Count Growth": 0.01284322409,
         "Category": "Supercenters",
         "_deepnote_index_column": 0
        },
        {
         "Company": "Rite Aid",
         "Sales": 27486,
         "Stores": 4553,
         "Sales/Avg. Store": 6.025649457,
         "Store Count Growth": -0.003719912473,
         "Category": "Drug Stores",
         "_deepnote_index_column": 14
        },
        {
         "Company": "Kroger",
         "Sales": 115037,
         "Stores": 3931,
         "Sales/Avg. Store": 30.03184963,
         "Store Count Growth": 0.05388739946,
         "Category": "Grocery",
         "_deepnote_index_column": 1
        },
        {
         "Company": "TJX",
         "Sales": 25012,
         "Stores": 2770,
         "Sales/Avg. Store": 9.369544859,
         "Store Count Growth": 0.07824056053,
         "Category": "Apparel",
         "_deepnote_index_column": 17
        },
        {
         "Company": "Albertsons",
         "Sales": 56829,
         "Stores": 2326,
         "Sales/Avg. Store": 23.87773109,
         "Store Count Growth": -0.04437140509,
         "Category": "Grocery",
         "_deepnote_index_column": 9
        },
        {
         "Company": "Aldi",
         "Sales": 24402,
         "Stores": 2021,
         "Sales/Avg. Store": 12.71599792,
         "Store Count Growth": 0.1122729774,
         "Category": "Grocery",
         "_deepnote_index_column": 18
        }
       ]
      },
      "text/plain": "               Company   Sales   Stores  Sales/Avg. Store  Store Count Growth  \\\n0           Walmart US  658119   4574.0         65.649725            0.012843   \n1               Kroger  115037   3931.0         30.031850            0.053887   \n2               Costco   90048    495.0        187.795620            0.066810   \n3           Home Depot   83976   1965.0         42.735878            0.000000   \n4       Walgreen Boots   78924   8002.0          9.810927           -0.010511   \n5     CVS incl. Target   77792   9813.0          8.825959            0.255662   \n6               Amazon   71687      NaN               NaN                 NaN   \n7               Target   71208   1772.0         39.982033           -0.010056   \n8               Lowe's   60311   1828.0         33.311792            0.019520   \n9           Albertsons   56829   2326.0         23.877731           -0.044371   \n10          Sam's Club   56828    655.0         87.293395            0.012365   \n11  Apple incl. Online   37664      NaN               NaN                 NaN   \n12            Best Buy   34980   1389.0         24.685956           -0.038754   \n13              Publix   34408   1351.0         25.997733            0.042438   \n14            Rite Aid   27486   4553.0          6.025649           -0.003720   \n15               Ahold   26903    794.0         34.446863            0.033854   \n16              Macy's   26028    889.0         30.442105            0.082826   \n17                 TJX   25012   2770.0          9.369545            0.078241   \n18                Aldi   24402   2021.0         12.715998            0.112273   \n19      Dollar General   22234  13350.0          1.768885            0.132412   \n20         Dollar Tree   21464  14250.0          1.563919            0.079627   \n21                 HEB   21384    323.0         66.825000            0.018927   \n22              Kohl's   19060   1169.0         16.353496            0.006024   \n23            Delhaize   18201   1280.0         13.783415           -0.059515   \n24              Meijer   16592    231.0         74.738739            0.084507   \n\n                 Category  \n0            Supercenters  \n1                 Grocery  \n2          Warehouse Club  \n3        Home Improvement  \n4             Drug Stores  \n5             Drug Stores  \n6   Electronic/Mail Order  \n7            Supercenters  \n8        Home Improvement  \n9                 Grocery  \n10        Warehouse Clubs  \n11                    NaN  \n12            Electronics  \n13                Grocery  \n14            Drug Stores  \n15                Grocery  \n16      Department Stores  \n17                Apparel  \n18                Grocery  \n19          Dollar Stores  \n20          Dollar Stores  \n21                Grocery  \n22      Department Stores  \n23                Grocery  \n24           Supercenters  ",
      "text/html": "<div>\n<style scoped>\n    .dataframe tbody tr th:only-of-type {\n        vertical-align: middle;\n    }\n\n    .dataframe tbody tr th {\n        vertical-align: top;\n    }\n\n    .dataframe thead th {\n        text-align: right;\n    }\n</style>\n<table border=\"1\" class=\"dataframe\">\n  <thead>\n    <tr style=\"text-align: right;\">\n      <th></th>\n      <th>Company</th>\n      <th>Sales</th>\n      <th>Stores</th>\n      <th>Sales/Avg. Store</th>\n      <th>Store Count Growth</th>\n      <th>Category</th>\n    </tr>\n  </thead>\n  <tbody>\n    <tr>\n      <th>0</th>\n      <td>Walmart US</td>\n      <td>658119</td>\n      <td>4574.0</td>\n      <td>65.649725</td>\n      <td>0.012843</td>\n      <td>Supercenters</td>\n    </tr>\n    <tr>\n      <th>1</th>\n      <td>Kroger</td>\n      <td>115037</td>\n      <td>3931.0</td>\n      <td>30.031850</td>\n      <td>0.053887</td>\n      <td>Grocery</td>\n    </tr>\n    <tr>\n      <th>2</th>\n      <td>Costco</td>\n      <td>90048</td>\n      <td>495.0</td>\n      <td>187.795620</td>\n      <td>0.066810</td>\n      <td>Warehouse Club</td>\n    </tr>\n    <tr>\n      <th>3</th>\n      <td>Home Depot</td>\n      <td>83976</td>\n      <td>1965.0</td>\n      <td>42.735878</td>\n      <td>0.000000</td>\n      <td>Home Improvement</td>\n    </tr>\n    <tr>\n      <th>4</th>\n      <td>Walgreen Boots</td>\n      <td>78924</td>\n      <td>8002.0</td>\n      <td>9.810927</td>\n      <td>-0.010511</td>\n      <td>Drug Stores</td>\n    </tr>\n    <tr>\n      <th>5</th>\n      <td>CVS incl. Target</td>\n      <td>77792</td>\n      <td>9813.0</td>\n      <td>8.825959</td>\n      <td>0.255662</td>\n      <td>Drug Stores</td>\n    </tr>\n    <tr>\n      <th>6</th>\n      <td>Amazon</td>\n      <td>71687</td>\n      <td>NaN</td>\n      <td>NaN</td>\n      <td>NaN</td>\n      <td>Electronic/Mail Order</td>\n    </tr>\n    <tr>\n      <th>7</th>\n      <td>Target</td>\n      <td>71208</td>\n      <td>1772.0</td>\n      <td>39.982033</td>\n      <td>-0.010056</td>\n      <td>Supercenters</td>\n    </tr>\n    <tr>\n      <th>8</th>\n      <td>Lowe's</td>\n      <td>60311</td>\n      <td>1828.0</td>\n      <td>33.311792</td>\n      <td>0.019520</td>\n      <td>Home Improvement</td>\n    </tr>\n    <tr>\n      <th>9</th>\n      <td>Albertsons</td>\n      <td>56829</td>\n      <td>2326.0</td>\n      <td>23.877731</td>\n      <td>-0.044371</td>\n      <td>Grocery</td>\n    </tr>\n    <tr>\n      <th>10</th>\n      <td>Sam's Club</td>\n      <td>56828</td>\n      <td>655.0</td>\n      <td>87.293395</td>\n      <td>0.012365</td>\n      <td>Warehouse Clubs</td>\n    </tr>\n    <tr>\n      <th>11</th>\n      <td>Apple incl. Online</td>\n      <td>37664</td>\n      <td>NaN</td>\n      <td>NaN</td>\n      <td>NaN</td>\n      <td>NaN</td>\n    </tr>\n    <tr>\n      <th>12</th>\n      <td>Best Buy</td>\n      <td>34980</td>\n      <td>1389.0</td>\n      <td>24.685956</td>\n      <td>-0.038754</td>\n      <td>Electronics</td>\n    </tr>\n    <tr>\n      <th>13</th>\n      <td>Publix</td>\n      <td>34408</td>\n      <td>1351.0</td>\n      <td>25.997733</td>\n      <td>0.042438</td>\n      <td>Grocery</td>\n    </tr>\n    <tr>\n      <th>14</th>\n      <td>Rite Aid</td>\n      <td>27486</td>\n      <td>4553.0</td>\n      <td>6.025649</td>\n      <td>-0.003720</td>\n      <td>Drug Stores</td>\n    </tr>\n    <tr>\n      <th>15</th>\n      <td>Ahold</td>\n      <td>26903</td>\n      <td>794.0</td>\n      <td>34.446863</td>\n      <td>0.033854</td>\n      <td>Grocery</td>\n    </tr>\n    <tr>\n      <th>16</th>\n      <td>Macy's</td>\n      <td>26028</td>\n      <td>889.0</td>\n      <td>30.442105</td>\n      <td>0.082826</td>\n      <td>Department Stores</td>\n    </tr>\n    <tr>\n      <th>17</th>\n      <td>TJX</td>\n      <td>25012</td>\n      <td>2770.0</td>\n      <td>9.369545</td>\n      <td>0.078241</td>\n      <td>Apparel</td>\n    </tr>\n    <tr>\n      <th>18</th>\n      <td>Aldi</td>\n      <td>24402</td>\n      <td>2021.0</td>\n      <td>12.715998</td>\n      <td>0.112273</td>\n      <td>Grocery</td>\n    </tr>\n    <tr>\n      <th>19</th>\n      <td>Dollar General</td>\n      <td>22234</td>\n      <td>13350.0</td>\n      <td>1.768885</td>\n      <td>0.132412</td>\n      <td>Dollar Stores</td>\n    </tr>\n    <tr>\n      <th>20</th>\n      <td>Dollar Tree</td>\n      <td>21464</td>\n      <td>14250.0</td>\n      <td>1.563919</td>\n      <td>0.079627</td>\n      <td>Dollar Stores</td>\n    </tr>\n    <tr>\n      <th>21</th>\n      <td>HEB</td>\n      <td>21384</td>\n      <td>323.0</td>\n      <td>66.825000</td>\n      <td>0.018927</td>\n      <td>Grocery</td>\n    </tr>\n    <tr>\n      <th>22</th>\n      <td>Kohl's</td>\n      <td>19060</td>\n      <td>1169.0</td>\n      <td>16.353496</td>\n      <td>0.006024</td>\n      <td>Department Stores</td>\n    </tr>\n    <tr>\n      <th>23</th>\n      <td>Delhaize</td>\n      <td>18201</td>\n      <td>1280.0</td>\n      <td>13.783415</td>\n      <td>-0.059515</td>\n      <td>Grocery</td>\n    </tr>\n    <tr>\n      <th>24</th>\n      <td>Meijer</td>\n      <td>16592</td>\n      <td>231.0</td>\n      <td>74.738739</td>\n      <td>0.084507</td>\n      <td>Supercenters</td>\n    </tr>\n  </tbody>\n</table>\n</div>"
     },
     "metadata": {}
    }
   ]
  },
  {
   "cell_type": "code",
   "metadata": {
    "cell_id": "063f3331-8c23-4b76-a343-8254db6eea84",
    "tags": [],
    "deepnote_to_be_reexecuted": false,
    "source_hash": "25d43fa0",
    "execution_start": 1645592493549,
    "execution_millis": 390,
    "deepnote_output_heights": [
     59.59375
    ],
    "deepnote_cell_height": 156.578125,
    "deepnote_app_coordinates": {
     "x": 0,
     "y": 19,
     "w": 19,
     "h": 7
    },
    "deepnote_cell_type": "code"
   },
   "source": "df.columns",
   "execution_count": 3,
   "outputs": [
    {
     "output_type": "execute_result",
     "execution_count": 3,
     "data": {
      "text/plain": "Index(['Company', 'Sales', 'Stores', 'Sales/Avg. Store', 'Store Count Growth',\n       'Category'],\n      dtype='object')"
     },
     "metadata": {}
    }
   ]
  },
  {
   "cell_type": "code",
   "metadata": {
    "cell_id": "f6fed690-674f-49db-bb51-0a6c3af13ae5",
    "tags": [],
    "deepnote_cell_height": 859,
    "deepnote_to_be_reexecuted": false,
    "source_hash": "8a14ab15",
    "execution_start": 1645592493566,
    "execution_millis": 376,
    "deepnote_output_heights": [
     546,
     21.1875
    ],
    "deepnote_app_coordinates": {
     "x": 0,
     "y": 27,
     "w": 19,
     "h": 34
    },
    "deepnote_cell_type": "code"
   },
   "source": "alt.Chart(df).mark_bar(color = '#ffacd9').encode(\n    x = alt.X('Sales', title = '', axis=alt.Axis(grid = False,labelFontSize=12,labels = False,ticks = False, domain = False)),\n    y = alt.Y('Company', title = '',sort = '-x', axis=alt.Axis(grid = False,labelFontSize=14)),\n    tooltip = [alt.Tooltip('Company',title = 'Company'),alt.Tooltip('Sales', title = 'Sales MUSD')]\n).configure_title(\n    fontSize = 18,\n    anchor = 'middle',\n    color = '#e4007c'\n).configure_view(\n    strokeWidth=0\n).properties (\n    title = 'Sales'\n)",
   "execution_count": 4,
   "outputs": [
    {
     "output_type": "execute_result",
     "execution_count": 4,
     "data": {
      "text/html": "\n<div id=\"altair-viz-b60f62cf2a8149a083b2aa59ebcb1335\"></div>\n<script type=\"text/javascript\">\n  (function(spec, embedOpt){\n    let outputDiv = document.currentScript.previousElementSibling;\n    if (outputDiv.id !== \"altair-viz-b60f62cf2a8149a083b2aa59ebcb1335\") {\n      outputDiv = document.getElementById(\"altair-viz-b60f62cf2a8149a083b2aa59ebcb1335\");\n    }\n    const paths = {\n      \"vega\": \"https://cdn.jsdelivr.net/npm//vega@5?noext\",\n      \"vega-lib\": \"https://cdn.jsdelivr.net/npm//vega-lib?noext\",\n      \"vega-lite\": \"https://cdn.jsdelivr.net/npm//vega-lite@4.8.1?noext\",\n      \"vega-embed\": \"https://cdn.jsdelivr.net/npm//vega-embed@6?noext\",\n    };\n\n    function loadScript(lib) {\n      return new Promise(function(resolve, reject) {\n        var s = document.createElement('script');\n        s.src = paths[lib];\n        s.async = true;\n        s.onload = () => resolve(paths[lib]);\n        s.onerror = () => reject(`Error loading script: ${paths[lib]}`);\n        document.getElementsByTagName(\"head\")[0].appendChild(s);\n      });\n    }\n\n    function showError(err) {\n      outputDiv.innerHTML = `<div class=\"error\" style=\"color:red;\">${err}</div>`;\n      throw err;\n    }\n\n    function displayChart(vegaEmbed) {\n      vegaEmbed(outputDiv, spec, embedOpt)\n        .catch(err => showError(`Javascript Error: ${err.message}<br>This usually means there's a typo in your chart specification. See the javascript console for the full traceback.`));\n    }\n\n    if(typeof define === \"function\" && define.amd) {\n      requirejs.config({paths});\n      require([\"vega-embed\"], displayChart, err => showError(`Error loading script: ${err.message}`));\n    } else if (typeof vegaEmbed === \"function\") {\n      displayChart(vegaEmbed);\n    } else {\n      loadScript(\"vega\")\n        .then(() => loadScript(\"vega-lite\"))\n        .then(() => loadScript(\"vega-embed\"))\n        .catch(showError)\n        .then(() => displayChart(vegaEmbed));\n    }\n  })({\"config\": {\"view\": {\"continuousWidth\": 400, \"continuousHeight\": 300, \"strokeWidth\": 0}, \"title\": {\"anchor\": \"middle\", \"color\": \"#e4007c\", \"fontSize\": 18}}, \"data\": {\"name\": \"data-0fbaf84e8f0f7d7f527747f9806e7599\"}, \"mark\": {\"type\": \"bar\", \"color\": \"#ffacd9\"}, \"encoding\": {\"tooltip\": [{\"type\": \"nominal\", \"field\": \"Company\", \"title\": \"Company\"}, {\"type\": \"quantitative\", \"field\": \"Sales\", \"title\": \"Sales MUSD\"}], \"x\": {\"type\": \"quantitative\", \"axis\": {\"domain\": false, \"grid\": false, \"labelFontSize\": 12, \"labels\": false, \"ticks\": false}, \"field\": \"Sales\", \"title\": \"\"}, \"y\": {\"type\": \"nominal\", \"axis\": {\"grid\": false, \"labelFontSize\": 14}, \"field\": \"Company\", \"sort\": \"-x\", \"title\": \"\"}}, \"title\": \"Sales\", \"$schema\": \"https://vega.github.io/schema/vega-lite/v4.8.1.json\", \"datasets\": {\"data-0fbaf84e8f0f7d7f527747f9806e7599\": [{\"Company\": \"Walmart US\", \"Sales\": 658119, \"Stores\": 4574.0, \"Sales/Avg. Store\": 65.64972497, \"Store Count Growth\": 0.01284322409, \"Category\": \"Supercenters\"}, {\"Company\": \"Kroger\", \"Sales\": 115037, \"Stores\": 3931.0, \"Sales/Avg. Store\": 30.03184963, \"Store Count Growth\": 0.05388739946, \"Category\": \"Grocery\"}, {\"Company\": \"Costco\", \"Sales\": 90048, \"Stores\": 495.0, \"Sales/Avg. Store\": 187.7956204, \"Store Count Growth\": 0.06681034483, \"Category\": \"Warehouse Club\"}, {\"Company\": \"Home Depot\", \"Sales\": 83976, \"Stores\": 1965.0, \"Sales/Avg. Store\": 42.73587786, \"Store Count Growth\": 0.0, \"Category\": \"Home Improvement\"}, {\"Company\": \"Walgreen Boots\", \"Sales\": 78924, \"Stores\": 8002.0, \"Sales/Avg. Store\": 9.81092672, \"Store Count Growth\": -0.01051069618, \"Category\": \"Drug Stores\"}, {\"Company\": \"CVS incl. Target\", \"Sales\": 77792, \"Stores\": 9813.0, \"Sales/Avg. Store\": 8.825958702, \"Store Count Growth\": 0.2556621881, \"Category\": \"Drug Stores\"}, {\"Company\": \"Amazon\", \"Sales\": 71687, \"Stores\": null, \"Sales/Avg. Store\": null, \"Store Count Growth\": null, \"Category\": \"Electronic/Mail Order\"}, {\"Company\": \"Target\", \"Sales\": 71208, \"Stores\": 1772.0, \"Sales/Avg. Store\": 39.98203257, \"Store Count Growth\": -0.01005586592, \"Category\": \"Supercenters\"}, {\"Company\": \"Lowe's\", \"Sales\": 60311, \"Stores\": 1828.0, \"Sales/Avg. Store\": 33.31179232, \"Store Count Growth\": 0.01952035694, \"Category\": \"Home Improvement\"}, {\"Company\": \"Albertsons\", \"Sales\": 56829, \"Stores\": 2326.0, \"Sales/Avg. Store\": 23.87773109, \"Store Count Growth\": -0.04437140509, \"Category\": \"Grocery\"}, {\"Company\": \"Sam's Club\", \"Sales\": 56828, \"Stores\": 655.0, \"Sales/Avg. Store\": 87.29339478, \"Store Count Growth\": 0.01236476043, \"Category\": \"Warehouse Clubs\"}, {\"Company\": \"Apple incl. Online\", \"Sales\": 37664, \"Stores\": null, \"Sales/Avg. Store\": null, \"Store Count Growth\": null, \"Category\": null}, {\"Company\": \"Best Buy\", \"Sales\": 34980, \"Stores\": 1389.0, \"Sales/Avg. Store\": 24.68595625, \"Store Count Growth\": -0.03875432526, \"Category\": \"Electronics\"}, {\"Company\": \"Publix\", \"Sales\": 34408, \"Stores\": 1351.0, \"Sales/Avg. Store\": 25.99773328, \"Store Count Growth\": 0.0424382716, \"Category\": \"Grocery\"}, {\"Company\": \"Rite Aid\", \"Sales\": 27486, \"Stores\": 4553.0, \"Sales/Avg. Store\": 6.025649457, \"Store Count Growth\": -0.003719912473, \"Category\": \"Drug Stores\"}, {\"Company\": \"Ahold\", \"Sales\": 26903, \"Stores\": 794.0, \"Sales/Avg. Store\": 34.446863, \"Store Count Growth\": 0.03385416667, \"Category\": \"Grocery\"}, {\"Company\": \"Macy's\", \"Sales\": 26028, \"Stores\": 889.0, \"Sales/Avg. Store\": 30.44210526, \"Store Count Growth\": 0.08282582217, \"Category\": \"Department Stores\"}, {\"Company\": \"TJX\", \"Sales\": 25012, \"Stores\": 2770.0, \"Sales/Avg. Store\": 9.369544859, \"Store Count Growth\": 0.07824056053, \"Category\": \"Apparel\"}, {\"Company\": \"Aldi\", \"Sales\": 24402, \"Stores\": 2021.0, \"Sales/Avg. Store\": 12.71599792, \"Store Count Growth\": 0.1122729774, \"Category\": \"Grocery\"}, {\"Company\": \"Dollar General\", \"Sales\": 22234, \"Stores\": 13350.0, \"Sales/Avg. Store\": 1.768884999, \"Store Count Growth\": 0.1324115701, \"Category\": \"Dollar Stores\"}, {\"Company\": \"Dollar Tree\", \"Sales\": 21464, \"Stores\": 14250.0, \"Sales/Avg. Store\": 1.56391854, \"Store Count Growth\": 0.07962724449, \"Category\": \"Dollar Stores\"}, {\"Company\": \"HEB\", \"Sales\": 21384, \"Stores\": 323.0, \"Sales/Avg. Store\": 66.825, \"Store Count Growth\": 0.01892744479, \"Category\": \"Grocery\"}, {\"Company\": \"Kohl's\", \"Sales\": 19060, \"Stores\": 1169.0, \"Sales/Avg. Store\": 16.35349635, \"Store Count Growth\": 0.006024096386, \"Category\": \"Department Stores\"}, {\"Company\": \"Delhaize\", \"Sales\": 18201, \"Stores\": 1280.0, \"Sales/Avg. Store\": 13.78341537, \"Store Count Growth\": -0.05951506245, \"Category\": \"Grocery\"}, {\"Company\": \"Meijer\", \"Sales\": 16592, \"Stores\": 231.0, \"Sales/Avg. Store\": 74.73873874, \"Store Count Growth\": 0.08450704225, \"Category\": \"Supercenters\"}]}}, {\"mode\": \"vega-lite\"});\n</script>",
      "text/plain": "alt.Chart(...)"
     },
     "metadata": {}
    }
   ]
  },
  {
   "cell_type": "markdown",
   "source": "## I. Preguntas del negocio",
   "metadata": {
    "cell_id": "cc141631-e246-41c7-a56b-ad74255d674f",
    "tags": [],
    "is_collapsed": false,
    "deepnote_cell_height": 70,
    "deepnote_cell_type": "text-cell-h2"
   }
  },
  {
   "cell_type": "markdown",
   "source": "### 1. ¿Cuál es el promedio de ventas sin contar a la compañía dominante?",
   "metadata": {
    "cell_id": "b919b92e-0df3-4f54-b093-c1db040bc4aa",
    "tags": [],
    "deepnote_cell_height": 94,
    "deepnote_app_coordinates": {
     "x": 0,
     "y": 62,
     "w": 19,
     "h": 3
    },
    "deepnote_cell_type": "markdown"
   }
  },
  {
   "cell_type": "markdown",
   "source": "Compañía dominante: **Walmart**",
   "metadata": {
    "cell_id": "af73c465-be3b-447f-9825-b997a57811bc",
    "tags": [],
    "deepnote_cell_height": 52.390625,
    "deepnote_app_coordinates": {
     "x": 0,
     "y": 65,
     "w": 12,
     "h": 2
    },
    "deepnote_cell_type": "markdown"
   }
  },
  {
   "cell_type": "code",
   "metadata": {
    "cell_id": "15fc88bd-f033-44f4-9f9b-e656d357e1d3",
    "tags": [],
    "deepnote_to_be_reexecuted": false,
    "source_hash": "b0d4e4e9",
    "execution_start": 1645592493655,
    "execution_millis": 288,
    "deepnote_cell_height": 1037,
    "deepnote_output_heights": [
     526,
     611,
     21.1875
    ],
    "deepnote_app_coordinates": {
     "x": 0,
     "y": 68,
     "w": 19,
     "h": 41
    },
    "deepnote_cell_type": "code"
   },
   "source": "# Quitar los datos de Walmart US para el cálculo del promedio\ncompanies = df[df['Company'] != 'Walmart US']\n\n# Visualizar el cambio en una gráfica\nbar = alt.Chart(companies).mark_bar(color = '#ff79c2').encode(\n    x = alt.X('Sales', title = '', axis=alt.Axis(grid = False,labelFontSize=12,labels = False,ticks = False, domain = False)),\n    y = alt.Y('Company', title = '', sort = '-x', axis=alt.Axis(grid = False,labelFontSize=14)),\n    tooltip = [alt.Tooltip('Company',title = 'Company'),alt.Tooltip('Sales', title = 'Sales MUSD')]\n)\n\nm = alt.Chart(companies).mark_rule(color = 'black').encode(\n    y = alt.Y('mean(Sales)',title = '',axis=alt.Axis(labels = False,ticks = False, domain = False)),\n    tooltip = [alt.Tooltip('mean(Sales)', title = 'mean MUSD')]\n)\n\n(bar + m).properties (\n    title = 'Sales'\n).configure_title(\n    fontSize = 18,\n    anchor = 'middle',\n    color = '#e4007c'\n).configure_view(\n    strokeWidth=0\n)",
   "execution_count": 5,
   "outputs": [
    {
     "output_type": "execute_result",
     "execution_count": 5,
     "data": {
      "text/html": "\n<div id=\"altair-viz-d1b971bceb8046da9370dee009f2b017\"></div>\n<script type=\"text/javascript\">\n  (function(spec, embedOpt){\n    let outputDiv = document.currentScript.previousElementSibling;\n    if (outputDiv.id !== \"altair-viz-d1b971bceb8046da9370dee009f2b017\") {\n      outputDiv = document.getElementById(\"altair-viz-d1b971bceb8046da9370dee009f2b017\");\n    }\n    const paths = {\n      \"vega\": \"https://cdn.jsdelivr.net/npm//vega@5?noext\",\n      \"vega-lib\": \"https://cdn.jsdelivr.net/npm//vega-lib?noext\",\n      \"vega-lite\": \"https://cdn.jsdelivr.net/npm//vega-lite@4.8.1?noext\",\n      \"vega-embed\": \"https://cdn.jsdelivr.net/npm//vega-embed@6?noext\",\n    };\n\n    function loadScript(lib) {\n      return new Promise(function(resolve, reject) {\n        var s = document.createElement('script');\n        s.src = paths[lib];\n        s.async = true;\n        s.onload = () => resolve(paths[lib]);\n        s.onerror = () => reject(`Error loading script: ${paths[lib]}`);\n        document.getElementsByTagName(\"head\")[0].appendChild(s);\n      });\n    }\n\n    function showError(err) {\n      outputDiv.innerHTML = `<div class=\"error\" style=\"color:red;\">${err}</div>`;\n      throw err;\n    }\n\n    function displayChart(vegaEmbed) {\n      vegaEmbed(outputDiv, spec, embedOpt)\n        .catch(err => showError(`Javascript Error: ${err.message}<br>This usually means there's a typo in your chart specification. See the javascript console for the full traceback.`));\n    }\n\n    if(typeof define === \"function\" && define.amd) {\n      requirejs.config({paths});\n      require([\"vega-embed\"], displayChart, err => showError(`Error loading script: ${err.message}`));\n    } else if (typeof vegaEmbed === \"function\") {\n      displayChart(vegaEmbed);\n    } else {\n      loadScript(\"vega\")\n        .then(() => loadScript(\"vega-lite\"))\n        .then(() => loadScript(\"vega-embed\"))\n        .catch(showError)\n        .then(() => displayChart(vegaEmbed));\n    }\n  })({\"config\": {\"view\": {\"continuousWidth\": 400, \"continuousHeight\": 300, \"strokeWidth\": 0}, \"title\": {\"anchor\": \"middle\", \"color\": \"#e4007c\", \"fontSize\": 18}}, \"layer\": [{\"mark\": {\"type\": \"bar\", \"color\": \"#ff79c2\"}, \"encoding\": {\"tooltip\": [{\"type\": \"nominal\", \"field\": \"Company\", \"title\": \"Company\"}, {\"type\": \"quantitative\", \"field\": \"Sales\", \"title\": \"Sales MUSD\"}], \"x\": {\"type\": \"quantitative\", \"axis\": {\"domain\": false, \"grid\": false, \"labelFontSize\": 12, \"labels\": false, \"ticks\": false}, \"field\": \"Sales\", \"title\": \"\"}, \"y\": {\"type\": \"nominal\", \"axis\": {\"grid\": false, \"labelFontSize\": 14}, \"field\": \"Company\", \"sort\": \"-x\", \"title\": \"\"}}}, {\"mark\": {\"type\": \"rule\", \"color\": \"black\"}, \"encoding\": {\"tooltip\": [{\"type\": \"quantitative\", \"aggregate\": \"mean\", \"field\": \"Sales\", \"title\": \"mean MUSD\"}], \"y\": {\"type\": \"quantitative\", \"aggregate\": \"mean\", \"axis\": {\"domain\": false, \"labels\": false, \"ticks\": false}, \"field\": \"Sales\", \"title\": \"\"}}}], \"data\": {\"name\": \"data-60c343d455ee5ec4c3cc19acc86c5583\"}, \"title\": \"Sales\", \"$schema\": \"https://vega.github.io/schema/vega-lite/v4.8.1.json\", \"datasets\": {\"data-60c343d455ee5ec4c3cc19acc86c5583\": [{\"Company\": \"Kroger\", \"Sales\": 115037, \"Stores\": 3931.0, \"Sales/Avg. Store\": 30.03184963, \"Store Count Growth\": 0.05388739946, \"Category\": \"Grocery\"}, {\"Company\": \"Costco\", \"Sales\": 90048, \"Stores\": 495.0, \"Sales/Avg. Store\": 187.7956204, \"Store Count Growth\": 0.06681034483, \"Category\": \"Warehouse Club\"}, {\"Company\": \"Home Depot\", \"Sales\": 83976, \"Stores\": 1965.0, \"Sales/Avg. Store\": 42.73587786, \"Store Count Growth\": 0.0, \"Category\": \"Home Improvement\"}, {\"Company\": \"Walgreen Boots\", \"Sales\": 78924, \"Stores\": 8002.0, \"Sales/Avg. Store\": 9.81092672, \"Store Count Growth\": -0.01051069618, \"Category\": \"Drug Stores\"}, {\"Company\": \"CVS incl. Target\", \"Sales\": 77792, \"Stores\": 9813.0, \"Sales/Avg. Store\": 8.825958702, \"Store Count Growth\": 0.2556621881, \"Category\": \"Drug Stores\"}, {\"Company\": \"Amazon\", \"Sales\": 71687, \"Stores\": null, \"Sales/Avg. Store\": null, \"Store Count Growth\": null, \"Category\": \"Electronic/Mail Order\"}, {\"Company\": \"Target\", \"Sales\": 71208, \"Stores\": 1772.0, \"Sales/Avg. Store\": 39.98203257, \"Store Count Growth\": -0.01005586592, \"Category\": \"Supercenters\"}, {\"Company\": \"Lowe's\", \"Sales\": 60311, \"Stores\": 1828.0, \"Sales/Avg. Store\": 33.31179232, \"Store Count Growth\": 0.01952035694, \"Category\": \"Home Improvement\"}, {\"Company\": \"Albertsons\", \"Sales\": 56829, \"Stores\": 2326.0, \"Sales/Avg. Store\": 23.87773109, \"Store Count Growth\": -0.04437140509, \"Category\": \"Grocery\"}, {\"Company\": \"Sam's Club\", \"Sales\": 56828, \"Stores\": 655.0, \"Sales/Avg. Store\": 87.29339478, \"Store Count Growth\": 0.01236476043, \"Category\": \"Warehouse Clubs\"}, {\"Company\": \"Apple incl. Online\", \"Sales\": 37664, \"Stores\": null, \"Sales/Avg. Store\": null, \"Store Count Growth\": null, \"Category\": null}, {\"Company\": \"Best Buy\", \"Sales\": 34980, \"Stores\": 1389.0, \"Sales/Avg. Store\": 24.68595625, \"Store Count Growth\": -0.03875432526, \"Category\": \"Electronics\"}, {\"Company\": \"Publix\", \"Sales\": 34408, \"Stores\": 1351.0, \"Sales/Avg. Store\": 25.99773328, \"Store Count Growth\": 0.0424382716, \"Category\": \"Grocery\"}, {\"Company\": \"Rite Aid\", \"Sales\": 27486, \"Stores\": 4553.0, \"Sales/Avg. Store\": 6.025649457, \"Store Count Growth\": -0.003719912473, \"Category\": \"Drug Stores\"}, {\"Company\": \"Ahold\", \"Sales\": 26903, \"Stores\": 794.0, \"Sales/Avg. Store\": 34.446863, \"Store Count Growth\": 0.03385416667, \"Category\": \"Grocery\"}, {\"Company\": \"Macy's\", \"Sales\": 26028, \"Stores\": 889.0, \"Sales/Avg. Store\": 30.44210526, \"Store Count Growth\": 0.08282582217, \"Category\": \"Department Stores\"}, {\"Company\": \"TJX\", \"Sales\": 25012, \"Stores\": 2770.0, \"Sales/Avg. Store\": 9.369544859, \"Store Count Growth\": 0.07824056053, \"Category\": \"Apparel\"}, {\"Company\": \"Aldi\", \"Sales\": 24402, \"Stores\": 2021.0, \"Sales/Avg. Store\": 12.71599792, \"Store Count Growth\": 0.1122729774, \"Category\": \"Grocery\"}, {\"Company\": \"Dollar General\", \"Sales\": 22234, \"Stores\": 13350.0, \"Sales/Avg. Store\": 1.768884999, \"Store Count Growth\": 0.1324115701, \"Category\": \"Dollar Stores\"}, {\"Company\": \"Dollar Tree\", \"Sales\": 21464, \"Stores\": 14250.0, \"Sales/Avg. Store\": 1.56391854, \"Store Count Growth\": 0.07962724449, \"Category\": \"Dollar Stores\"}, {\"Company\": \"HEB\", \"Sales\": 21384, \"Stores\": 323.0, \"Sales/Avg. Store\": 66.825, \"Store Count Growth\": 0.01892744479, \"Category\": \"Grocery\"}, {\"Company\": \"Kohl's\", \"Sales\": 19060, \"Stores\": 1169.0, \"Sales/Avg. Store\": 16.35349635, \"Store Count Growth\": 0.006024096386, \"Category\": \"Department Stores\"}, {\"Company\": \"Delhaize\", \"Sales\": 18201, \"Stores\": 1280.0, \"Sales/Avg. Store\": 13.78341537, \"Store Count Growth\": -0.05951506245, \"Category\": \"Grocery\"}, {\"Company\": \"Meijer\", \"Sales\": 16592, \"Stores\": 231.0, \"Sales/Avg. Store\": 74.73873874, \"Store Count Growth\": 0.08450704225, \"Category\": \"Supercenters\"}]}}, {\"mode\": \"vega-lite\"});\n</script>",
      "text/plain": "alt.LayerChart(...)"
     },
     "metadata": {}
    }
   ]
  },
  {
   "cell_type": "code",
   "metadata": {
    "cell_id": "448850e0-ead5-4585-9089-47bd2aa7ba51",
    "tags": [],
    "deepnote_cell_height": 136.1875,
    "deepnote_to_be_reexecuted": false,
    "source_hash": "31d4709f",
    "execution_start": 1645592493667,
    "execution_millis": 276,
    "deepnote_output_heights": [
     21.1875
    ],
    "deepnote_app_coordinates": {
     "x": 0,
     "y": 110,
     "w": 19,
     "h": 6
    },
    "deepnote_cell_type": "code"
   },
   "source": "meanCompanies = companies['Sales'].mean()\nmeanCompanies",
   "execution_count": 6,
   "outputs": [
    {
     "output_type": "execute_result",
     "execution_count": 6,
     "data": {
      "text/plain": "46602.416666666664"
     },
     "metadata": {}
    }
   ]
  },
  {
   "cell_type": "markdown",
   "source": "El promedio de ventas por compañía es **46,602.4167M USD** \n\nQuitar los valores de Walmart fue con el fin de poder tener un promedio más real entre las demás compañías y no tener valores sesgados por la gran diferencia en ventas que tiene esta, con el resto de las compañías.",
   "metadata": {
    "cell_id": "e7551e5c-6ca5-4dc6-8e5c-5bb16b3613f0",
    "tags": [],
    "deepnote_cell_height": 133.5625,
    "deepnote_app_coordinates": {
     "x": 0,
     "y": 117,
     "w": 19,
     "h": 5
    },
    "deepnote_cell_type": "markdown"
   }
  },
  {
   "cell_type": "markdown",
   "source": "### 2. ¿Cuánto dinero en ventas generó la mayoría de las compañías?",
   "metadata": {
    "cell_id": "1814847a-365e-4bae-9fb9-6bed9b874b37",
    "tags": [],
    "deepnote_cell_height": 94,
    "deepnote_app_coordinates": {
     "x": 0,
     "y": 123,
     "w": 19,
     "h": 3
    },
    "deepnote_cell_type": "markdown"
   }
  },
  {
   "cell_type": "code",
   "metadata": {
    "cell_id": "68640b12-e8a6-46bf-8d42-89b13ca32505",
    "tags": [],
    "deepnote_cell_height": 802,
    "deepnote_to_be_reexecuted": false,
    "source_hash": "1d9f0548",
    "execution_start": 1645592493711,
    "execution_millis": 233,
    "deepnote_output_heights": [
     363,
     21.1875
    ],
    "deepnote_app_coordinates": {
     "x": 0,
     "y": 127,
     "w": 19,
     "h": 32
    },
    "deepnote_cell_type": "code"
   },
   "source": "# Visualizar el cambio en una gráfica\nbar = alt.Chart(df).mark_bar(color = '#679997').encode(\n    x = alt.X('Sales:Q',bin=alt.Bin(maxbins=60),title = 'Sales [M USD]'),\n    y = alt.Y('count(Sales)', title = '',axis=alt.Axis(grid=False))\n)\n\nm = alt.Chart(df).mark_rule(color = 'black').encode(\n    x = alt.X('mean(Sales)',title = '',axis=alt.Axis(ticks = False, domain = False)),\n    tooltip = [alt.Tooltip('median(Sales)', title = 'median MUSD')]\n)\n\n(bar + m).properties (\n    title = 'Sales'\n).configure_title(\n    fontSize = 18,\n    anchor = 'middle',\n    color = '#679997'\n).configure_view(\n    strokeWidth=0\n)",
   "execution_count": 7,
   "outputs": [
    {
     "output_type": "execute_result",
     "execution_count": 7,
     "data": {
      "text/html": "\n<div id=\"altair-viz-fc3456bce6e74e39800a36697efa2b8a\"></div>\n<script type=\"text/javascript\">\n  (function(spec, embedOpt){\n    let outputDiv = document.currentScript.previousElementSibling;\n    if (outputDiv.id !== \"altair-viz-fc3456bce6e74e39800a36697efa2b8a\") {\n      outputDiv = document.getElementById(\"altair-viz-fc3456bce6e74e39800a36697efa2b8a\");\n    }\n    const paths = {\n      \"vega\": \"https://cdn.jsdelivr.net/npm//vega@5?noext\",\n      \"vega-lib\": \"https://cdn.jsdelivr.net/npm//vega-lib?noext\",\n      \"vega-lite\": \"https://cdn.jsdelivr.net/npm//vega-lite@4.8.1?noext\",\n      \"vega-embed\": \"https://cdn.jsdelivr.net/npm//vega-embed@6?noext\",\n    };\n\n    function loadScript(lib) {\n      return new Promise(function(resolve, reject) {\n        var s = document.createElement('script');\n        s.src = paths[lib];\n        s.async = true;\n        s.onload = () => resolve(paths[lib]);\n        s.onerror = () => reject(`Error loading script: ${paths[lib]}`);\n        document.getElementsByTagName(\"head\")[0].appendChild(s);\n      });\n    }\n\n    function showError(err) {\n      outputDiv.innerHTML = `<div class=\"error\" style=\"color:red;\">${err}</div>`;\n      throw err;\n    }\n\n    function displayChart(vegaEmbed) {\n      vegaEmbed(outputDiv, spec, embedOpt)\n        .catch(err => showError(`Javascript Error: ${err.message}<br>This usually means there's a typo in your chart specification. See the javascript console for the full traceback.`));\n    }\n\n    if(typeof define === \"function\" && define.amd) {\n      requirejs.config({paths});\n      require([\"vega-embed\"], displayChart, err => showError(`Error loading script: ${err.message}`));\n    } else if (typeof vegaEmbed === \"function\") {\n      displayChart(vegaEmbed);\n    } else {\n      loadScript(\"vega\")\n        .then(() => loadScript(\"vega-lite\"))\n        .then(() => loadScript(\"vega-embed\"))\n        .catch(showError)\n        .then(() => displayChart(vegaEmbed));\n    }\n  })({\"config\": {\"view\": {\"continuousWidth\": 400, \"continuousHeight\": 300, \"strokeWidth\": 0}, \"title\": {\"anchor\": \"middle\", \"color\": \"#679997\", \"fontSize\": 18}}, \"layer\": [{\"mark\": {\"type\": \"bar\", \"color\": \"#679997\"}, \"encoding\": {\"x\": {\"type\": \"quantitative\", \"bin\": {\"maxbins\": 60}, \"field\": \"Sales\", \"title\": \"Sales [M USD]\"}, \"y\": {\"type\": \"quantitative\", \"aggregate\": \"count\", \"axis\": {\"grid\": false}, \"field\": \"Sales\", \"title\": \"\"}}}, {\"mark\": {\"type\": \"rule\", \"color\": \"black\"}, \"encoding\": {\"tooltip\": [{\"type\": \"quantitative\", \"aggregate\": \"median\", \"field\": \"Sales\", \"title\": \"median MUSD\"}], \"x\": {\"type\": \"quantitative\", \"aggregate\": \"mean\", \"axis\": {\"domain\": false, \"ticks\": false}, \"field\": \"Sales\", \"title\": \"\"}}}], \"data\": {\"name\": \"data-0fbaf84e8f0f7d7f527747f9806e7599\"}, \"title\": \"Sales\", \"$schema\": \"https://vega.github.io/schema/vega-lite/v4.8.1.json\", \"datasets\": {\"data-0fbaf84e8f0f7d7f527747f9806e7599\": [{\"Company\": \"Walmart US\", \"Sales\": 658119, \"Stores\": 4574.0, \"Sales/Avg. Store\": 65.64972497, \"Store Count Growth\": 0.01284322409, \"Category\": \"Supercenters\"}, {\"Company\": \"Kroger\", \"Sales\": 115037, \"Stores\": 3931.0, \"Sales/Avg. Store\": 30.03184963, \"Store Count Growth\": 0.05388739946, \"Category\": \"Grocery\"}, {\"Company\": \"Costco\", \"Sales\": 90048, \"Stores\": 495.0, \"Sales/Avg. Store\": 187.7956204, \"Store Count Growth\": 0.06681034483, \"Category\": \"Warehouse Club\"}, {\"Company\": \"Home Depot\", \"Sales\": 83976, \"Stores\": 1965.0, \"Sales/Avg. Store\": 42.73587786, \"Store Count Growth\": 0.0, \"Category\": \"Home Improvement\"}, {\"Company\": \"Walgreen Boots\", \"Sales\": 78924, \"Stores\": 8002.0, \"Sales/Avg. Store\": 9.81092672, \"Store Count Growth\": -0.01051069618, \"Category\": \"Drug Stores\"}, {\"Company\": \"CVS incl. Target\", \"Sales\": 77792, \"Stores\": 9813.0, \"Sales/Avg. Store\": 8.825958702, \"Store Count Growth\": 0.2556621881, \"Category\": \"Drug Stores\"}, {\"Company\": \"Amazon\", \"Sales\": 71687, \"Stores\": null, \"Sales/Avg. Store\": null, \"Store Count Growth\": null, \"Category\": \"Electronic/Mail Order\"}, {\"Company\": \"Target\", \"Sales\": 71208, \"Stores\": 1772.0, \"Sales/Avg. Store\": 39.98203257, \"Store Count Growth\": -0.01005586592, \"Category\": \"Supercenters\"}, {\"Company\": \"Lowe's\", \"Sales\": 60311, \"Stores\": 1828.0, \"Sales/Avg. Store\": 33.31179232, \"Store Count Growth\": 0.01952035694, \"Category\": \"Home Improvement\"}, {\"Company\": \"Albertsons\", \"Sales\": 56829, \"Stores\": 2326.0, \"Sales/Avg. Store\": 23.87773109, \"Store Count Growth\": -0.04437140509, \"Category\": \"Grocery\"}, {\"Company\": \"Sam's Club\", \"Sales\": 56828, \"Stores\": 655.0, \"Sales/Avg. Store\": 87.29339478, \"Store Count Growth\": 0.01236476043, \"Category\": \"Warehouse Clubs\"}, {\"Company\": \"Apple incl. Online\", \"Sales\": 37664, \"Stores\": null, \"Sales/Avg. Store\": null, \"Store Count Growth\": null, \"Category\": null}, {\"Company\": \"Best Buy\", \"Sales\": 34980, \"Stores\": 1389.0, \"Sales/Avg. Store\": 24.68595625, \"Store Count Growth\": -0.03875432526, \"Category\": \"Electronics\"}, {\"Company\": \"Publix\", \"Sales\": 34408, \"Stores\": 1351.0, \"Sales/Avg. Store\": 25.99773328, \"Store Count Growth\": 0.0424382716, \"Category\": \"Grocery\"}, {\"Company\": \"Rite Aid\", \"Sales\": 27486, \"Stores\": 4553.0, \"Sales/Avg. Store\": 6.025649457, \"Store Count Growth\": -0.003719912473, \"Category\": \"Drug Stores\"}, {\"Company\": \"Ahold\", \"Sales\": 26903, \"Stores\": 794.0, \"Sales/Avg. Store\": 34.446863, \"Store Count Growth\": 0.03385416667, \"Category\": \"Grocery\"}, {\"Company\": \"Macy's\", \"Sales\": 26028, \"Stores\": 889.0, \"Sales/Avg. Store\": 30.44210526, \"Store Count Growth\": 0.08282582217, \"Category\": \"Department Stores\"}, {\"Company\": \"TJX\", \"Sales\": 25012, \"Stores\": 2770.0, \"Sales/Avg. Store\": 9.369544859, \"Store Count Growth\": 0.07824056053, \"Category\": \"Apparel\"}, {\"Company\": \"Aldi\", \"Sales\": 24402, \"Stores\": 2021.0, \"Sales/Avg. Store\": 12.71599792, \"Store Count Growth\": 0.1122729774, \"Category\": \"Grocery\"}, {\"Company\": \"Dollar General\", \"Sales\": 22234, \"Stores\": 13350.0, \"Sales/Avg. Store\": 1.768884999, \"Store Count Growth\": 0.1324115701, \"Category\": \"Dollar Stores\"}, {\"Company\": \"Dollar Tree\", \"Sales\": 21464, \"Stores\": 14250.0, \"Sales/Avg. Store\": 1.56391854, \"Store Count Growth\": 0.07962724449, \"Category\": \"Dollar Stores\"}, {\"Company\": \"HEB\", \"Sales\": 21384, \"Stores\": 323.0, \"Sales/Avg. Store\": 66.825, \"Store Count Growth\": 0.01892744479, \"Category\": \"Grocery\"}, {\"Company\": \"Kohl's\", \"Sales\": 19060, \"Stores\": 1169.0, \"Sales/Avg. Store\": 16.35349635, \"Store Count Growth\": 0.006024096386, \"Category\": \"Department Stores\"}, {\"Company\": \"Delhaize\", \"Sales\": 18201, \"Stores\": 1280.0, \"Sales/Avg. Store\": 13.78341537, \"Store Count Growth\": -0.05951506245, \"Category\": \"Grocery\"}, {\"Company\": \"Meijer\", \"Sales\": 16592, \"Stores\": 231.0, \"Sales/Avg. Store\": 74.73873874, \"Store Count Growth\": 0.08450704225, \"Category\": \"Supercenters\"}]}}, {\"mode\": \"vega-lite\"});\n</script>",
      "text/plain": "alt.LayerChart(...)"
     },
     "metadata": {}
    }
   ]
  },
  {
   "cell_type": "code",
   "metadata": {
    "cell_id": "7c7057cc-813b-4f93-8826-caed6cc738f9",
    "tags": [],
    "deepnote_to_be_reexecuted": false,
    "source_hash": "c4344c20",
    "deepnote_cell_height": 136.1875,
    "execution_start": 1645592493764,
    "execution_millis": 180,
    "deepnote_output_heights": [
     21.1875
    ],
    "deepnote_app_coordinates": {
     "x": 0,
     "y": 160,
     "w": 19,
     "h": 6
    },
    "deepnote_cell_type": "code"
   },
   "source": "medianSales = df['Sales'].median()\nmedianSales",
   "execution_count": 8,
   "outputs": [
    {
     "output_type": "execute_result",
     "execution_count": 8,
     "data": {
      "text/plain": "34980.0"
     },
     "metadata": {}
    }
   ]
  },
  {
   "cell_type": "markdown",
   "source": "Todas las compañías vendieron **1,776,577M USD**.\n\nSe puede observar en la tabla que la mayoría de las compañías vendió en un rango de 20mil millones a 40mil millones, lo cuál se ajusta al resultado que dió la media de **34,980M USD**\n\nPara visualizar mejor el comportamiento de las compañías en la gráfica, se muestra el histograma sin los valores de Walmart US con la media total de incluyéndola.",
   "metadata": {
    "cell_id": "dc7fe2cd-4445-42c3-b4b6-eec3cde7b08e",
    "tags": [],
    "deepnote_cell_height": 111.1875,
    "deepnote_app_coordinates": {
     "x": 0,
     "y": 167,
     "w": 19,
     "h": 6
    },
    "deepnote_cell_type": "markdown"
   }
  },
  {
   "cell_type": "code",
   "metadata": {
    "cell_id": "d5adb34a-064b-4f19-ae7b-d5c882c58103",
    "tags": [],
    "deepnote_cell_height": 784,
    "deepnote_to_be_reexecuted": false,
    "source_hash": "48fbdbd3",
    "execution_start": 1645592493765,
    "execution_millis": 180,
    "deepnote_output_heights": [
     363
    ],
    "deepnote_app_coordinates": {
     "x": 0,
     "y": 174,
     "w": 19,
     "h": 32
    },
    "deepnote_cell_type": "code"
   },
   "source": "bar = alt.Chart(companies).mark_bar(color = '#9ae5e2').encode(\n    x = alt.X('Sales:Q',bin=alt.Bin(maxbins=10),title = 'Sales [M USD]'),\n    y = alt.Y('count(Sales)', title = '',axis=alt.Axis(grid=False))\n)\n\nm = alt.Chart(df).mark_rule(color = 'black').encode(\n    x = alt.X('mean(Sales)',title = '',axis=alt.Axis(ticks = False, domain = False)),\n    tooltip = [alt.Tooltip('median(Sales)', title = 'median (all data)')]\n)\n\n(bar + m).properties (\n    title = 'Sales'\n).configure_title(\n    fontSize = 18,\n    anchor = 'middle',\n    color = '#679997'\n).configure_view(\n    strokeWidth=0\n)",
   "execution_count": 9,
   "outputs": [
    {
     "output_type": "execute_result",
     "execution_count": 9,
     "data": {
      "text/html": "\n<div id=\"altair-viz-6e4cf58e2f4b4082a87f1171b46d83ff\"></div>\n<script type=\"text/javascript\">\n  (function(spec, embedOpt){\n    let outputDiv = document.currentScript.previousElementSibling;\n    if (outputDiv.id !== \"altair-viz-6e4cf58e2f4b4082a87f1171b46d83ff\") {\n      outputDiv = document.getElementById(\"altair-viz-6e4cf58e2f4b4082a87f1171b46d83ff\");\n    }\n    const paths = {\n      \"vega\": \"https://cdn.jsdelivr.net/npm//vega@5?noext\",\n      \"vega-lib\": \"https://cdn.jsdelivr.net/npm//vega-lib?noext\",\n      \"vega-lite\": \"https://cdn.jsdelivr.net/npm//vega-lite@4.8.1?noext\",\n      \"vega-embed\": \"https://cdn.jsdelivr.net/npm//vega-embed@6?noext\",\n    };\n\n    function loadScript(lib) {\n      return new Promise(function(resolve, reject) {\n        var s = document.createElement('script');\n        s.src = paths[lib];\n        s.async = true;\n        s.onload = () => resolve(paths[lib]);\n        s.onerror = () => reject(`Error loading script: ${paths[lib]}`);\n        document.getElementsByTagName(\"head\")[0].appendChild(s);\n      });\n    }\n\n    function showError(err) {\n      outputDiv.innerHTML = `<div class=\"error\" style=\"color:red;\">${err}</div>`;\n      throw err;\n    }\n\n    function displayChart(vegaEmbed) {\n      vegaEmbed(outputDiv, spec, embedOpt)\n        .catch(err => showError(`Javascript Error: ${err.message}<br>This usually means there's a typo in your chart specification. See the javascript console for the full traceback.`));\n    }\n\n    if(typeof define === \"function\" && define.amd) {\n      requirejs.config({paths});\n      require([\"vega-embed\"], displayChart, err => showError(`Error loading script: ${err.message}`));\n    } else if (typeof vegaEmbed === \"function\") {\n      displayChart(vegaEmbed);\n    } else {\n      loadScript(\"vega\")\n        .then(() => loadScript(\"vega-lite\"))\n        .then(() => loadScript(\"vega-embed\"))\n        .catch(showError)\n        .then(() => displayChart(vegaEmbed));\n    }\n  })({\"config\": {\"view\": {\"continuousWidth\": 400, \"continuousHeight\": 300, \"strokeWidth\": 0}, \"title\": {\"anchor\": \"middle\", \"color\": \"#679997\", \"fontSize\": 18}}, \"layer\": [{\"data\": {\"name\": \"data-60c343d455ee5ec4c3cc19acc86c5583\"}, \"mark\": {\"type\": \"bar\", \"color\": \"#9ae5e2\"}, \"encoding\": {\"x\": {\"type\": \"quantitative\", \"bin\": {\"maxbins\": 10}, \"field\": \"Sales\", \"title\": \"Sales [M USD]\"}, \"y\": {\"type\": \"quantitative\", \"aggregate\": \"count\", \"axis\": {\"grid\": false}, \"field\": \"Sales\", \"title\": \"\"}}}, {\"data\": {\"name\": \"data-0fbaf84e8f0f7d7f527747f9806e7599\"}, \"mark\": {\"type\": \"rule\", \"color\": \"black\"}, \"encoding\": {\"tooltip\": [{\"type\": \"quantitative\", \"aggregate\": \"median\", \"field\": \"Sales\", \"title\": \"median (all data)\"}], \"x\": {\"type\": \"quantitative\", \"aggregate\": \"mean\", \"axis\": {\"domain\": false, \"ticks\": false}, \"field\": \"Sales\", \"title\": \"\"}}}], \"title\": \"Sales\", \"$schema\": \"https://vega.github.io/schema/vega-lite/v4.8.1.json\", \"datasets\": {\"data-60c343d455ee5ec4c3cc19acc86c5583\": [{\"Company\": \"Kroger\", \"Sales\": 115037, \"Stores\": 3931.0, \"Sales/Avg. Store\": 30.03184963, \"Store Count Growth\": 0.05388739946, \"Category\": \"Grocery\"}, {\"Company\": \"Costco\", \"Sales\": 90048, \"Stores\": 495.0, \"Sales/Avg. Store\": 187.7956204, \"Store Count Growth\": 0.06681034483, \"Category\": \"Warehouse Club\"}, {\"Company\": \"Home Depot\", \"Sales\": 83976, \"Stores\": 1965.0, \"Sales/Avg. Store\": 42.73587786, \"Store Count Growth\": 0.0, \"Category\": \"Home Improvement\"}, {\"Company\": \"Walgreen Boots\", \"Sales\": 78924, \"Stores\": 8002.0, \"Sales/Avg. Store\": 9.81092672, \"Store Count Growth\": -0.01051069618, \"Category\": \"Drug Stores\"}, {\"Company\": \"CVS incl. Target\", \"Sales\": 77792, \"Stores\": 9813.0, \"Sales/Avg. Store\": 8.825958702, \"Store Count Growth\": 0.2556621881, \"Category\": \"Drug Stores\"}, {\"Company\": \"Amazon\", \"Sales\": 71687, \"Stores\": null, \"Sales/Avg. Store\": null, \"Store Count Growth\": null, \"Category\": \"Electronic/Mail Order\"}, {\"Company\": \"Target\", \"Sales\": 71208, \"Stores\": 1772.0, \"Sales/Avg. Store\": 39.98203257, \"Store Count Growth\": -0.01005586592, \"Category\": \"Supercenters\"}, {\"Company\": \"Lowe's\", \"Sales\": 60311, \"Stores\": 1828.0, \"Sales/Avg. Store\": 33.31179232, \"Store Count Growth\": 0.01952035694, \"Category\": \"Home Improvement\"}, {\"Company\": \"Albertsons\", \"Sales\": 56829, \"Stores\": 2326.0, \"Sales/Avg. Store\": 23.87773109, \"Store Count Growth\": -0.04437140509, \"Category\": \"Grocery\"}, {\"Company\": \"Sam's Club\", \"Sales\": 56828, \"Stores\": 655.0, \"Sales/Avg. Store\": 87.29339478, \"Store Count Growth\": 0.01236476043, \"Category\": \"Warehouse Clubs\"}, {\"Company\": \"Apple incl. Online\", \"Sales\": 37664, \"Stores\": null, \"Sales/Avg. Store\": null, \"Store Count Growth\": null, \"Category\": null}, {\"Company\": \"Best Buy\", \"Sales\": 34980, \"Stores\": 1389.0, \"Sales/Avg. Store\": 24.68595625, \"Store Count Growth\": -0.03875432526, \"Category\": \"Electronics\"}, {\"Company\": \"Publix\", \"Sales\": 34408, \"Stores\": 1351.0, \"Sales/Avg. Store\": 25.99773328, \"Store Count Growth\": 0.0424382716, \"Category\": \"Grocery\"}, {\"Company\": \"Rite Aid\", \"Sales\": 27486, \"Stores\": 4553.0, \"Sales/Avg. Store\": 6.025649457, \"Store Count Growth\": -0.003719912473, \"Category\": \"Drug Stores\"}, {\"Company\": \"Ahold\", \"Sales\": 26903, \"Stores\": 794.0, \"Sales/Avg. Store\": 34.446863, \"Store Count Growth\": 0.03385416667, \"Category\": \"Grocery\"}, {\"Company\": \"Macy's\", \"Sales\": 26028, \"Stores\": 889.0, \"Sales/Avg. Store\": 30.44210526, \"Store Count Growth\": 0.08282582217, \"Category\": \"Department Stores\"}, {\"Company\": \"TJX\", \"Sales\": 25012, \"Stores\": 2770.0, \"Sales/Avg. Store\": 9.369544859, \"Store Count Growth\": 0.07824056053, \"Category\": \"Apparel\"}, {\"Company\": \"Aldi\", \"Sales\": 24402, \"Stores\": 2021.0, \"Sales/Avg. Store\": 12.71599792, \"Store Count Growth\": 0.1122729774, \"Category\": \"Grocery\"}, {\"Company\": \"Dollar General\", \"Sales\": 22234, \"Stores\": 13350.0, \"Sales/Avg. Store\": 1.768884999, \"Store Count Growth\": 0.1324115701, \"Category\": \"Dollar Stores\"}, {\"Company\": \"Dollar Tree\", \"Sales\": 21464, \"Stores\": 14250.0, \"Sales/Avg. Store\": 1.56391854, \"Store Count Growth\": 0.07962724449, \"Category\": \"Dollar Stores\"}, {\"Company\": \"HEB\", \"Sales\": 21384, \"Stores\": 323.0, \"Sales/Avg. Store\": 66.825, \"Store Count Growth\": 0.01892744479, \"Category\": \"Grocery\"}, {\"Company\": \"Kohl's\", \"Sales\": 19060, \"Stores\": 1169.0, \"Sales/Avg. Store\": 16.35349635, \"Store Count Growth\": 0.006024096386, \"Category\": \"Department Stores\"}, {\"Company\": \"Delhaize\", \"Sales\": 18201, \"Stores\": 1280.0, \"Sales/Avg. Store\": 13.78341537, \"Store Count Growth\": -0.05951506245, \"Category\": \"Grocery\"}, {\"Company\": \"Meijer\", \"Sales\": 16592, \"Stores\": 231.0, \"Sales/Avg. Store\": 74.73873874, \"Store Count Growth\": 0.08450704225, \"Category\": \"Supercenters\"}], \"data-0fbaf84e8f0f7d7f527747f9806e7599\": [{\"Company\": \"Walmart US\", \"Sales\": 658119, \"Stores\": 4574.0, \"Sales/Avg. Store\": 65.64972497, \"Store Count Growth\": 0.01284322409, \"Category\": \"Supercenters\"}, {\"Company\": \"Kroger\", \"Sales\": 115037, \"Stores\": 3931.0, \"Sales/Avg. Store\": 30.03184963, \"Store Count Growth\": 0.05388739946, \"Category\": \"Grocery\"}, {\"Company\": \"Costco\", \"Sales\": 90048, \"Stores\": 495.0, \"Sales/Avg. Store\": 187.7956204, \"Store Count Growth\": 0.06681034483, \"Category\": \"Warehouse Club\"}, {\"Company\": \"Home Depot\", \"Sales\": 83976, \"Stores\": 1965.0, \"Sales/Avg. Store\": 42.73587786, \"Store Count Growth\": 0.0, \"Category\": \"Home Improvement\"}, {\"Company\": \"Walgreen Boots\", \"Sales\": 78924, \"Stores\": 8002.0, \"Sales/Avg. Store\": 9.81092672, \"Store Count Growth\": -0.01051069618, \"Category\": \"Drug Stores\"}, {\"Company\": \"CVS incl. Target\", \"Sales\": 77792, \"Stores\": 9813.0, \"Sales/Avg. Store\": 8.825958702, \"Store Count Growth\": 0.2556621881, \"Category\": \"Drug Stores\"}, {\"Company\": \"Amazon\", \"Sales\": 71687, \"Stores\": null, \"Sales/Avg. Store\": null, \"Store Count Growth\": null, \"Category\": \"Electronic/Mail Order\"}, {\"Company\": \"Target\", \"Sales\": 71208, \"Stores\": 1772.0, \"Sales/Avg. Store\": 39.98203257, \"Store Count Growth\": -0.01005586592, \"Category\": \"Supercenters\"}, {\"Company\": \"Lowe's\", \"Sales\": 60311, \"Stores\": 1828.0, \"Sales/Avg. Store\": 33.31179232, \"Store Count Growth\": 0.01952035694, \"Category\": \"Home Improvement\"}, {\"Company\": \"Albertsons\", \"Sales\": 56829, \"Stores\": 2326.0, \"Sales/Avg. Store\": 23.87773109, \"Store Count Growth\": -0.04437140509, \"Category\": \"Grocery\"}, {\"Company\": \"Sam's Club\", \"Sales\": 56828, \"Stores\": 655.0, \"Sales/Avg. Store\": 87.29339478, \"Store Count Growth\": 0.01236476043, \"Category\": \"Warehouse Clubs\"}, {\"Company\": \"Apple incl. Online\", \"Sales\": 37664, \"Stores\": null, \"Sales/Avg. Store\": null, \"Store Count Growth\": null, \"Category\": null}, {\"Company\": \"Best Buy\", \"Sales\": 34980, \"Stores\": 1389.0, \"Sales/Avg. Store\": 24.68595625, \"Store Count Growth\": -0.03875432526, \"Category\": \"Electronics\"}, {\"Company\": \"Publix\", \"Sales\": 34408, \"Stores\": 1351.0, \"Sales/Avg. Store\": 25.99773328, \"Store Count Growth\": 0.0424382716, \"Category\": \"Grocery\"}, {\"Company\": \"Rite Aid\", \"Sales\": 27486, \"Stores\": 4553.0, \"Sales/Avg. Store\": 6.025649457, \"Store Count Growth\": -0.003719912473, \"Category\": \"Drug Stores\"}, {\"Company\": \"Ahold\", \"Sales\": 26903, \"Stores\": 794.0, \"Sales/Avg. Store\": 34.446863, \"Store Count Growth\": 0.03385416667, \"Category\": \"Grocery\"}, {\"Company\": \"Macy's\", \"Sales\": 26028, \"Stores\": 889.0, \"Sales/Avg. Store\": 30.44210526, \"Store Count Growth\": 0.08282582217, \"Category\": \"Department Stores\"}, {\"Company\": \"TJX\", \"Sales\": 25012, \"Stores\": 2770.0, \"Sales/Avg. Store\": 9.369544859, \"Store Count Growth\": 0.07824056053, \"Category\": \"Apparel\"}, {\"Company\": \"Aldi\", \"Sales\": 24402, \"Stores\": 2021.0, \"Sales/Avg. Store\": 12.71599792, \"Store Count Growth\": 0.1122729774, \"Category\": \"Grocery\"}, {\"Company\": \"Dollar General\", \"Sales\": 22234, \"Stores\": 13350.0, \"Sales/Avg. Store\": 1.768884999, \"Store Count Growth\": 0.1324115701, \"Category\": \"Dollar Stores\"}, {\"Company\": \"Dollar Tree\", \"Sales\": 21464, \"Stores\": 14250.0, \"Sales/Avg. Store\": 1.56391854, \"Store Count Growth\": 0.07962724449, \"Category\": \"Dollar Stores\"}, {\"Company\": \"HEB\", \"Sales\": 21384, \"Stores\": 323.0, \"Sales/Avg. Store\": 66.825, \"Store Count Growth\": 0.01892744479, \"Category\": \"Grocery\"}, {\"Company\": \"Kohl's\", \"Sales\": 19060, \"Stores\": 1169.0, \"Sales/Avg. Store\": 16.35349635, \"Store Count Growth\": 0.006024096386, \"Category\": \"Department Stores\"}, {\"Company\": \"Delhaize\", \"Sales\": 18201, \"Stores\": 1280.0, \"Sales/Avg. Store\": 13.78341537, \"Store Count Growth\": -0.05951506245, \"Category\": \"Grocery\"}, {\"Company\": \"Meijer\", \"Sales\": 16592, \"Stores\": 231.0, \"Sales/Avg. Store\": 74.73873874, \"Store Count Growth\": 0.08450704225, \"Category\": \"Supercenters\"}]}}, {\"mode\": \"vega-lite\"});\n</script>",
      "text/plain": "alt.LayerChart(...)"
     },
     "metadata": {}
    }
   ]
  },
  {
   "cell_type": "markdown",
   "source": "### 3. ¿Cuántas tiendas tiene la mayoría de las compañías?",
   "metadata": {
    "cell_id": "9801295a-a27d-48af-ae87-c653cabd8f67",
    "tags": [],
    "deepnote_cell_height": 94,
    "deepnote_app_coordinates": {
     "x": 0,
     "y": 207,
     "w": 19,
     "h": 3
    },
    "deepnote_cell_type": "markdown"
   }
  },
  {
   "cell_type": "code",
   "metadata": {
    "cell_id": "f1760aa2-2552-4abb-aa02-51b61b9448da",
    "tags": [],
    "deepnote_cell_height": 162.1875,
    "deepnote_to_be_reexecuted": false,
    "source_hash": "a8562d55",
    "execution_start": 1645592493789,
    "execution_millis": 156,
    "deepnote_output_heights": [
     21.1875,
     505
    ],
    "deepnote_app_coordinates": {
     "x": 0,
     "y": 210,
     "w": 19,
     "h": 24
    },
    "deepnote_cell_type": "code"
   },
   "source": "alt.Chart(df).mark_bar(color = 'skyblue').encode(\n    x = alt.X('Stores:Q', title='Sales [M USD]',bin=alt.Bin(maxbins=10), axis=alt.Axis(domain = False)),\n    y = alt.Y('count()', title='', axis=alt.Axis(grid=False, domain=False, ticks = False, )),\n    tooltip = [alt.Tooltip('count()', title='Companies')]\n).configure_view(\n    strokeWidth=0\n).properties (\n    title = 'Stores'\n)",
   "execution_count": 10,
   "outputs": [
    {
     "output_type": "execute_result",
     "execution_count": 10,
     "data": {
      "text/html": "\n<div id=\"altair-viz-267c68de0087436b8ca707e51cd660b7\"></div>\n<script type=\"text/javascript\">\n  (function(spec, embedOpt){\n    let outputDiv = document.currentScript.previousElementSibling;\n    if (outputDiv.id !== \"altair-viz-267c68de0087436b8ca707e51cd660b7\") {\n      outputDiv = document.getElementById(\"altair-viz-267c68de0087436b8ca707e51cd660b7\");\n    }\n    const paths = {\n      \"vega\": \"https://cdn.jsdelivr.net/npm//vega@5?noext\",\n      \"vega-lib\": \"https://cdn.jsdelivr.net/npm//vega-lib?noext\",\n      \"vega-lite\": \"https://cdn.jsdelivr.net/npm//vega-lite@4.8.1?noext\",\n      \"vega-embed\": \"https://cdn.jsdelivr.net/npm//vega-embed@6?noext\",\n    };\n\n    function loadScript(lib) {\n      return new Promise(function(resolve, reject) {\n        var s = document.createElement('script');\n        s.src = paths[lib];\n        s.async = true;\n        s.onload = () => resolve(paths[lib]);\n        s.onerror = () => reject(`Error loading script: ${paths[lib]}`);\n        document.getElementsByTagName(\"head\")[0].appendChild(s);\n      });\n    }\n\n    function showError(err) {\n      outputDiv.innerHTML = `<div class=\"error\" style=\"color:red;\">${err}</div>`;\n      throw err;\n    }\n\n    function displayChart(vegaEmbed) {\n      vegaEmbed(outputDiv, spec, embedOpt)\n        .catch(err => showError(`Javascript Error: ${err.message}<br>This usually means there's a typo in your chart specification. See the javascript console for the full traceback.`));\n    }\n\n    if(typeof define === \"function\" && define.amd) {\n      requirejs.config({paths});\n      require([\"vega-embed\"], displayChart, err => showError(`Error loading script: ${err.message}`));\n    } else if (typeof vegaEmbed === \"function\") {\n      displayChart(vegaEmbed);\n    } else {\n      loadScript(\"vega\")\n        .then(() => loadScript(\"vega-lite\"))\n        .then(() => loadScript(\"vega-embed\"))\n        .catch(showError)\n        .then(() => displayChart(vegaEmbed));\n    }\n  })({\"config\": {\"view\": {\"continuousWidth\": 400, \"continuousHeight\": 300, \"strokeWidth\": 0}}, \"data\": {\"name\": \"data-0fbaf84e8f0f7d7f527747f9806e7599\"}, \"mark\": {\"type\": \"bar\", \"color\": \"skyblue\"}, \"encoding\": {\"tooltip\": [{\"type\": \"quantitative\", \"aggregate\": \"count\", \"title\": \"Companies\"}], \"x\": {\"type\": \"quantitative\", \"axis\": {\"domain\": false}, \"bin\": {\"maxbins\": 10}, \"field\": \"Stores\", \"title\": \"Sales [M USD]\"}, \"y\": {\"type\": \"quantitative\", \"aggregate\": \"count\", \"axis\": {\"domain\": false, \"grid\": false, \"ticks\": false}, \"title\": \"\"}}, \"title\": \"Stores\", \"$schema\": \"https://vega.github.io/schema/vega-lite/v4.8.1.json\", \"datasets\": {\"data-0fbaf84e8f0f7d7f527747f9806e7599\": [{\"Company\": \"Walmart US\", \"Sales\": 658119, \"Stores\": 4574.0, \"Sales/Avg. Store\": 65.64972497, \"Store Count Growth\": 0.01284322409, \"Category\": \"Supercenters\"}, {\"Company\": \"Kroger\", \"Sales\": 115037, \"Stores\": 3931.0, \"Sales/Avg. Store\": 30.03184963, \"Store Count Growth\": 0.05388739946, \"Category\": \"Grocery\"}, {\"Company\": \"Costco\", \"Sales\": 90048, \"Stores\": 495.0, \"Sales/Avg. Store\": 187.7956204, \"Store Count Growth\": 0.06681034483, \"Category\": \"Warehouse Club\"}, {\"Company\": \"Home Depot\", \"Sales\": 83976, \"Stores\": 1965.0, \"Sales/Avg. Store\": 42.73587786, \"Store Count Growth\": 0.0, \"Category\": \"Home Improvement\"}, {\"Company\": \"Walgreen Boots\", \"Sales\": 78924, \"Stores\": 8002.0, \"Sales/Avg. Store\": 9.81092672, \"Store Count Growth\": -0.01051069618, \"Category\": \"Drug Stores\"}, {\"Company\": \"CVS incl. Target\", \"Sales\": 77792, \"Stores\": 9813.0, \"Sales/Avg. Store\": 8.825958702, \"Store Count Growth\": 0.2556621881, \"Category\": \"Drug Stores\"}, {\"Company\": \"Amazon\", \"Sales\": 71687, \"Stores\": null, \"Sales/Avg. Store\": null, \"Store Count Growth\": null, \"Category\": \"Electronic/Mail Order\"}, {\"Company\": \"Target\", \"Sales\": 71208, \"Stores\": 1772.0, \"Sales/Avg. Store\": 39.98203257, \"Store Count Growth\": -0.01005586592, \"Category\": \"Supercenters\"}, {\"Company\": \"Lowe's\", \"Sales\": 60311, \"Stores\": 1828.0, \"Sales/Avg. Store\": 33.31179232, \"Store Count Growth\": 0.01952035694, \"Category\": \"Home Improvement\"}, {\"Company\": \"Albertsons\", \"Sales\": 56829, \"Stores\": 2326.0, \"Sales/Avg. Store\": 23.87773109, \"Store Count Growth\": -0.04437140509, \"Category\": \"Grocery\"}, {\"Company\": \"Sam's Club\", \"Sales\": 56828, \"Stores\": 655.0, \"Sales/Avg. Store\": 87.29339478, \"Store Count Growth\": 0.01236476043, \"Category\": \"Warehouse Clubs\"}, {\"Company\": \"Apple incl. Online\", \"Sales\": 37664, \"Stores\": null, \"Sales/Avg. Store\": null, \"Store Count Growth\": null, \"Category\": null}, {\"Company\": \"Best Buy\", \"Sales\": 34980, \"Stores\": 1389.0, \"Sales/Avg. Store\": 24.68595625, \"Store Count Growth\": -0.03875432526, \"Category\": \"Electronics\"}, {\"Company\": \"Publix\", \"Sales\": 34408, \"Stores\": 1351.0, \"Sales/Avg. Store\": 25.99773328, \"Store Count Growth\": 0.0424382716, \"Category\": \"Grocery\"}, {\"Company\": \"Rite Aid\", \"Sales\": 27486, \"Stores\": 4553.0, \"Sales/Avg. Store\": 6.025649457, \"Store Count Growth\": -0.003719912473, \"Category\": \"Drug Stores\"}, {\"Company\": \"Ahold\", \"Sales\": 26903, \"Stores\": 794.0, \"Sales/Avg. Store\": 34.446863, \"Store Count Growth\": 0.03385416667, \"Category\": \"Grocery\"}, {\"Company\": \"Macy's\", \"Sales\": 26028, \"Stores\": 889.0, \"Sales/Avg. Store\": 30.44210526, \"Store Count Growth\": 0.08282582217, \"Category\": \"Department Stores\"}, {\"Company\": \"TJX\", \"Sales\": 25012, \"Stores\": 2770.0, \"Sales/Avg. Store\": 9.369544859, \"Store Count Growth\": 0.07824056053, \"Category\": \"Apparel\"}, {\"Company\": \"Aldi\", \"Sales\": 24402, \"Stores\": 2021.0, \"Sales/Avg. Store\": 12.71599792, \"Store Count Growth\": 0.1122729774, \"Category\": \"Grocery\"}, {\"Company\": \"Dollar General\", \"Sales\": 22234, \"Stores\": 13350.0, \"Sales/Avg. Store\": 1.768884999, \"Store Count Growth\": 0.1324115701, \"Category\": \"Dollar Stores\"}, {\"Company\": \"Dollar Tree\", \"Sales\": 21464, \"Stores\": 14250.0, \"Sales/Avg. Store\": 1.56391854, \"Store Count Growth\": 0.07962724449, \"Category\": \"Dollar Stores\"}, {\"Company\": \"HEB\", \"Sales\": 21384, \"Stores\": 323.0, \"Sales/Avg. Store\": 66.825, \"Store Count Growth\": 0.01892744479, \"Category\": \"Grocery\"}, {\"Company\": \"Kohl's\", \"Sales\": 19060, \"Stores\": 1169.0, \"Sales/Avg. Store\": 16.35349635, \"Store Count Growth\": 0.006024096386, \"Category\": \"Department Stores\"}, {\"Company\": \"Delhaize\", \"Sales\": 18201, \"Stores\": 1280.0, \"Sales/Avg. Store\": 13.78341537, \"Store Count Growth\": -0.05951506245, \"Category\": \"Grocery\"}, {\"Company\": \"Meijer\", \"Sales\": 16592, \"Stores\": 231.0, \"Sales/Avg. Store\": 74.73873874, \"Store Count Growth\": 0.08450704225, \"Category\": \"Supercenters\"}]}}, {\"mode\": \"vega-lite\"});\n</script>",
      "text/plain": "alt.Chart(...)"
     },
     "metadata": {}
    }
   ]
  },
  {
   "cell_type": "code",
   "metadata": {
    "cell_id": "57b386e3-67a6-4096-aad6-f2aa22036121",
    "tags": [],
    "deepnote_cell_height": 136.1875,
    "deepnote_to_be_reexecuted": false,
    "source_hash": "61478ec7",
    "execution_start": 1645592493824,
    "execution_millis": 122,
    "deepnote_output_heights": [
     21.1875
    ],
    "deepnote_cell_type": "code"
   },
   "source": "medianStores = df['Stores'].median()\nmedianStores",
   "execution_count": 11,
   "outputs": [
    {
     "output_type": "execute_result",
     "execution_count": 11,
     "data": {
      "text/plain": "1828.0"
     },
     "metadata": {}
    }
   ]
  },
  {
   "cell_type": "markdown",
   "source": "La gráfica muestra que la mayoría de las compañias tiene alrededor de dos mil tiendas. Lo cual se respalda en la mediana que es de **1828** tiendas.",
   "metadata": {
    "cell_id": "fdbc3a62-01ef-4799-9e66-0ecaa7862bd3",
    "tags": [],
    "deepnote_cell_height": 74.796875,
    "deepnote_app_coordinates": {
     "x": 0,
     "y": 235,
     "w": 19,
     "h": 3
    },
    "deepnote_cell_type": "markdown"
   }
  },
  {
   "cell_type": "markdown",
   "source": "### 4. ¿La cantidad de tiendas está relacionada con la cantidad de ventas? Es decir, ¿si una empresa tiene más tiendas tendrá más dinero de ventas?",
   "metadata": {
    "cell_id": "c9b5de28-cd12-4088-9bc0-93df660401f3",
    "tags": [],
    "deepnote_cell_height": 126,
    "deepnote_app_coordinates": {
     "x": 0,
     "y": 238,
     "w": 19,
     "h": 4
    },
    "deepnote_cell_type": "markdown"
   }
  },
  {
   "cell_type": "code",
   "metadata": {
    "cell_id": "72dda234-6fca-477e-a088-99682e9766a2",
    "tags": [],
    "deepnote_to_be_reexecuted": false,
    "source_hash": "38f46703",
    "deepnote_cell_height": 81,
    "execution_start": 1645592493834,
    "execution_millis": 113,
    "deepnote_app_coordinates": {
     "x": 0,
     "y": 243,
     "w": 19,
     "h": 40
    },
    "deepnote_cell_type": "code"
   },
   "source": "sel = pts = alt.selection(type = 'single')\n\nstores = alt.Chart(df).mark_bar().encode(\n    x = alt.X('Sales', title = '', axis=alt.Axis(grid = False,labelFontSize=12,labels = False,ticks = False, domain = False)),\n    y = alt.Y('Company', title = 'Sales', sort='-x', axis=alt.Axis(grid = False,labelFontSize=14,titleAnchor='start',titleAngle=0,titleFontSize=20, titleColor='#e4007c')),\n    tooltip = [alt.Tooltip('Company',title = 'Company'),alt.Tooltip('Sales', title = 'Sales MUSD'),alt.Tooltip('Stores',title='Stores')],\n    color = alt.condition(pts, alt.ColorValue(\"#ffacd9\"), alt.ColorValue(\"grey\"))\n).add_selection(pts)\n\nsales = alt.Chart(df).mark_bar(color = 'skyblue').encode(\n    x = alt.X('Stores', title = '', axis=alt.Axis(grid = False,labelFontSize=12,labels = False,ticks = False, domain = False)),\n    y = alt.Y('Company', title = 'Stores', sort='-x', axis=alt.Axis(grid = False,labelFontSize=14,titleAnchor='start',titleAngle=0,titleFontSize=20, titleColor='steelblue')),\n    tooltip = [alt.Tooltip('Company',title = 'Company'),alt.Tooltip('Sales', title = 'Sales MUSD'),alt.Tooltip('Stores',title='Stores')],\n    color = alt.condition(pts, alt.ColorValue(\"skyblue\"), alt.ColorValue(\"grey\"))\n).add_selection(pts)\n\n(stores | sales ).configure_view(\n    strokeWidth=0\n)",
   "execution_count": 12,
   "outputs": [
    {
     "output_type": "execute_result",
     "execution_count": 12,
     "data": {
      "text/html": "\n<div id=\"altair-viz-bfe3bffb09364621b9fedf1fd1f5234b\"></div>\n<script type=\"text/javascript\">\n  (function(spec, embedOpt){\n    let outputDiv = document.currentScript.previousElementSibling;\n    if (outputDiv.id !== \"altair-viz-bfe3bffb09364621b9fedf1fd1f5234b\") {\n      outputDiv = document.getElementById(\"altair-viz-bfe3bffb09364621b9fedf1fd1f5234b\");\n    }\n    const paths = {\n      \"vega\": \"https://cdn.jsdelivr.net/npm//vega@5?noext\",\n      \"vega-lib\": \"https://cdn.jsdelivr.net/npm//vega-lib?noext\",\n      \"vega-lite\": \"https://cdn.jsdelivr.net/npm//vega-lite@4.8.1?noext\",\n      \"vega-embed\": \"https://cdn.jsdelivr.net/npm//vega-embed@6?noext\",\n    };\n\n    function loadScript(lib) {\n      return new Promise(function(resolve, reject) {\n        var s = document.createElement('script');\n        s.src = paths[lib];\n        s.async = true;\n        s.onload = () => resolve(paths[lib]);\n        s.onerror = () => reject(`Error loading script: ${paths[lib]}`);\n        document.getElementsByTagName(\"head\")[0].appendChild(s);\n      });\n    }\n\n    function showError(err) {\n      outputDiv.innerHTML = `<div class=\"error\" style=\"color:red;\">${err}</div>`;\n      throw err;\n    }\n\n    function displayChart(vegaEmbed) {\n      vegaEmbed(outputDiv, spec, embedOpt)\n        .catch(err => showError(`Javascript Error: ${err.message}<br>This usually means there's a typo in your chart specification. See the javascript console for the full traceback.`));\n    }\n\n    if(typeof define === \"function\" && define.amd) {\n      requirejs.config({paths});\n      require([\"vega-embed\"], displayChart, err => showError(`Error loading script: ${err.message}`));\n    } else if (typeof vegaEmbed === \"function\") {\n      displayChart(vegaEmbed);\n    } else {\n      loadScript(\"vega\")\n        .then(() => loadScript(\"vega-lite\"))\n        .then(() => loadScript(\"vega-embed\"))\n        .catch(showError)\n        .then(() => displayChart(vegaEmbed));\n    }\n  })({\"config\": {\"view\": {\"continuousWidth\": 400, \"continuousHeight\": 300, \"strokeWidth\": 0}}, \"hconcat\": [{\"mark\": \"bar\", \"encoding\": {\"color\": {\"condition\": {\"value\": \"#ffacd9\", \"selection\": \"selector001\"}, \"value\": \"grey\"}, \"tooltip\": [{\"type\": \"nominal\", \"field\": \"Company\", \"title\": \"Company\"}, {\"type\": \"quantitative\", \"field\": \"Sales\", \"title\": \"Sales MUSD\"}, {\"type\": \"quantitative\", \"field\": \"Stores\", \"title\": \"Stores\"}], \"x\": {\"type\": \"quantitative\", \"axis\": {\"domain\": false, \"grid\": false, \"labelFontSize\": 12, \"labels\": false, \"ticks\": false}, \"field\": \"Sales\", \"title\": \"\"}, \"y\": {\"type\": \"nominal\", \"axis\": {\"grid\": false, \"labelFontSize\": 14, \"titleAnchor\": \"start\", \"titleAngle\": 0, \"titleColor\": \"#e4007c\", \"titleFontSize\": 20}, \"field\": \"Company\", \"sort\": \"-x\", \"title\": \"Sales\"}}, \"selection\": {\"selector001\": {\"type\": \"single\"}}}, {\"mark\": {\"type\": \"bar\", \"color\": \"skyblue\"}, \"encoding\": {\"color\": {\"condition\": {\"value\": \"skyblue\", \"selection\": \"selector001\"}, \"value\": \"grey\"}, \"tooltip\": [{\"type\": \"nominal\", \"field\": \"Company\", \"title\": \"Company\"}, {\"type\": \"quantitative\", \"field\": \"Sales\", \"title\": \"Sales MUSD\"}, {\"type\": \"quantitative\", \"field\": \"Stores\", \"title\": \"Stores\"}], \"x\": {\"type\": \"quantitative\", \"axis\": {\"domain\": false, \"grid\": false, \"labelFontSize\": 12, \"labels\": false, \"ticks\": false}, \"field\": \"Stores\", \"title\": \"\"}, \"y\": {\"type\": \"nominal\", \"axis\": {\"grid\": false, \"labelFontSize\": 14, \"titleAnchor\": \"start\", \"titleAngle\": 0, \"titleColor\": \"steelblue\", \"titleFontSize\": 20}, \"field\": \"Company\", \"sort\": \"-x\", \"title\": \"Stores\"}}, \"selection\": {\"selector001\": {\"type\": \"single\"}}}], \"data\": {\"name\": \"data-0fbaf84e8f0f7d7f527747f9806e7599\"}, \"$schema\": \"https://vega.github.io/schema/vega-lite/v4.8.1.json\", \"datasets\": {\"data-0fbaf84e8f0f7d7f527747f9806e7599\": [{\"Company\": \"Walmart US\", \"Sales\": 658119, \"Stores\": 4574.0, \"Sales/Avg. Store\": 65.64972497, \"Store Count Growth\": 0.01284322409, \"Category\": \"Supercenters\"}, {\"Company\": \"Kroger\", \"Sales\": 115037, \"Stores\": 3931.0, \"Sales/Avg. Store\": 30.03184963, \"Store Count Growth\": 0.05388739946, \"Category\": \"Grocery\"}, {\"Company\": \"Costco\", \"Sales\": 90048, \"Stores\": 495.0, \"Sales/Avg. Store\": 187.7956204, \"Store Count Growth\": 0.06681034483, \"Category\": \"Warehouse Club\"}, {\"Company\": \"Home Depot\", \"Sales\": 83976, \"Stores\": 1965.0, \"Sales/Avg. Store\": 42.73587786, \"Store Count Growth\": 0.0, \"Category\": \"Home Improvement\"}, {\"Company\": \"Walgreen Boots\", \"Sales\": 78924, \"Stores\": 8002.0, \"Sales/Avg. Store\": 9.81092672, \"Store Count Growth\": -0.01051069618, \"Category\": \"Drug Stores\"}, {\"Company\": \"CVS incl. Target\", \"Sales\": 77792, \"Stores\": 9813.0, \"Sales/Avg. Store\": 8.825958702, \"Store Count Growth\": 0.2556621881, \"Category\": \"Drug Stores\"}, {\"Company\": \"Amazon\", \"Sales\": 71687, \"Stores\": null, \"Sales/Avg. Store\": null, \"Store Count Growth\": null, \"Category\": \"Electronic/Mail Order\"}, {\"Company\": \"Target\", \"Sales\": 71208, \"Stores\": 1772.0, \"Sales/Avg. Store\": 39.98203257, \"Store Count Growth\": -0.01005586592, \"Category\": \"Supercenters\"}, {\"Company\": \"Lowe's\", \"Sales\": 60311, \"Stores\": 1828.0, \"Sales/Avg. Store\": 33.31179232, \"Store Count Growth\": 0.01952035694, \"Category\": \"Home Improvement\"}, {\"Company\": \"Albertsons\", \"Sales\": 56829, \"Stores\": 2326.0, \"Sales/Avg. Store\": 23.87773109, \"Store Count Growth\": -0.04437140509, \"Category\": \"Grocery\"}, {\"Company\": \"Sam's Club\", \"Sales\": 56828, \"Stores\": 655.0, \"Sales/Avg. Store\": 87.29339478, \"Store Count Growth\": 0.01236476043, \"Category\": \"Warehouse Clubs\"}, {\"Company\": \"Apple incl. Online\", \"Sales\": 37664, \"Stores\": null, \"Sales/Avg. Store\": null, \"Store Count Growth\": null, \"Category\": null}, {\"Company\": \"Best Buy\", \"Sales\": 34980, \"Stores\": 1389.0, \"Sales/Avg. Store\": 24.68595625, \"Store Count Growth\": -0.03875432526, \"Category\": \"Electronics\"}, {\"Company\": \"Publix\", \"Sales\": 34408, \"Stores\": 1351.0, \"Sales/Avg. Store\": 25.99773328, \"Store Count Growth\": 0.0424382716, \"Category\": \"Grocery\"}, {\"Company\": \"Rite Aid\", \"Sales\": 27486, \"Stores\": 4553.0, \"Sales/Avg. Store\": 6.025649457, \"Store Count Growth\": -0.003719912473, \"Category\": \"Drug Stores\"}, {\"Company\": \"Ahold\", \"Sales\": 26903, \"Stores\": 794.0, \"Sales/Avg. Store\": 34.446863, \"Store Count Growth\": 0.03385416667, \"Category\": \"Grocery\"}, {\"Company\": \"Macy's\", \"Sales\": 26028, \"Stores\": 889.0, \"Sales/Avg. Store\": 30.44210526, \"Store Count Growth\": 0.08282582217, \"Category\": \"Department Stores\"}, {\"Company\": \"TJX\", \"Sales\": 25012, \"Stores\": 2770.0, \"Sales/Avg. Store\": 9.369544859, \"Store Count Growth\": 0.07824056053, \"Category\": \"Apparel\"}, {\"Company\": \"Aldi\", \"Sales\": 24402, \"Stores\": 2021.0, \"Sales/Avg. Store\": 12.71599792, \"Store Count Growth\": 0.1122729774, \"Category\": \"Grocery\"}, {\"Company\": \"Dollar General\", \"Sales\": 22234, \"Stores\": 13350.0, \"Sales/Avg. Store\": 1.768884999, \"Store Count Growth\": 0.1324115701, \"Category\": \"Dollar Stores\"}, {\"Company\": \"Dollar Tree\", \"Sales\": 21464, \"Stores\": 14250.0, \"Sales/Avg. Store\": 1.56391854, \"Store Count Growth\": 0.07962724449, \"Category\": \"Dollar Stores\"}, {\"Company\": \"HEB\", \"Sales\": 21384, \"Stores\": 323.0, \"Sales/Avg. Store\": 66.825, \"Store Count Growth\": 0.01892744479, \"Category\": \"Grocery\"}, {\"Company\": \"Kohl's\", \"Sales\": 19060, \"Stores\": 1169.0, \"Sales/Avg. Store\": 16.35349635, \"Store Count Growth\": 0.006024096386, \"Category\": \"Department Stores\"}, {\"Company\": \"Delhaize\", \"Sales\": 18201, \"Stores\": 1280.0, \"Sales/Avg. Store\": 13.78341537, \"Store Count Growth\": -0.05951506245, \"Category\": \"Grocery\"}, {\"Company\": \"Meijer\", \"Sales\": 16592, \"Stores\": 231.0, \"Sales/Avg. Store\": 74.73873874, \"Store Count Growth\": 0.08450704225, \"Category\": \"Supercenters\"}]}}, {\"mode\": \"vega-lite\"});\n</script>",
      "text/plain": "alt.HConcatChart(...)"
     },
     "metadata": {}
    }
   ]
  },
  {
   "cell_type": "code",
   "metadata": {
    "cell_id": "ab9dad19-1770-4a2d-90e9-100b7e785dff",
    "tags": [],
    "deepnote_to_be_reexecuted": false,
    "source_hash": "90e92728",
    "execution_start": 1645592646423,
    "execution_millis": 45,
    "deepnote_cell_type": "code"
   },
   "source": "alt.Chart(df).mark_bar().encode(\n    x = alt.X('Sales', title = '', axis=alt.Axis(grid = False,labelFontSize=12)),\n    y = alt.Y('Stores', title = '', sort='-x', axis=alt.Axis(grid = False,labelFontSize=14,titleAngle=0,titleFontSize=18)),\n    tooltip = [alt.Tooltip('Company',title = 'Company'),alt.Tooltip('Sales', title = 'Sales MUSD'),alt.Tooltip('Stores',title='Stores')],\n    color = alt.condition(\n        alt.datum.Stores,\n        alt.ColorValue(\"steelblue\"),\n        alt.ColorValue(\"orange\"))\n).configure_view(\n    strokeWidth=0\n)",
   "execution_count": 27,
   "outputs": [
    {
     "output_type": "execute_result",
     "execution_count": 27,
     "data": {
      "text/html": "\n<div id=\"altair-viz-0931b9a953354734aa8fd3cf3434c1e9\"></div>\n<script type=\"text/javascript\">\n  (function(spec, embedOpt){\n    let outputDiv = document.currentScript.previousElementSibling;\n    if (outputDiv.id !== \"altair-viz-0931b9a953354734aa8fd3cf3434c1e9\") {\n      outputDiv = document.getElementById(\"altair-viz-0931b9a953354734aa8fd3cf3434c1e9\");\n    }\n    const paths = {\n      \"vega\": \"https://cdn.jsdelivr.net/npm//vega@5?noext\",\n      \"vega-lib\": \"https://cdn.jsdelivr.net/npm//vega-lib?noext\",\n      \"vega-lite\": \"https://cdn.jsdelivr.net/npm//vega-lite@4.8.1?noext\",\n      \"vega-embed\": \"https://cdn.jsdelivr.net/npm//vega-embed@6?noext\",\n    };\n\n    function loadScript(lib) {\n      return new Promise(function(resolve, reject) {\n        var s = document.createElement('script');\n        s.src = paths[lib];\n        s.async = true;\n        s.onload = () => resolve(paths[lib]);\n        s.onerror = () => reject(`Error loading script: ${paths[lib]}`);\n        document.getElementsByTagName(\"head\")[0].appendChild(s);\n      });\n    }\n\n    function showError(err) {\n      outputDiv.innerHTML = `<div class=\"error\" style=\"color:red;\">${err}</div>`;\n      throw err;\n    }\n\n    function displayChart(vegaEmbed) {\n      vegaEmbed(outputDiv, spec, embedOpt)\n        .catch(err => showError(`Javascript Error: ${err.message}<br>This usually means there's a typo in your chart specification. See the javascript console for the full traceback.`));\n    }\n\n    if(typeof define === \"function\" && define.amd) {\n      requirejs.config({paths});\n      require([\"vega-embed\"], displayChart, err => showError(`Error loading script: ${err.message}`));\n    } else if (typeof vegaEmbed === \"function\") {\n      displayChart(vegaEmbed);\n    } else {\n      loadScript(\"vega\")\n        .then(() => loadScript(\"vega-lite\"))\n        .then(() => loadScript(\"vega-embed\"))\n        .catch(showError)\n        .then(() => displayChart(vegaEmbed));\n    }\n  })({\"config\": {\"view\": {\"continuousWidth\": 400, \"continuousHeight\": 300, \"strokeWidth\": 0}}, \"data\": {\"name\": \"data-0fbaf84e8f0f7d7f527747f9806e7599\"}, \"mark\": \"bar\", \"encoding\": {\"color\": {\"condition\": {\"value\": \"steelblue\", \"test\": \"datum.Stores\"}, \"value\": \"orange\"}, \"tooltip\": [{\"type\": \"nominal\", \"field\": \"Company\", \"title\": \"Company\"}, {\"type\": \"quantitative\", \"field\": \"Sales\", \"title\": \"Sales MUSD\"}, {\"type\": \"quantitative\", \"field\": \"Stores\", \"title\": \"Stores\"}], \"x\": {\"type\": \"quantitative\", \"axis\": {\"grid\": false, \"labelFontSize\": 12}, \"field\": \"Sales\", \"title\": \"\"}, \"y\": {\"type\": \"quantitative\", \"axis\": {\"grid\": false, \"labelFontSize\": 14, \"titleAngle\": 0, \"titleFontSize\": 18}, \"field\": \"Stores\", \"sort\": \"-x\", \"title\": \"\"}}, \"$schema\": \"https://vega.github.io/schema/vega-lite/v4.8.1.json\", \"datasets\": {\"data-0fbaf84e8f0f7d7f527747f9806e7599\": [{\"Company\": \"Walmart US\", \"Sales\": 658119, \"Stores\": 4574.0, \"Sales/Avg. Store\": 65.64972497, \"Store Count Growth\": 0.01284322409, \"Category\": \"Supercenters\"}, {\"Company\": \"Kroger\", \"Sales\": 115037, \"Stores\": 3931.0, \"Sales/Avg. Store\": 30.03184963, \"Store Count Growth\": 0.05388739946, \"Category\": \"Grocery\"}, {\"Company\": \"Costco\", \"Sales\": 90048, \"Stores\": 495.0, \"Sales/Avg. Store\": 187.7956204, \"Store Count Growth\": 0.06681034483, \"Category\": \"Warehouse Club\"}, {\"Company\": \"Home Depot\", \"Sales\": 83976, \"Stores\": 1965.0, \"Sales/Avg. Store\": 42.73587786, \"Store Count Growth\": 0.0, \"Category\": \"Home Improvement\"}, {\"Company\": \"Walgreen Boots\", \"Sales\": 78924, \"Stores\": 8002.0, \"Sales/Avg. Store\": 9.81092672, \"Store Count Growth\": -0.01051069618, \"Category\": \"Drug Stores\"}, {\"Company\": \"CVS incl. Target\", \"Sales\": 77792, \"Stores\": 9813.0, \"Sales/Avg. Store\": 8.825958702, \"Store Count Growth\": 0.2556621881, \"Category\": \"Drug Stores\"}, {\"Company\": \"Amazon\", \"Sales\": 71687, \"Stores\": null, \"Sales/Avg. Store\": null, \"Store Count Growth\": null, \"Category\": \"Electronic/Mail Order\"}, {\"Company\": \"Target\", \"Sales\": 71208, \"Stores\": 1772.0, \"Sales/Avg. Store\": 39.98203257, \"Store Count Growth\": -0.01005586592, \"Category\": \"Supercenters\"}, {\"Company\": \"Lowe's\", \"Sales\": 60311, \"Stores\": 1828.0, \"Sales/Avg. Store\": 33.31179232, \"Store Count Growth\": 0.01952035694, \"Category\": \"Home Improvement\"}, {\"Company\": \"Albertsons\", \"Sales\": 56829, \"Stores\": 2326.0, \"Sales/Avg. Store\": 23.87773109, \"Store Count Growth\": -0.04437140509, \"Category\": \"Grocery\"}, {\"Company\": \"Sam's Club\", \"Sales\": 56828, \"Stores\": 655.0, \"Sales/Avg. Store\": 87.29339478, \"Store Count Growth\": 0.01236476043, \"Category\": \"Warehouse Clubs\"}, {\"Company\": \"Apple incl. Online\", \"Sales\": 37664, \"Stores\": null, \"Sales/Avg. Store\": null, \"Store Count Growth\": null, \"Category\": null}, {\"Company\": \"Best Buy\", \"Sales\": 34980, \"Stores\": 1389.0, \"Sales/Avg. Store\": 24.68595625, \"Store Count Growth\": -0.03875432526, \"Category\": \"Electronics\"}, {\"Company\": \"Publix\", \"Sales\": 34408, \"Stores\": 1351.0, \"Sales/Avg. Store\": 25.99773328, \"Store Count Growth\": 0.0424382716, \"Category\": \"Grocery\"}, {\"Company\": \"Rite Aid\", \"Sales\": 27486, \"Stores\": 4553.0, \"Sales/Avg. Store\": 6.025649457, \"Store Count Growth\": -0.003719912473, \"Category\": \"Drug Stores\"}, {\"Company\": \"Ahold\", \"Sales\": 26903, \"Stores\": 794.0, \"Sales/Avg. Store\": 34.446863, \"Store Count Growth\": 0.03385416667, \"Category\": \"Grocery\"}, {\"Company\": \"Macy's\", \"Sales\": 26028, \"Stores\": 889.0, \"Sales/Avg. Store\": 30.44210526, \"Store Count Growth\": 0.08282582217, \"Category\": \"Department Stores\"}, {\"Company\": \"TJX\", \"Sales\": 25012, \"Stores\": 2770.0, \"Sales/Avg. Store\": 9.369544859, \"Store Count Growth\": 0.07824056053, \"Category\": \"Apparel\"}, {\"Company\": \"Aldi\", \"Sales\": 24402, \"Stores\": 2021.0, \"Sales/Avg. Store\": 12.71599792, \"Store Count Growth\": 0.1122729774, \"Category\": \"Grocery\"}, {\"Company\": \"Dollar General\", \"Sales\": 22234, \"Stores\": 13350.0, \"Sales/Avg. Store\": 1.768884999, \"Store Count Growth\": 0.1324115701, \"Category\": \"Dollar Stores\"}, {\"Company\": \"Dollar Tree\", \"Sales\": 21464, \"Stores\": 14250.0, \"Sales/Avg. Store\": 1.56391854, \"Store Count Growth\": 0.07962724449, \"Category\": \"Dollar Stores\"}, {\"Company\": \"HEB\", \"Sales\": 21384, \"Stores\": 323.0, \"Sales/Avg. Store\": 66.825, \"Store Count Growth\": 0.01892744479, \"Category\": \"Grocery\"}, {\"Company\": \"Kohl's\", \"Sales\": 19060, \"Stores\": 1169.0, \"Sales/Avg. Store\": 16.35349635, \"Store Count Growth\": 0.006024096386, \"Category\": \"Department Stores\"}, {\"Company\": \"Delhaize\", \"Sales\": 18201, \"Stores\": 1280.0, \"Sales/Avg. Store\": 13.78341537, \"Store Count Growth\": -0.05951506245, \"Category\": \"Grocery\"}, {\"Company\": \"Meijer\", \"Sales\": 16592, \"Stores\": 231.0, \"Sales/Avg. Store\": 74.73873874, \"Store Count Growth\": 0.08450704225, \"Category\": \"Supercenters\"}]}}, {\"mode\": \"vega-lite\"});\n</script>",
      "text/plain": "alt.Chart(...)"
     },
     "metadata": {}
    }
   ]
  },
  {
   "cell_type": "markdown",
   "source": "En las gráficas anteriores se comparan los valores de ventas y las cantidades de tiendas físicas para cada compañía, lo cual muestra que las ventas no se relacionan con las tiendas ya que, por ejemplo, Walmart que tiene la mayor cantidad de ventas, no es la que tiene la mayor cantidad de tiendas del conjunto.\n\nIncluso existen compañías que no tiene tiendas físicas y tienen grandes ventas, como es Amazon o Apple.",
   "metadata": {
    "cell_id": "50c1312c-fcb5-4c28-afbd-02e0356aa78e",
    "tags": [],
    "deepnote_app_coordinates": {
     "x": 0,
     "y": 284,
     "w": 19,
     "h": 5
    },
    "deepnote_cell_type": "markdown"
   }
  },
  {
   "cell_type": "markdown",
   "source": "### 5. ¿Cuál es el rango que existe entre las ventas?",
   "metadata": {
    "cell_id": "d296130b-b739-4424-8c5d-8dc8b6fc8ee5",
    "tags": [],
    "deepnote_cell_height": 62,
    "deepnote_app_coordinates": {
     "x": 0,
     "y": 290,
     "w": 19,
     "h": 3
    },
    "deepnote_cell_type": "markdown"
   }
  },
  {
   "cell_type": "code",
   "metadata": {
    "cell_id": "277da6f7-0300-4156-91e5-9765eb1f3752",
    "tags": [],
    "deepnote_to_be_reexecuted": false,
    "source_hash": "e790c395",
    "deepnote_cell_height": 81,
    "execution_start": 1645592493933,
    "execution_millis": 15,
    "deepnote_app_coordinates": {
     "x": 0,
     "y": 294,
     "w": 19,
     "h": 21
    },
    "deepnote_cell_type": "code"
   },
   "source": "alt.Chart(df).mark_boxplot().encode(\n    y = alt.Y('Sales')\n) | alt.Chart(companies).mark_boxplot().encode(\n    y = alt.Y('Sales')\n).interactive()\n\n",
   "execution_count": 13,
   "outputs": [
    {
     "output_type": "execute_result",
     "execution_count": 13,
     "data": {
      "text/html": "\n<div id=\"altair-viz-01229d70a12d4199bc5ff80e09b76c16\"></div>\n<script type=\"text/javascript\">\n  (function(spec, embedOpt){\n    let outputDiv = document.currentScript.previousElementSibling;\n    if (outputDiv.id !== \"altair-viz-01229d70a12d4199bc5ff80e09b76c16\") {\n      outputDiv = document.getElementById(\"altair-viz-01229d70a12d4199bc5ff80e09b76c16\");\n    }\n    const paths = {\n      \"vega\": \"https://cdn.jsdelivr.net/npm//vega@5?noext\",\n      \"vega-lib\": \"https://cdn.jsdelivr.net/npm//vega-lib?noext\",\n      \"vega-lite\": \"https://cdn.jsdelivr.net/npm//vega-lite@4.8.1?noext\",\n      \"vega-embed\": \"https://cdn.jsdelivr.net/npm//vega-embed@6?noext\",\n    };\n\n    function loadScript(lib) {\n      return new Promise(function(resolve, reject) {\n        var s = document.createElement('script');\n        s.src = paths[lib];\n        s.async = true;\n        s.onload = () => resolve(paths[lib]);\n        s.onerror = () => reject(`Error loading script: ${paths[lib]}`);\n        document.getElementsByTagName(\"head\")[0].appendChild(s);\n      });\n    }\n\n    function showError(err) {\n      outputDiv.innerHTML = `<div class=\"error\" style=\"color:red;\">${err}</div>`;\n      throw err;\n    }\n\n    function displayChart(vegaEmbed) {\n      vegaEmbed(outputDiv, spec, embedOpt)\n        .catch(err => showError(`Javascript Error: ${err.message}<br>This usually means there's a typo in your chart specification. See the javascript console for the full traceback.`));\n    }\n\n    if(typeof define === \"function\" && define.amd) {\n      requirejs.config({paths});\n      require([\"vega-embed\"], displayChart, err => showError(`Error loading script: ${err.message}`));\n    } else if (typeof vegaEmbed === \"function\") {\n      displayChart(vegaEmbed);\n    } else {\n      loadScript(\"vega\")\n        .then(() => loadScript(\"vega-lite\"))\n        .then(() => loadScript(\"vega-embed\"))\n        .catch(showError)\n        .then(() => displayChart(vegaEmbed));\n    }\n  })({\"config\": {\"view\": {\"continuousWidth\": 400, \"continuousHeight\": 300}}, \"hconcat\": [{\"data\": {\"name\": \"data-0fbaf84e8f0f7d7f527747f9806e7599\"}, \"mark\": \"boxplot\", \"encoding\": {\"y\": {\"type\": \"quantitative\", \"field\": \"Sales\"}}}, {\"data\": {\"name\": \"data-60c343d455ee5ec4c3cc19acc86c5583\"}, \"mark\": \"boxplot\", \"encoding\": {\"y\": {\"type\": \"quantitative\", \"field\": \"Sales\"}}, \"selection\": {\"selector002\": {\"type\": \"interval\", \"bind\": \"scales\", \"encodings\": [\"x\", \"y\"]}}}], \"$schema\": \"https://vega.github.io/schema/vega-lite/v4.8.1.json\", \"datasets\": {\"data-0fbaf84e8f0f7d7f527747f9806e7599\": [{\"Company\": \"Walmart US\", \"Sales\": 658119, \"Stores\": 4574.0, \"Sales/Avg. Store\": 65.64972497, \"Store Count Growth\": 0.01284322409, \"Category\": \"Supercenters\"}, {\"Company\": \"Kroger\", \"Sales\": 115037, \"Stores\": 3931.0, \"Sales/Avg. Store\": 30.03184963, \"Store Count Growth\": 0.05388739946, \"Category\": \"Grocery\"}, {\"Company\": \"Costco\", \"Sales\": 90048, \"Stores\": 495.0, \"Sales/Avg. Store\": 187.7956204, \"Store Count Growth\": 0.06681034483, \"Category\": \"Warehouse Club\"}, {\"Company\": \"Home Depot\", \"Sales\": 83976, \"Stores\": 1965.0, \"Sales/Avg. Store\": 42.73587786, \"Store Count Growth\": 0.0, \"Category\": \"Home Improvement\"}, {\"Company\": \"Walgreen Boots\", \"Sales\": 78924, \"Stores\": 8002.0, \"Sales/Avg. Store\": 9.81092672, \"Store Count Growth\": -0.01051069618, \"Category\": \"Drug Stores\"}, {\"Company\": \"CVS incl. Target\", \"Sales\": 77792, \"Stores\": 9813.0, \"Sales/Avg. Store\": 8.825958702, \"Store Count Growth\": 0.2556621881, \"Category\": \"Drug Stores\"}, {\"Company\": \"Amazon\", \"Sales\": 71687, \"Stores\": null, \"Sales/Avg. Store\": null, \"Store Count Growth\": null, \"Category\": \"Electronic/Mail Order\"}, {\"Company\": \"Target\", \"Sales\": 71208, \"Stores\": 1772.0, \"Sales/Avg. Store\": 39.98203257, \"Store Count Growth\": -0.01005586592, \"Category\": \"Supercenters\"}, {\"Company\": \"Lowe's\", \"Sales\": 60311, \"Stores\": 1828.0, \"Sales/Avg. Store\": 33.31179232, \"Store Count Growth\": 0.01952035694, \"Category\": \"Home Improvement\"}, {\"Company\": \"Albertsons\", \"Sales\": 56829, \"Stores\": 2326.0, \"Sales/Avg. Store\": 23.87773109, \"Store Count Growth\": -0.04437140509, \"Category\": \"Grocery\"}, {\"Company\": \"Sam's Club\", \"Sales\": 56828, \"Stores\": 655.0, \"Sales/Avg. Store\": 87.29339478, \"Store Count Growth\": 0.01236476043, \"Category\": \"Warehouse Clubs\"}, {\"Company\": \"Apple incl. Online\", \"Sales\": 37664, \"Stores\": null, \"Sales/Avg. Store\": null, \"Store Count Growth\": null, \"Category\": null}, {\"Company\": \"Best Buy\", \"Sales\": 34980, \"Stores\": 1389.0, \"Sales/Avg. Store\": 24.68595625, \"Store Count Growth\": -0.03875432526, \"Category\": \"Electronics\"}, {\"Company\": \"Publix\", \"Sales\": 34408, \"Stores\": 1351.0, \"Sales/Avg. Store\": 25.99773328, \"Store Count Growth\": 0.0424382716, \"Category\": \"Grocery\"}, {\"Company\": \"Rite Aid\", \"Sales\": 27486, \"Stores\": 4553.0, \"Sales/Avg. Store\": 6.025649457, \"Store Count Growth\": -0.003719912473, \"Category\": \"Drug Stores\"}, {\"Company\": \"Ahold\", \"Sales\": 26903, \"Stores\": 794.0, \"Sales/Avg. Store\": 34.446863, \"Store Count Growth\": 0.03385416667, \"Category\": \"Grocery\"}, {\"Company\": \"Macy's\", \"Sales\": 26028, \"Stores\": 889.0, \"Sales/Avg. Store\": 30.44210526, \"Store Count Growth\": 0.08282582217, \"Category\": \"Department Stores\"}, {\"Company\": \"TJX\", \"Sales\": 25012, \"Stores\": 2770.0, \"Sales/Avg. Store\": 9.369544859, \"Store Count Growth\": 0.07824056053, \"Category\": \"Apparel\"}, {\"Company\": \"Aldi\", \"Sales\": 24402, \"Stores\": 2021.0, \"Sales/Avg. Store\": 12.71599792, \"Store Count Growth\": 0.1122729774, \"Category\": \"Grocery\"}, {\"Company\": \"Dollar General\", \"Sales\": 22234, \"Stores\": 13350.0, \"Sales/Avg. Store\": 1.768884999, \"Store Count Growth\": 0.1324115701, \"Category\": \"Dollar Stores\"}, {\"Company\": \"Dollar Tree\", \"Sales\": 21464, \"Stores\": 14250.0, \"Sales/Avg. Store\": 1.56391854, \"Store Count Growth\": 0.07962724449, \"Category\": \"Dollar Stores\"}, {\"Company\": \"HEB\", \"Sales\": 21384, \"Stores\": 323.0, \"Sales/Avg. Store\": 66.825, \"Store Count Growth\": 0.01892744479, \"Category\": \"Grocery\"}, {\"Company\": \"Kohl's\", \"Sales\": 19060, \"Stores\": 1169.0, \"Sales/Avg. Store\": 16.35349635, \"Store Count Growth\": 0.006024096386, \"Category\": \"Department Stores\"}, {\"Company\": \"Delhaize\", \"Sales\": 18201, \"Stores\": 1280.0, \"Sales/Avg. Store\": 13.78341537, \"Store Count Growth\": -0.05951506245, \"Category\": \"Grocery\"}, {\"Company\": \"Meijer\", \"Sales\": 16592, \"Stores\": 231.0, \"Sales/Avg. Store\": 74.73873874, \"Store Count Growth\": 0.08450704225, \"Category\": \"Supercenters\"}], \"data-60c343d455ee5ec4c3cc19acc86c5583\": [{\"Company\": \"Kroger\", \"Sales\": 115037, \"Stores\": 3931.0, \"Sales/Avg. Store\": 30.03184963, \"Store Count Growth\": 0.05388739946, \"Category\": \"Grocery\"}, {\"Company\": \"Costco\", \"Sales\": 90048, \"Stores\": 495.0, \"Sales/Avg. Store\": 187.7956204, \"Store Count Growth\": 0.06681034483, \"Category\": \"Warehouse Club\"}, {\"Company\": \"Home Depot\", \"Sales\": 83976, \"Stores\": 1965.0, \"Sales/Avg. Store\": 42.73587786, \"Store Count Growth\": 0.0, \"Category\": \"Home Improvement\"}, {\"Company\": \"Walgreen Boots\", \"Sales\": 78924, \"Stores\": 8002.0, \"Sales/Avg. Store\": 9.81092672, \"Store Count Growth\": -0.01051069618, \"Category\": \"Drug Stores\"}, {\"Company\": \"CVS incl. Target\", \"Sales\": 77792, \"Stores\": 9813.0, \"Sales/Avg. Store\": 8.825958702, \"Store Count Growth\": 0.2556621881, \"Category\": \"Drug Stores\"}, {\"Company\": \"Amazon\", \"Sales\": 71687, \"Stores\": null, \"Sales/Avg. Store\": null, \"Store Count Growth\": null, \"Category\": \"Electronic/Mail Order\"}, {\"Company\": \"Target\", \"Sales\": 71208, \"Stores\": 1772.0, \"Sales/Avg. Store\": 39.98203257, \"Store Count Growth\": -0.01005586592, \"Category\": \"Supercenters\"}, {\"Company\": \"Lowe's\", \"Sales\": 60311, \"Stores\": 1828.0, \"Sales/Avg. Store\": 33.31179232, \"Store Count Growth\": 0.01952035694, \"Category\": \"Home Improvement\"}, {\"Company\": \"Albertsons\", \"Sales\": 56829, \"Stores\": 2326.0, \"Sales/Avg. Store\": 23.87773109, \"Store Count Growth\": -0.04437140509, \"Category\": \"Grocery\"}, {\"Company\": \"Sam's Club\", \"Sales\": 56828, \"Stores\": 655.0, \"Sales/Avg. Store\": 87.29339478, \"Store Count Growth\": 0.01236476043, \"Category\": \"Warehouse Clubs\"}, {\"Company\": \"Apple incl. Online\", \"Sales\": 37664, \"Stores\": null, \"Sales/Avg. Store\": null, \"Store Count Growth\": null, \"Category\": null}, {\"Company\": \"Best Buy\", \"Sales\": 34980, \"Stores\": 1389.0, \"Sales/Avg. Store\": 24.68595625, \"Store Count Growth\": -0.03875432526, \"Category\": \"Electronics\"}, {\"Company\": \"Publix\", \"Sales\": 34408, \"Stores\": 1351.0, \"Sales/Avg. Store\": 25.99773328, \"Store Count Growth\": 0.0424382716, \"Category\": \"Grocery\"}, {\"Company\": \"Rite Aid\", \"Sales\": 27486, \"Stores\": 4553.0, \"Sales/Avg. Store\": 6.025649457, \"Store Count Growth\": -0.003719912473, \"Category\": \"Drug Stores\"}, {\"Company\": \"Ahold\", \"Sales\": 26903, \"Stores\": 794.0, \"Sales/Avg. Store\": 34.446863, \"Store Count Growth\": 0.03385416667, \"Category\": \"Grocery\"}, {\"Company\": \"Macy's\", \"Sales\": 26028, \"Stores\": 889.0, \"Sales/Avg. Store\": 30.44210526, \"Store Count Growth\": 0.08282582217, \"Category\": \"Department Stores\"}, {\"Company\": \"TJX\", \"Sales\": 25012, \"Stores\": 2770.0, \"Sales/Avg. Store\": 9.369544859, \"Store Count Growth\": 0.07824056053, \"Category\": \"Apparel\"}, {\"Company\": \"Aldi\", \"Sales\": 24402, \"Stores\": 2021.0, \"Sales/Avg. Store\": 12.71599792, \"Store Count Growth\": 0.1122729774, \"Category\": \"Grocery\"}, {\"Company\": \"Dollar General\", \"Sales\": 22234, \"Stores\": 13350.0, \"Sales/Avg. Store\": 1.768884999, \"Store Count Growth\": 0.1324115701, \"Category\": \"Dollar Stores\"}, {\"Company\": \"Dollar Tree\", \"Sales\": 21464, \"Stores\": 14250.0, \"Sales/Avg. Store\": 1.56391854, \"Store Count Growth\": 0.07962724449, \"Category\": \"Dollar Stores\"}, {\"Company\": \"HEB\", \"Sales\": 21384, \"Stores\": 323.0, \"Sales/Avg. Store\": 66.825, \"Store Count Growth\": 0.01892744479, \"Category\": \"Grocery\"}, {\"Company\": \"Kohl's\", \"Sales\": 19060, \"Stores\": 1169.0, \"Sales/Avg. Store\": 16.35349635, \"Store Count Growth\": 0.006024096386, \"Category\": \"Department Stores\"}, {\"Company\": \"Delhaize\", \"Sales\": 18201, \"Stores\": 1280.0, \"Sales/Avg. Store\": 13.78341537, \"Store Count Growth\": -0.05951506245, \"Category\": \"Grocery\"}, {\"Company\": \"Meijer\", \"Sales\": 16592, \"Stores\": 231.0, \"Sales/Avg. Store\": 74.73873874, \"Store Count Growth\": 0.08450704225, \"Category\": \"Supercenters\"}]}}, {\"mode\": \"vega-lite\"});\n</script>",
      "text/plain": "alt.HConcatChart(...)"
     },
     "metadata": {}
    }
   ]
  },
  {
   "cell_type": "code",
   "metadata": {
    "cell_id": "2288735d-de56-4303-88b0-f97132a9cf39",
    "tags": [],
    "deepnote_to_be_reexecuted": false,
    "source_hash": "c987838e",
    "execution_start": 1645592493949,
    "execution_millis": 6,
    "deepnote_app_coordinates": {
     "x": 0,
     "y": 316,
     "w": 19,
     "h": 6
    },
    "deepnote_cell_type": "code"
   },
   "source": "rango = df['Sales'].max() - df['Sales'].min()\nrango",
   "execution_count": 14,
   "outputs": [
    {
     "output_type": "execute_result",
     "execution_count": 14,
     "data": {
      "text/plain": "641527"
     },
     "metadata": {}
    }
   ]
  },
  {
   "cell_type": "markdown",
   "source": "El rango en el que se encuentran los valores es de **641,527M USD** ya que las ventas de Walmart se alejan de los datos de las demás compañías, incluso en el diagrama de caja se muestra como un dato atípico.\n\nEn la segunda gráfica se ve el comportamiento de las demás compañías para visualizar su rango.",
   "metadata": {
    "cell_id": "6b81df47-71b9-45be-9139-d3c33c3b7d95",
    "tags": [],
    "deepnote_app_coordinates": {
     "x": 0,
     "y": 323,
     "w": 19,
     "h": 5
    },
    "deepnote_cell_type": "markdown"
   }
  },
  {
   "cell_type": "markdown",
   "source": "### 6. ¿Cuáles son las 5 empresas que más tiendas físicas tienen? ¿Cuáles de ellas están dentro de las 5 empresas que más ventas tuvieron?",
   "metadata": {
    "cell_id": "6c36ddc3-51ef-4017-a6f9-06cbb8b970e4",
    "tags": [],
    "deepnote_cell_height": 126,
    "deepnote_app_coordinates": {
     "x": 0,
     "y": 329,
     "w": 19,
     "h": 5
    },
    "deepnote_cell_type": "markdown"
   }
  },
  {
   "cell_type": "code",
   "metadata": {
    "cell_id": "4847f294-fab1-43a4-bea5-642678ab09ce",
    "tags": [],
    "deepnote_to_be_reexecuted": false,
    "source_hash": "feb0a2db",
    "execution_start": 1645592493997,
    "execution_millis": 3,
    "deepnote_app_coordinates": {
     "x": 0,
     "y": 335,
     "w": 19,
     "h": 14
    },
    "deepnote_cell_type": "code"
   },
   "source": "top = df.sort_values('Stores', ascending=False)\ntop5Stores = top.iloc[:5]\ntop5Stores",
   "execution_count": 15,
   "outputs": [
    {
     "output_type": "execute_result",
     "execution_count": 15,
     "data": {
      "application/vnd.deepnote.dataframe.v3+json": {
       "column_count": 6,
       "row_count": 5,
       "columns": [
        {
         "name": "Company",
         "dtype": "object",
         "stats": {
          "unique_count": 5,
          "nan_count": 0,
          "categories": [
           {
            "name": "Dollar Tree",
            "count": 1
           },
           {
            "name": "Dollar General",
            "count": 1
           },
           {
            "name": "3 others",
            "count": 3
           }
          ]
         }
        },
        {
         "name": "Sales",
         "dtype": "int64",
         "stats": {
          "unique_count": 5,
          "nan_count": 0,
          "min": "21464",
          "max": "658119",
          "histogram": [
           {
            "bin_start": 21464,
            "bin_end": 85129.5,
            "count": 4
           },
           {
            "bin_start": 85129.5,
            "bin_end": 148795,
            "count": 0
           },
           {
            "bin_start": 148795,
            "bin_end": 212460.5,
            "count": 0
           },
           {
            "bin_start": 212460.5,
            "bin_end": 276126,
            "count": 0
           },
           {
            "bin_start": 276126,
            "bin_end": 339791.5,
            "count": 0
           },
           {
            "bin_start": 339791.5,
            "bin_end": 403457,
            "count": 0
           },
           {
            "bin_start": 403457,
            "bin_end": 467122.5,
            "count": 0
           },
           {
            "bin_start": 467122.5,
            "bin_end": 530788,
            "count": 0
           },
           {
            "bin_start": 530788,
            "bin_end": 594453.5,
            "count": 0
           },
           {
            "bin_start": 594453.5,
            "bin_end": 658119,
            "count": 1
           }
          ]
         }
        },
        {
         "name": "Stores",
         "dtype": "float64",
         "stats": {
          "unique_count": 5,
          "nan_count": 0,
          "min": "4574.0",
          "max": "14250.0",
          "histogram": [
           {
            "bin_start": 4574,
            "bin_end": 5541.6,
            "count": 1
           },
           {
            "bin_start": 5541.6,
            "bin_end": 6509.2,
            "count": 0
           },
           {
            "bin_start": 6509.2,
            "bin_end": 7476.8,
            "count": 0
           },
           {
            "bin_start": 7476.8,
            "bin_end": 8444.4,
            "count": 1
           },
           {
            "bin_start": 8444.4,
            "bin_end": 9412,
            "count": 0
           },
           {
            "bin_start": 9412,
            "bin_end": 10379.6,
            "count": 1
           },
           {
            "bin_start": 10379.6,
            "bin_end": 11347.2,
            "count": 0
           },
           {
            "bin_start": 11347.2,
            "bin_end": 12314.8,
            "count": 0
           },
           {
            "bin_start": 12314.8,
            "bin_end": 13282.4,
            "count": 0
           },
           {
            "bin_start": 13282.4,
            "bin_end": 14250,
            "count": 2
           }
          ]
         }
        },
        {
         "name": "Sales/Avg. Store",
         "dtype": "float64",
         "stats": {
          "unique_count": 5,
          "nan_count": 0,
          "min": "1.56391854",
          "max": "65.64972497",
          "histogram": [
           {
            "bin_start": 1.56391854,
            "bin_end": 7.972499182999998,
            "count": 2
           },
           {
            "bin_start": 7.972499182999998,
            "bin_end": 14.381079825999997,
            "count": 2
           },
           {
            "bin_start": 14.381079825999997,
            "bin_end": 20.789660468999994,
            "count": 0
           },
           {
            "bin_start": 20.789660468999994,
            "bin_end": 27.198241111999995,
            "count": 0
           },
           {
            "bin_start": 27.198241111999995,
            "bin_end": 33.606821755,
            "count": 0
           },
           {
            "bin_start": 33.606821755,
            "bin_end": 40.01540239799999,
            "count": 0
           },
           {
            "bin_start": 40.01540239799999,
            "bin_end": 46.42398304099999,
            "count": 0
           },
           {
            "bin_start": 46.42398304099999,
            "bin_end": 52.83256368399999,
            "count": 0
           },
           {
            "bin_start": 52.83256368399999,
            "bin_end": 59.24114432699999,
            "count": 0
           },
           {
            "bin_start": 59.24114432699999,
            "bin_end": 65.64972497,
            "count": 1
           }
          ]
         }
        },
        {
         "name": "Store Count Growth",
         "dtype": "float64",
         "stats": {
          "unique_count": 5,
          "nan_count": 0,
          "min": "-0.01051069618",
          "max": "0.2556621881",
          "histogram": [
           {
            "bin_start": -0.01051069618,
            "bin_end": 0.016106592248000005,
            "count": 2
           },
           {
            "bin_start": 0.016106592248000005,
            "bin_end": 0.042723880676000005,
            "count": 0
           },
           {
            "bin_start": 0.042723880676000005,
            "bin_end": 0.06934116910400001,
            "count": 0
           },
           {
            "bin_start": 0.06934116910400001,
            "bin_end": 0.09595845753200001,
            "count": 1
           },
           {
            "bin_start": 0.09595845753200001,
            "bin_end": 0.12257574596000001,
            "count": 0
           },
           {
            "bin_start": 0.12257574596000001,
            "bin_end": 0.14919303438800002,
            "count": 1
           },
           {
            "bin_start": 0.14919303438800002,
            "bin_end": 0.175810322816,
            "count": 0
           },
           {
            "bin_start": 0.175810322816,
            "bin_end": 0.20242761124400002,
            "count": 0
           },
           {
            "bin_start": 0.20242761124400002,
            "bin_end": 0.22904489967200004,
            "count": 0
           },
           {
            "bin_start": 0.22904489967200004,
            "bin_end": 0.2556621881,
            "count": 1
           }
          ]
         }
        },
        {
         "name": "Category",
         "dtype": "object",
         "stats": {
          "unique_count": 3,
          "nan_count": 0,
          "categories": [
           {
            "name": "Dollar Stores",
            "count": 2
           },
           {
            "name": "Drug Stores",
            "count": 2
           },
           {
            "name": "Supercenters",
            "count": 1
           }
          ]
         }
        },
        {
         "name": "_deepnote_index_column",
         "dtype": "int64"
        }
       ],
       "rows": [
        {
         "Company": "Dollar Tree",
         "Sales": 21464,
         "Stores": 14250,
         "Sales/Avg. Store": 1.56391854,
         "Store Count Growth": 0.07962724449,
         "Category": "Dollar Stores",
         "_deepnote_index_column": 20
        },
        {
         "Company": "Dollar General",
         "Sales": 22234,
         "Stores": 13350,
         "Sales/Avg. Store": 1.768884999,
         "Store Count Growth": 0.1324115701,
         "Category": "Dollar Stores",
         "_deepnote_index_column": 19
        },
        {
         "Company": "CVS incl. Target",
         "Sales": 77792,
         "Stores": 9813,
         "Sales/Avg. Store": 8.825958702,
         "Store Count Growth": 0.2556621881,
         "Category": "Drug Stores",
         "_deepnote_index_column": 5
        },
        {
         "Company": "Walgreen Boots",
         "Sales": 78924,
         "Stores": 8002,
         "Sales/Avg. Store": 9.81092672,
         "Store Count Growth": -0.01051069618,
         "Category": "Drug Stores",
         "_deepnote_index_column": 4
        },
        {
         "Company": "Walmart US",
         "Sales": 658119,
         "Stores": 4574,
         "Sales/Avg. Store": 65.64972497,
         "Store Count Growth": 0.01284322409,
         "Category": "Supercenters",
         "_deepnote_index_column": 0
        }
       ]
      },
      "text/plain": "             Company   Sales   Stores  Sales/Avg. Store  Store Count Growth  \\\n20       Dollar Tree   21464  14250.0          1.563919            0.079627   \n19    Dollar General   22234  13350.0          1.768885            0.132412   \n5   CVS incl. Target   77792   9813.0          8.825959            0.255662   \n4     Walgreen Boots   78924   8002.0          9.810927           -0.010511   \n0         Walmart US  658119   4574.0         65.649725            0.012843   \n\n         Category  \n20  Dollar Stores  \n19  Dollar Stores  \n5     Drug Stores  \n4     Drug Stores  \n0    Supercenters  ",
      "text/html": "<div>\n<style scoped>\n    .dataframe tbody tr th:only-of-type {\n        vertical-align: middle;\n    }\n\n    .dataframe tbody tr th {\n        vertical-align: top;\n    }\n\n    .dataframe thead th {\n        text-align: right;\n    }\n</style>\n<table border=\"1\" class=\"dataframe\">\n  <thead>\n    <tr style=\"text-align: right;\">\n      <th></th>\n      <th>Company</th>\n      <th>Sales</th>\n      <th>Stores</th>\n      <th>Sales/Avg. Store</th>\n      <th>Store Count Growth</th>\n      <th>Category</th>\n    </tr>\n  </thead>\n  <tbody>\n    <tr>\n      <th>20</th>\n      <td>Dollar Tree</td>\n      <td>21464</td>\n      <td>14250.0</td>\n      <td>1.563919</td>\n      <td>0.079627</td>\n      <td>Dollar Stores</td>\n    </tr>\n    <tr>\n      <th>19</th>\n      <td>Dollar General</td>\n      <td>22234</td>\n      <td>13350.0</td>\n      <td>1.768885</td>\n      <td>0.132412</td>\n      <td>Dollar Stores</td>\n    </tr>\n    <tr>\n      <th>5</th>\n      <td>CVS incl. Target</td>\n      <td>77792</td>\n      <td>9813.0</td>\n      <td>8.825959</td>\n      <td>0.255662</td>\n      <td>Drug Stores</td>\n    </tr>\n    <tr>\n      <th>4</th>\n      <td>Walgreen Boots</td>\n      <td>78924</td>\n      <td>8002.0</td>\n      <td>9.810927</td>\n      <td>-0.010511</td>\n      <td>Drug Stores</td>\n    </tr>\n    <tr>\n      <th>0</th>\n      <td>Walmart US</td>\n      <td>658119</td>\n      <td>4574.0</td>\n      <td>65.649725</td>\n      <td>0.012843</td>\n      <td>Supercenters</td>\n    </tr>\n  </tbody>\n</table>\n</div>"
     },
     "metadata": {}
    }
   ]
  },
  {
   "cell_type": "code",
   "metadata": {
    "cell_id": "4a74337f-9ec4-480d-8b01-57236c795ee8",
    "tags": [],
    "deepnote_to_be_reexecuted": false,
    "source_hash": "3fe35910",
    "execution_start": 1645592494002,
    "execution_millis": 2,
    "deepnote_cell_type": "code"
   },
   "source": "top = df.sort_values('Sales', ascending=False)\ntop5Sales = top.iloc[:5]",
   "execution_count": 16,
   "outputs": []
  },
  {
   "cell_type": "code",
   "metadata": {
    "cell_id": "1295319d-09d0-42f0-9de0-ff0e689f400f",
    "tags": [],
    "deepnote_to_be_reexecuted": false,
    "source_hash": "3f3b8c10",
    "deepnote_cell_height": 81,
    "execution_start": 1645592494072,
    "execution_millis": 16,
    "deepnote_app_coordinates": {
     "x": 0,
     "y": 350,
     "w": 19,
     "h": 41
    },
    "deepnote_cell_type": "code"
   },
   "source": "sales = alt.Chart(df).mark_bar().encode(\n    x = alt.X('Stores', title = '', axis=alt.Axis(grid = False,labelFontSize=12,labels = False,ticks = False, domain = False)),\n    y = alt.Y('Company', title = 'Stores', sort='-x', axis=alt.Axis(grid = False,labelFontSize=14, titleAnchor='start',titleAngle=0,titleFontSize=18)),\n    tooltip = [alt.Tooltip('Company',title = 'Company'),alt.Tooltip('Sales', title = 'Sales MUSD'),alt.Tooltip('Stores',title='Stores')],\n    color = alt.condition(\n        alt.datum.Stores >= 4574,\n        alt.ColorValue(\"orange\"),\n        alt.ColorValue(\"steelblue\"))\n)\n\nstores = alt.Chart(top5Sales).mark_bar().encode(\n    x = alt.X('Sales', title = '', axis=alt.Axis(grid = False,labelFontSize=12,labels = False,ticks = False, domain = False)),\n    y = alt.Y('Company', title = 'Top 5: Sales', sort='-x', axis=alt.Axis(grid = False,labelFontSize=14,titleAnchor='start',titleAngle=0,titleFontSize=18)),\n    tooltip = [alt.Tooltip('Company',title = 'Company'),alt.Tooltip('Sales', title = 'Sales MUSD'),alt.Tooltip('Stores',title='Stores')],\n    color = alt.condition(\n        alt.datum.Stores >= 4574,\n        alt.ColorValue(\"orange\"),\n        alt.ColorValue(\"steelblue\"))\n)\n\n\n( sales | stores ).configure_view(\n    strokeWidth=0\n)",
   "execution_count": 17,
   "outputs": [
    {
     "output_type": "execute_result",
     "execution_count": 17,
     "data": {
      "text/html": "\n<div id=\"altair-viz-e29fcae8b21c451389ce35d12fbca364\"></div>\n<script type=\"text/javascript\">\n  (function(spec, embedOpt){\n    let outputDiv = document.currentScript.previousElementSibling;\n    if (outputDiv.id !== \"altair-viz-e29fcae8b21c451389ce35d12fbca364\") {\n      outputDiv = document.getElementById(\"altair-viz-e29fcae8b21c451389ce35d12fbca364\");\n    }\n    const paths = {\n      \"vega\": \"https://cdn.jsdelivr.net/npm//vega@5?noext\",\n      \"vega-lib\": \"https://cdn.jsdelivr.net/npm//vega-lib?noext\",\n      \"vega-lite\": \"https://cdn.jsdelivr.net/npm//vega-lite@4.8.1?noext\",\n      \"vega-embed\": \"https://cdn.jsdelivr.net/npm//vega-embed@6?noext\",\n    };\n\n    function loadScript(lib) {\n      return new Promise(function(resolve, reject) {\n        var s = document.createElement('script');\n        s.src = paths[lib];\n        s.async = true;\n        s.onload = () => resolve(paths[lib]);\n        s.onerror = () => reject(`Error loading script: ${paths[lib]}`);\n        document.getElementsByTagName(\"head\")[0].appendChild(s);\n      });\n    }\n\n    function showError(err) {\n      outputDiv.innerHTML = `<div class=\"error\" style=\"color:red;\">${err}</div>`;\n      throw err;\n    }\n\n    function displayChart(vegaEmbed) {\n      vegaEmbed(outputDiv, spec, embedOpt)\n        .catch(err => showError(`Javascript Error: ${err.message}<br>This usually means there's a typo in your chart specification. See the javascript console for the full traceback.`));\n    }\n\n    if(typeof define === \"function\" && define.amd) {\n      requirejs.config({paths});\n      require([\"vega-embed\"], displayChart, err => showError(`Error loading script: ${err.message}`));\n    } else if (typeof vegaEmbed === \"function\") {\n      displayChart(vegaEmbed);\n    } else {\n      loadScript(\"vega\")\n        .then(() => loadScript(\"vega-lite\"))\n        .then(() => loadScript(\"vega-embed\"))\n        .catch(showError)\n        .then(() => displayChart(vegaEmbed));\n    }\n  })({\"config\": {\"view\": {\"continuousWidth\": 400, \"continuousHeight\": 300, \"strokeWidth\": 0}}, \"hconcat\": [{\"data\": {\"name\": \"data-0fbaf84e8f0f7d7f527747f9806e7599\"}, \"mark\": \"bar\", \"encoding\": {\"color\": {\"condition\": {\"value\": \"orange\", \"test\": \"(datum.Stores >= 4574)\"}, \"value\": \"steelblue\"}, \"tooltip\": [{\"type\": \"nominal\", \"field\": \"Company\", \"title\": \"Company\"}, {\"type\": \"quantitative\", \"field\": \"Sales\", \"title\": \"Sales MUSD\"}, {\"type\": \"quantitative\", \"field\": \"Stores\", \"title\": \"Stores\"}], \"x\": {\"type\": \"quantitative\", \"axis\": {\"domain\": false, \"grid\": false, \"labelFontSize\": 12, \"labels\": false, \"ticks\": false}, \"field\": \"Stores\", \"title\": \"\"}, \"y\": {\"type\": \"nominal\", \"axis\": {\"grid\": false, \"labelFontSize\": 14, \"titleAnchor\": \"start\", \"titleAngle\": 0, \"titleFontSize\": 18}, \"field\": \"Company\", \"sort\": \"-x\", \"title\": \"Stores\"}}}, {\"data\": {\"name\": \"data-44f77faad9d92423197097a4f701b2a7\"}, \"mark\": \"bar\", \"encoding\": {\"color\": {\"condition\": {\"value\": \"orange\", \"test\": \"(datum.Stores >= 4574)\"}, \"value\": \"steelblue\"}, \"tooltip\": [{\"type\": \"nominal\", \"field\": \"Company\", \"title\": \"Company\"}, {\"type\": \"quantitative\", \"field\": \"Sales\", \"title\": \"Sales MUSD\"}, {\"type\": \"quantitative\", \"field\": \"Stores\", \"title\": \"Stores\"}], \"x\": {\"type\": \"quantitative\", \"axis\": {\"domain\": false, \"grid\": false, \"labelFontSize\": 12, \"labels\": false, \"ticks\": false}, \"field\": \"Sales\", \"title\": \"\"}, \"y\": {\"type\": \"nominal\", \"axis\": {\"grid\": false, \"labelFontSize\": 14, \"titleAnchor\": \"start\", \"titleAngle\": 0, \"titleFontSize\": 18}, \"field\": \"Company\", \"sort\": \"-x\", \"title\": \"Top 5: Sales\"}}}], \"$schema\": \"https://vega.github.io/schema/vega-lite/v4.8.1.json\", \"datasets\": {\"data-0fbaf84e8f0f7d7f527747f9806e7599\": [{\"Company\": \"Walmart US\", \"Sales\": 658119, \"Stores\": 4574.0, \"Sales/Avg. Store\": 65.64972497, \"Store Count Growth\": 0.01284322409, \"Category\": \"Supercenters\"}, {\"Company\": \"Kroger\", \"Sales\": 115037, \"Stores\": 3931.0, \"Sales/Avg. Store\": 30.03184963, \"Store Count Growth\": 0.05388739946, \"Category\": \"Grocery\"}, {\"Company\": \"Costco\", \"Sales\": 90048, \"Stores\": 495.0, \"Sales/Avg. Store\": 187.7956204, \"Store Count Growth\": 0.06681034483, \"Category\": \"Warehouse Club\"}, {\"Company\": \"Home Depot\", \"Sales\": 83976, \"Stores\": 1965.0, \"Sales/Avg. Store\": 42.73587786, \"Store Count Growth\": 0.0, \"Category\": \"Home Improvement\"}, {\"Company\": \"Walgreen Boots\", \"Sales\": 78924, \"Stores\": 8002.0, \"Sales/Avg. Store\": 9.81092672, \"Store Count Growth\": -0.01051069618, \"Category\": \"Drug Stores\"}, {\"Company\": \"CVS incl. Target\", \"Sales\": 77792, \"Stores\": 9813.0, \"Sales/Avg. Store\": 8.825958702, \"Store Count Growth\": 0.2556621881, \"Category\": \"Drug Stores\"}, {\"Company\": \"Amazon\", \"Sales\": 71687, \"Stores\": null, \"Sales/Avg. Store\": null, \"Store Count Growth\": null, \"Category\": \"Electronic/Mail Order\"}, {\"Company\": \"Target\", \"Sales\": 71208, \"Stores\": 1772.0, \"Sales/Avg. Store\": 39.98203257, \"Store Count Growth\": -0.01005586592, \"Category\": \"Supercenters\"}, {\"Company\": \"Lowe's\", \"Sales\": 60311, \"Stores\": 1828.0, \"Sales/Avg. Store\": 33.31179232, \"Store Count Growth\": 0.01952035694, \"Category\": \"Home Improvement\"}, {\"Company\": \"Albertsons\", \"Sales\": 56829, \"Stores\": 2326.0, \"Sales/Avg. Store\": 23.87773109, \"Store Count Growth\": -0.04437140509, \"Category\": \"Grocery\"}, {\"Company\": \"Sam's Club\", \"Sales\": 56828, \"Stores\": 655.0, \"Sales/Avg. Store\": 87.29339478, \"Store Count Growth\": 0.01236476043, \"Category\": \"Warehouse Clubs\"}, {\"Company\": \"Apple incl. Online\", \"Sales\": 37664, \"Stores\": null, \"Sales/Avg. Store\": null, \"Store Count Growth\": null, \"Category\": null}, {\"Company\": \"Best Buy\", \"Sales\": 34980, \"Stores\": 1389.0, \"Sales/Avg. Store\": 24.68595625, \"Store Count Growth\": -0.03875432526, \"Category\": \"Electronics\"}, {\"Company\": \"Publix\", \"Sales\": 34408, \"Stores\": 1351.0, \"Sales/Avg. Store\": 25.99773328, \"Store Count Growth\": 0.0424382716, \"Category\": \"Grocery\"}, {\"Company\": \"Rite Aid\", \"Sales\": 27486, \"Stores\": 4553.0, \"Sales/Avg. Store\": 6.025649457, \"Store Count Growth\": -0.003719912473, \"Category\": \"Drug Stores\"}, {\"Company\": \"Ahold\", \"Sales\": 26903, \"Stores\": 794.0, \"Sales/Avg. Store\": 34.446863, \"Store Count Growth\": 0.03385416667, \"Category\": \"Grocery\"}, {\"Company\": \"Macy's\", \"Sales\": 26028, \"Stores\": 889.0, \"Sales/Avg. Store\": 30.44210526, \"Store Count Growth\": 0.08282582217, \"Category\": \"Department Stores\"}, {\"Company\": \"TJX\", \"Sales\": 25012, \"Stores\": 2770.0, \"Sales/Avg. Store\": 9.369544859, \"Store Count Growth\": 0.07824056053, \"Category\": \"Apparel\"}, {\"Company\": \"Aldi\", \"Sales\": 24402, \"Stores\": 2021.0, \"Sales/Avg. Store\": 12.71599792, \"Store Count Growth\": 0.1122729774, \"Category\": \"Grocery\"}, {\"Company\": \"Dollar General\", \"Sales\": 22234, \"Stores\": 13350.0, \"Sales/Avg. Store\": 1.768884999, \"Store Count Growth\": 0.1324115701, \"Category\": \"Dollar Stores\"}, {\"Company\": \"Dollar Tree\", \"Sales\": 21464, \"Stores\": 14250.0, \"Sales/Avg. Store\": 1.56391854, \"Store Count Growth\": 0.07962724449, \"Category\": \"Dollar Stores\"}, {\"Company\": \"HEB\", \"Sales\": 21384, \"Stores\": 323.0, \"Sales/Avg. Store\": 66.825, \"Store Count Growth\": 0.01892744479, \"Category\": \"Grocery\"}, {\"Company\": \"Kohl's\", \"Sales\": 19060, \"Stores\": 1169.0, \"Sales/Avg. Store\": 16.35349635, \"Store Count Growth\": 0.006024096386, \"Category\": \"Department Stores\"}, {\"Company\": \"Delhaize\", \"Sales\": 18201, \"Stores\": 1280.0, \"Sales/Avg. Store\": 13.78341537, \"Store Count Growth\": -0.05951506245, \"Category\": \"Grocery\"}, {\"Company\": \"Meijer\", \"Sales\": 16592, \"Stores\": 231.0, \"Sales/Avg. Store\": 74.73873874, \"Store Count Growth\": 0.08450704225, \"Category\": \"Supercenters\"}], \"data-44f77faad9d92423197097a4f701b2a7\": [{\"Company\": \"Walmart US\", \"Sales\": 658119, \"Stores\": 4574.0, \"Sales/Avg. Store\": 65.64972497, \"Store Count Growth\": 0.01284322409, \"Category\": \"Supercenters\"}, {\"Company\": \"Kroger\", \"Sales\": 115037, \"Stores\": 3931.0, \"Sales/Avg. Store\": 30.03184963, \"Store Count Growth\": 0.05388739946, \"Category\": \"Grocery\"}, {\"Company\": \"Costco\", \"Sales\": 90048, \"Stores\": 495.0, \"Sales/Avg. Store\": 187.7956204, \"Store Count Growth\": 0.06681034483, \"Category\": \"Warehouse Club\"}, {\"Company\": \"Home Depot\", \"Sales\": 83976, \"Stores\": 1965.0, \"Sales/Avg. Store\": 42.73587786, \"Store Count Growth\": 0.0, \"Category\": \"Home Improvement\"}, {\"Company\": \"Walgreen Boots\", \"Sales\": 78924, \"Stores\": 8002.0, \"Sales/Avg. Store\": 9.81092672, \"Store Count Growth\": -0.01051069618, \"Category\": \"Drug Stores\"}]}}, {\"mode\": \"vega-lite\"});\n</script>",
      "text/plain": "alt.HConcatChart(...)"
     },
     "metadata": {}
    }
   ]
  },
  {
   "cell_type": "markdown",
   "source": "Las cinco compañías con más tiendas son:\n\n1. **Dollar Tree**\n2. **Dollar General**\n3. **CVS incl. Target**\n4. **Walgreen Boots**\n5. **Walmart US**\n\nDe las cuales sólo Walgreen Boots y Walmart se encuentran en el top 5 de las compañías con más ventas, como lo muestran las gráficas.\n",
   "metadata": {
    "cell_id": "0471e178-940d-40d0-b562-0a08635856e1",
    "tags": [],
    "deepnote_app_coordinates": {
     "x": 0,
     "y": 392,
     "w": 19,
     "h": 9
    },
    "deepnote_cell_type": "markdown"
   }
  },
  {
   "cell_type": "markdown",
   "source": "## II. Preguntas opcionales",
   "metadata": {
    "cell_id": "7d1d5db9-ad1d-4081-968b-bea1357e236a",
    "tags": [],
    "deepnote_cell_height": 70,
    "deepnote_cell_type": "markdown"
   }
  },
  {
   "cell_type": "markdown",
   "source": "### 7. ¿Qué categoría de compañía generó más ventas?",
   "metadata": {
    "cell_id": "27e5ddcb-8674-4809-844e-8c3442430be1",
    "tags": [],
    "deepnote_cell_height": 94,
    "deepnote_app_coordinates": {
     "x": 0,
     "y": 402,
     "w": 19,
     "h": 3
    },
    "deepnote_cell_type": "markdown"
   }
  },
  {
   "cell_type": "code",
   "metadata": {
    "cell_id": "0348aa84-249a-41cc-a019-4aefd9caae35",
    "tags": [],
    "deepnote_to_be_reexecuted": false,
    "source_hash": "f9e0c238",
    "execution_start": 1645592494125,
    "execution_millis": 2,
    "deepnote_app_coordinates": {
     "x": 0,
     "y": 406,
     "w": 19,
     "h": 25
    },
    "deepnote_cell_type": "code"
   },
   "source": "alt.Chart(df).mark_bar(\n    color=\"lightblue\"\n).encode(\n    x = alt.X('Sales', title='', axis=alt.Axis(grid=False, format='.2s',labels = False,ticks = False, domain = False)),\n    y = alt.Y('Category', title=''),\n    tooltip = [alt.Tooltip('Sales', title='Sales [M USD]')]\n).configure_view(\n    strokeWidth=0\n).properties(\n    title = 'Sales per Category'\n).configure_title(\n    fontSize = 18,\n    anchor = 'middle',\n    color = 'steelblue'\n)",
   "execution_count": 18,
   "outputs": [
    {
     "output_type": "execute_result",
     "execution_count": 18,
     "data": {
      "text/html": "\n<div id=\"altair-viz-85f3b2963b3343a3ab2078ba252c5360\"></div>\n<script type=\"text/javascript\">\n  (function(spec, embedOpt){\n    let outputDiv = document.currentScript.previousElementSibling;\n    if (outputDiv.id !== \"altair-viz-85f3b2963b3343a3ab2078ba252c5360\") {\n      outputDiv = document.getElementById(\"altair-viz-85f3b2963b3343a3ab2078ba252c5360\");\n    }\n    const paths = {\n      \"vega\": \"https://cdn.jsdelivr.net/npm//vega@5?noext\",\n      \"vega-lib\": \"https://cdn.jsdelivr.net/npm//vega-lib?noext\",\n      \"vega-lite\": \"https://cdn.jsdelivr.net/npm//vega-lite@4.8.1?noext\",\n      \"vega-embed\": \"https://cdn.jsdelivr.net/npm//vega-embed@6?noext\",\n    };\n\n    function loadScript(lib) {\n      return new Promise(function(resolve, reject) {\n        var s = document.createElement('script');\n        s.src = paths[lib];\n        s.async = true;\n        s.onload = () => resolve(paths[lib]);\n        s.onerror = () => reject(`Error loading script: ${paths[lib]}`);\n        document.getElementsByTagName(\"head\")[0].appendChild(s);\n      });\n    }\n\n    function showError(err) {\n      outputDiv.innerHTML = `<div class=\"error\" style=\"color:red;\">${err}</div>`;\n      throw err;\n    }\n\n    function displayChart(vegaEmbed) {\n      vegaEmbed(outputDiv, spec, embedOpt)\n        .catch(err => showError(`Javascript Error: ${err.message}<br>This usually means there's a typo in your chart specification. See the javascript console for the full traceback.`));\n    }\n\n    if(typeof define === \"function\" && define.amd) {\n      requirejs.config({paths});\n      require([\"vega-embed\"], displayChart, err => showError(`Error loading script: ${err.message}`));\n    } else if (typeof vegaEmbed === \"function\") {\n      displayChart(vegaEmbed);\n    } else {\n      loadScript(\"vega\")\n        .then(() => loadScript(\"vega-lite\"))\n        .then(() => loadScript(\"vega-embed\"))\n        .catch(showError)\n        .then(() => displayChart(vegaEmbed));\n    }\n  })({\"config\": {\"view\": {\"continuousWidth\": 400, \"continuousHeight\": 300, \"strokeWidth\": 0}, \"title\": {\"anchor\": \"middle\", \"color\": \"steelblue\", \"fontSize\": 18}}, \"data\": {\"name\": \"data-0fbaf84e8f0f7d7f527747f9806e7599\"}, \"mark\": {\"type\": \"bar\", \"color\": \"lightblue\"}, \"encoding\": {\"tooltip\": [{\"type\": \"quantitative\", \"field\": \"Sales\", \"title\": \"Sales [M USD]\"}], \"x\": {\"type\": \"quantitative\", \"axis\": {\"domain\": false, \"format\": \".2s\", \"grid\": false, \"labels\": false, \"ticks\": false}, \"field\": \"Sales\", \"title\": \"\"}, \"y\": {\"type\": \"nominal\", \"field\": \"Category\", \"title\": \"\"}}, \"title\": \"Sales per Category\", \"$schema\": \"https://vega.github.io/schema/vega-lite/v4.8.1.json\", \"datasets\": {\"data-0fbaf84e8f0f7d7f527747f9806e7599\": [{\"Company\": \"Walmart US\", \"Sales\": 658119, \"Stores\": 4574.0, \"Sales/Avg. Store\": 65.64972497, \"Store Count Growth\": 0.01284322409, \"Category\": \"Supercenters\"}, {\"Company\": \"Kroger\", \"Sales\": 115037, \"Stores\": 3931.0, \"Sales/Avg. Store\": 30.03184963, \"Store Count Growth\": 0.05388739946, \"Category\": \"Grocery\"}, {\"Company\": \"Costco\", \"Sales\": 90048, \"Stores\": 495.0, \"Sales/Avg. Store\": 187.7956204, \"Store Count Growth\": 0.06681034483, \"Category\": \"Warehouse Club\"}, {\"Company\": \"Home Depot\", \"Sales\": 83976, \"Stores\": 1965.0, \"Sales/Avg. Store\": 42.73587786, \"Store Count Growth\": 0.0, \"Category\": \"Home Improvement\"}, {\"Company\": \"Walgreen Boots\", \"Sales\": 78924, \"Stores\": 8002.0, \"Sales/Avg. Store\": 9.81092672, \"Store Count Growth\": -0.01051069618, \"Category\": \"Drug Stores\"}, {\"Company\": \"CVS incl. Target\", \"Sales\": 77792, \"Stores\": 9813.0, \"Sales/Avg. Store\": 8.825958702, \"Store Count Growth\": 0.2556621881, \"Category\": \"Drug Stores\"}, {\"Company\": \"Amazon\", \"Sales\": 71687, \"Stores\": null, \"Sales/Avg. Store\": null, \"Store Count Growth\": null, \"Category\": \"Electronic/Mail Order\"}, {\"Company\": \"Target\", \"Sales\": 71208, \"Stores\": 1772.0, \"Sales/Avg. Store\": 39.98203257, \"Store Count Growth\": -0.01005586592, \"Category\": \"Supercenters\"}, {\"Company\": \"Lowe's\", \"Sales\": 60311, \"Stores\": 1828.0, \"Sales/Avg. Store\": 33.31179232, \"Store Count Growth\": 0.01952035694, \"Category\": \"Home Improvement\"}, {\"Company\": \"Albertsons\", \"Sales\": 56829, \"Stores\": 2326.0, \"Sales/Avg. Store\": 23.87773109, \"Store Count Growth\": -0.04437140509, \"Category\": \"Grocery\"}, {\"Company\": \"Sam's Club\", \"Sales\": 56828, \"Stores\": 655.0, \"Sales/Avg. Store\": 87.29339478, \"Store Count Growth\": 0.01236476043, \"Category\": \"Warehouse Clubs\"}, {\"Company\": \"Apple incl. Online\", \"Sales\": 37664, \"Stores\": null, \"Sales/Avg. Store\": null, \"Store Count Growth\": null, \"Category\": null}, {\"Company\": \"Best Buy\", \"Sales\": 34980, \"Stores\": 1389.0, \"Sales/Avg. Store\": 24.68595625, \"Store Count Growth\": -0.03875432526, \"Category\": \"Electronics\"}, {\"Company\": \"Publix\", \"Sales\": 34408, \"Stores\": 1351.0, \"Sales/Avg. Store\": 25.99773328, \"Store Count Growth\": 0.0424382716, \"Category\": \"Grocery\"}, {\"Company\": \"Rite Aid\", \"Sales\": 27486, \"Stores\": 4553.0, \"Sales/Avg. Store\": 6.025649457, \"Store Count Growth\": -0.003719912473, \"Category\": \"Drug Stores\"}, {\"Company\": \"Ahold\", \"Sales\": 26903, \"Stores\": 794.0, \"Sales/Avg. Store\": 34.446863, \"Store Count Growth\": 0.03385416667, \"Category\": \"Grocery\"}, {\"Company\": \"Macy's\", \"Sales\": 26028, \"Stores\": 889.0, \"Sales/Avg. Store\": 30.44210526, \"Store Count Growth\": 0.08282582217, \"Category\": \"Department Stores\"}, {\"Company\": \"TJX\", \"Sales\": 25012, \"Stores\": 2770.0, \"Sales/Avg. Store\": 9.369544859, \"Store Count Growth\": 0.07824056053, \"Category\": \"Apparel\"}, {\"Company\": \"Aldi\", \"Sales\": 24402, \"Stores\": 2021.0, \"Sales/Avg. Store\": 12.71599792, \"Store Count Growth\": 0.1122729774, \"Category\": \"Grocery\"}, {\"Company\": \"Dollar General\", \"Sales\": 22234, \"Stores\": 13350.0, \"Sales/Avg. Store\": 1.768884999, \"Store Count Growth\": 0.1324115701, \"Category\": \"Dollar Stores\"}, {\"Company\": \"Dollar Tree\", \"Sales\": 21464, \"Stores\": 14250.0, \"Sales/Avg. Store\": 1.56391854, \"Store Count Growth\": 0.07962724449, \"Category\": \"Dollar Stores\"}, {\"Company\": \"HEB\", \"Sales\": 21384, \"Stores\": 323.0, \"Sales/Avg. Store\": 66.825, \"Store Count Growth\": 0.01892744479, \"Category\": \"Grocery\"}, {\"Company\": \"Kohl's\", \"Sales\": 19060, \"Stores\": 1169.0, \"Sales/Avg. Store\": 16.35349635, \"Store Count Growth\": 0.006024096386, \"Category\": \"Department Stores\"}, {\"Company\": \"Delhaize\", \"Sales\": 18201, \"Stores\": 1280.0, \"Sales/Avg. Store\": 13.78341537, \"Store Count Growth\": -0.05951506245, \"Category\": \"Grocery\"}, {\"Company\": \"Meijer\", \"Sales\": 16592, \"Stores\": 231.0, \"Sales/Avg. Store\": 74.73873874, \"Store Count Growth\": 0.08450704225, \"Category\": \"Supercenters\"}]}}, {\"mode\": \"vega-lite\"});\n</script>",
      "text/plain": "alt.Chart(...)"
     },
     "metadata": {}
    }
   ]
  },
  {
   "cell_type": "markdown",
   "source": "La categoría con más ventas fue **Supercenters** con mas de 650 mil millones de dólares en ventas. Lo cual es muy lógico considerando los datos que se presentaron a lo largo del reporte, donde Walmart es el mayor vendedor y cae en esta categoría.",
   "metadata": {
    "cell_id": "185f8239-5c44-45ab-8875-8f501ab2ef12",
    "tags": [],
    "deepnote_app_coordinates": {
     "x": 0,
     "y": 432,
     "w": 19,
     "h": 3
    },
    "deepnote_cell_type": "markdown"
   }
  },
  {
   "cell_type": "markdown",
   "source": "### 8. ¿Cuál es la compañía que en relación con su cantidad de tiendas físicas genera más ventas?",
   "metadata": {
    "cell_id": "33668883-9f01-485c-bdf9-822cd13ad952",
    "tags": [],
    "deepnote_cell_height": 94,
    "deepnote_app_coordinates": {
     "x": 0,
     "y": 436,
     "w": 19,
     "h": 4
    },
    "deepnote_cell_type": "markdown"
   }
  },
  {
   "cell_type": "code",
   "metadata": {
    "cell_id": "61445022-6fec-4f1a-a4d9-666a40e4ead1",
    "tags": [],
    "deepnote_to_be_reexecuted": false,
    "source_hash": "39db045",
    "execution_start": 1645592494136,
    "execution_millis": 44,
    "deepnote_app_coordinates": {
     "x": 0,
     "y": 441,
     "w": 19,
     "h": 30
    },
    "deepnote_cell_type": "code"
   },
   "source": "alt.Chart(df).mark_bar(color='orange').encode(\n    x= alt.X('Sales\\/Avg\\. Store:Q', title = '', axis=alt.Axis(grid=False)),\n    y= alt.Y('Company', title=''),\n    tooltip = 'Sales\\/Avg\\. Store:Q'\n).configure_view(\n    strokeWidth=0\n).properties(\n    title = 'Average sales per Store'\n)",
   "execution_count": 19,
   "outputs": [
    {
     "output_type": "execute_result",
     "execution_count": 19,
     "data": {
      "text/html": "\n<div id=\"altair-viz-fb5ca7eabc9747109db69e18fdd03570\"></div>\n<script type=\"text/javascript\">\n  (function(spec, embedOpt){\n    let outputDiv = document.currentScript.previousElementSibling;\n    if (outputDiv.id !== \"altair-viz-fb5ca7eabc9747109db69e18fdd03570\") {\n      outputDiv = document.getElementById(\"altair-viz-fb5ca7eabc9747109db69e18fdd03570\");\n    }\n    const paths = {\n      \"vega\": \"https://cdn.jsdelivr.net/npm//vega@5?noext\",\n      \"vega-lib\": \"https://cdn.jsdelivr.net/npm//vega-lib?noext\",\n      \"vega-lite\": \"https://cdn.jsdelivr.net/npm//vega-lite@4.8.1?noext\",\n      \"vega-embed\": \"https://cdn.jsdelivr.net/npm//vega-embed@6?noext\",\n    };\n\n    function loadScript(lib) {\n      return new Promise(function(resolve, reject) {\n        var s = document.createElement('script');\n        s.src = paths[lib];\n        s.async = true;\n        s.onload = () => resolve(paths[lib]);\n        s.onerror = () => reject(`Error loading script: ${paths[lib]}`);\n        document.getElementsByTagName(\"head\")[0].appendChild(s);\n      });\n    }\n\n    function showError(err) {\n      outputDiv.innerHTML = `<div class=\"error\" style=\"color:red;\">${err}</div>`;\n      throw err;\n    }\n\n    function displayChart(vegaEmbed) {\n      vegaEmbed(outputDiv, spec, embedOpt)\n        .catch(err => showError(`Javascript Error: ${err.message}<br>This usually means there's a typo in your chart specification. See the javascript console for the full traceback.`));\n    }\n\n    if(typeof define === \"function\" && define.amd) {\n      requirejs.config({paths});\n      require([\"vega-embed\"], displayChart, err => showError(`Error loading script: ${err.message}`));\n    } else if (typeof vegaEmbed === \"function\") {\n      displayChart(vegaEmbed);\n    } else {\n      loadScript(\"vega\")\n        .then(() => loadScript(\"vega-lite\"))\n        .then(() => loadScript(\"vega-embed\"))\n        .catch(showError)\n        .then(() => displayChart(vegaEmbed));\n    }\n  })({\"config\": {\"view\": {\"continuousWidth\": 400, \"continuousHeight\": 300, \"strokeWidth\": 0}}, \"data\": {\"name\": \"data-0fbaf84e8f0f7d7f527747f9806e7599\"}, \"mark\": {\"type\": \"bar\", \"color\": \"orange\"}, \"encoding\": {\"tooltip\": {\"type\": \"quantitative\", \"field\": \"Sales\\\\/Avg\\\\. Store\"}, \"x\": {\"type\": \"quantitative\", \"axis\": {\"grid\": false}, \"field\": \"Sales\\\\/Avg\\\\. Store\", \"title\": \"\"}, \"y\": {\"type\": \"nominal\", \"field\": \"Company\", \"title\": \"\"}}, \"title\": \"Average sales per Store\", \"$schema\": \"https://vega.github.io/schema/vega-lite/v4.8.1.json\", \"datasets\": {\"data-0fbaf84e8f0f7d7f527747f9806e7599\": [{\"Company\": \"Walmart US\", \"Sales\": 658119, \"Stores\": 4574.0, \"Sales/Avg. Store\": 65.64972497, \"Store Count Growth\": 0.01284322409, \"Category\": \"Supercenters\"}, {\"Company\": \"Kroger\", \"Sales\": 115037, \"Stores\": 3931.0, \"Sales/Avg. Store\": 30.03184963, \"Store Count Growth\": 0.05388739946, \"Category\": \"Grocery\"}, {\"Company\": \"Costco\", \"Sales\": 90048, \"Stores\": 495.0, \"Sales/Avg. Store\": 187.7956204, \"Store Count Growth\": 0.06681034483, \"Category\": \"Warehouse Club\"}, {\"Company\": \"Home Depot\", \"Sales\": 83976, \"Stores\": 1965.0, \"Sales/Avg. Store\": 42.73587786, \"Store Count Growth\": 0.0, \"Category\": \"Home Improvement\"}, {\"Company\": \"Walgreen Boots\", \"Sales\": 78924, \"Stores\": 8002.0, \"Sales/Avg. Store\": 9.81092672, \"Store Count Growth\": -0.01051069618, \"Category\": \"Drug Stores\"}, {\"Company\": \"CVS incl. Target\", \"Sales\": 77792, \"Stores\": 9813.0, \"Sales/Avg. Store\": 8.825958702, \"Store Count Growth\": 0.2556621881, \"Category\": \"Drug Stores\"}, {\"Company\": \"Amazon\", \"Sales\": 71687, \"Stores\": null, \"Sales/Avg. Store\": null, \"Store Count Growth\": null, \"Category\": \"Electronic/Mail Order\"}, {\"Company\": \"Target\", \"Sales\": 71208, \"Stores\": 1772.0, \"Sales/Avg. Store\": 39.98203257, \"Store Count Growth\": -0.01005586592, \"Category\": \"Supercenters\"}, {\"Company\": \"Lowe's\", \"Sales\": 60311, \"Stores\": 1828.0, \"Sales/Avg. Store\": 33.31179232, \"Store Count Growth\": 0.01952035694, \"Category\": \"Home Improvement\"}, {\"Company\": \"Albertsons\", \"Sales\": 56829, \"Stores\": 2326.0, \"Sales/Avg. Store\": 23.87773109, \"Store Count Growth\": -0.04437140509, \"Category\": \"Grocery\"}, {\"Company\": \"Sam's Club\", \"Sales\": 56828, \"Stores\": 655.0, \"Sales/Avg. Store\": 87.29339478, \"Store Count Growth\": 0.01236476043, \"Category\": \"Warehouse Clubs\"}, {\"Company\": \"Apple incl. Online\", \"Sales\": 37664, \"Stores\": null, \"Sales/Avg. Store\": null, \"Store Count Growth\": null, \"Category\": null}, {\"Company\": \"Best Buy\", \"Sales\": 34980, \"Stores\": 1389.0, \"Sales/Avg. Store\": 24.68595625, \"Store Count Growth\": -0.03875432526, \"Category\": \"Electronics\"}, {\"Company\": \"Publix\", \"Sales\": 34408, \"Stores\": 1351.0, \"Sales/Avg. Store\": 25.99773328, \"Store Count Growth\": 0.0424382716, \"Category\": \"Grocery\"}, {\"Company\": \"Rite Aid\", \"Sales\": 27486, \"Stores\": 4553.0, \"Sales/Avg. Store\": 6.025649457, \"Store Count Growth\": -0.003719912473, \"Category\": \"Drug Stores\"}, {\"Company\": \"Ahold\", \"Sales\": 26903, \"Stores\": 794.0, \"Sales/Avg. Store\": 34.446863, \"Store Count Growth\": 0.03385416667, \"Category\": \"Grocery\"}, {\"Company\": \"Macy's\", \"Sales\": 26028, \"Stores\": 889.0, \"Sales/Avg. Store\": 30.44210526, \"Store Count Growth\": 0.08282582217, \"Category\": \"Department Stores\"}, {\"Company\": \"TJX\", \"Sales\": 25012, \"Stores\": 2770.0, \"Sales/Avg. Store\": 9.369544859, \"Store Count Growth\": 0.07824056053, \"Category\": \"Apparel\"}, {\"Company\": \"Aldi\", \"Sales\": 24402, \"Stores\": 2021.0, \"Sales/Avg. Store\": 12.71599792, \"Store Count Growth\": 0.1122729774, \"Category\": \"Grocery\"}, {\"Company\": \"Dollar General\", \"Sales\": 22234, \"Stores\": 13350.0, \"Sales/Avg. Store\": 1.768884999, \"Store Count Growth\": 0.1324115701, \"Category\": \"Dollar Stores\"}, {\"Company\": \"Dollar Tree\", \"Sales\": 21464, \"Stores\": 14250.0, \"Sales/Avg. Store\": 1.56391854, \"Store Count Growth\": 0.07962724449, \"Category\": \"Dollar Stores\"}, {\"Company\": \"HEB\", \"Sales\": 21384, \"Stores\": 323.0, \"Sales/Avg. Store\": 66.825, \"Store Count Growth\": 0.01892744479, \"Category\": \"Grocery\"}, {\"Company\": \"Kohl's\", \"Sales\": 19060, \"Stores\": 1169.0, \"Sales/Avg. Store\": 16.35349635, \"Store Count Growth\": 0.006024096386, \"Category\": \"Department Stores\"}, {\"Company\": \"Delhaize\", \"Sales\": 18201, \"Stores\": 1280.0, \"Sales/Avg. Store\": 13.78341537, \"Store Count Growth\": -0.05951506245, \"Category\": \"Grocery\"}, {\"Company\": \"Meijer\", \"Sales\": 16592, \"Stores\": 231.0, \"Sales/Avg. Store\": 74.73873874, \"Store Count Growth\": 0.08450704225, \"Category\": \"Supercenters\"}]}}, {\"mode\": \"vega-lite\"});\n</script>",
      "text/plain": "alt.Chart(...)"
     },
     "metadata": {}
    }
   ]
  },
  {
   "cell_type": "markdown",
   "source": "**Costco** tiene el mayor promedio de ventas por tienda física, y es muy visible en la gráfica ya que la diferencia con la demás compañias es grande.",
   "metadata": {
    "cell_id": "0681abfa-ef1b-405b-a5fe-5a198c8fa9f8",
    "tags": [],
    "deepnote_app_coordinates": {
     "x": 0,
     "y": 472,
     "w": 19,
     "h": 3
    },
    "deepnote_cell_type": "markdown"
   }
  },
  {
   "cell_type": "markdown",
   "source": "### 9. ¿Cuáles compañías venden de forma exclusivamente online? ¿Sus ventas destacan sobre las que también tienen tiendas físicas?",
   "metadata": {
    "cell_id": "e9a00ffe-de8a-41f0-98e7-67b905d0d14f",
    "tags": [],
    "deepnote_cell_height": 126,
    "deepnote_app_coordinates": {
     "x": 0,
     "y": 477,
     "w": 19,
     "h": 5
    },
    "deepnote_cell_type": "markdown"
   }
  },
  {
   "cell_type": "code",
   "metadata": {
    "cell_id": "cb6d5d30-783d-44af-9c84-f31689cb3487",
    "tags": [],
    "deepnote_to_be_reexecuted": false,
    "source_hash": "e8ec17a8",
    "deepnote_cell_height": 81,
    "execution_start": 1645592494182,
    "execution_millis": 36,
    "deepnote_app_coordinates": {
     "x": 0,
     "y": 482,
     "w": 19,
     "h": 7
    },
    "deepnote_cell_type": "code"
   },
   "source": "df[np.isnan(df['Stores'])]",
   "execution_count": 20,
   "outputs": [
    {
     "output_type": "execute_result",
     "execution_count": 20,
     "data": {
      "application/vnd.deepnote.dataframe.v3+json": {
       "column_count": 6,
       "row_count": 2,
       "columns": [
        {
         "name": "Company",
         "dtype": "object",
         "stats": {
          "unique_count": 2,
          "nan_count": 0,
          "categories": [
           {
            "name": "Amazon",
            "count": 1
           },
           {
            "name": "Apple incl. Online",
            "count": 1
           }
          ]
         }
        },
        {
         "name": "Sales",
         "dtype": "int64",
         "stats": {
          "unique_count": 2,
          "nan_count": 0,
          "min": "37664",
          "max": "71687",
          "histogram": [
           {
            "bin_start": 37664,
            "bin_end": 41066.3,
            "count": 1
           },
           {
            "bin_start": 41066.3,
            "bin_end": 44468.6,
            "count": 0
           },
           {
            "bin_start": 44468.6,
            "bin_end": 47870.9,
            "count": 0
           },
           {
            "bin_start": 47870.9,
            "bin_end": 51273.2,
            "count": 0
           },
           {
            "bin_start": 51273.2,
            "bin_end": 54675.5,
            "count": 0
           },
           {
            "bin_start": 54675.5,
            "bin_end": 58077.8,
            "count": 0
           },
           {
            "bin_start": 58077.8,
            "bin_end": 61480.100000000006,
            "count": 0
           },
           {
            "bin_start": 61480.100000000006,
            "bin_end": 64882.4,
            "count": 0
           },
           {
            "bin_start": 64882.4,
            "bin_end": 68284.7,
            "count": 0
           },
           {
            "bin_start": 68284.7,
            "bin_end": 71687,
            "count": 1
           }
          ]
         }
        },
        {
         "name": "Stores",
         "dtype": "float64",
         "stats": {
          "unique_count": 0,
          "nan_count": 2,
          "min": null,
          "max": null,
          "histogram": [
           {
            "bin_start": 0,
            "bin_end": 0.1,
            "count": 0
           },
           {
            "bin_start": 0.1,
            "bin_end": 0.2,
            "count": 0
           },
           {
            "bin_start": 0.2,
            "bin_end": 0.30000000000000004,
            "count": 0
           },
           {
            "bin_start": 0.30000000000000004,
            "bin_end": 0.4,
            "count": 0
           },
           {
            "bin_start": 0.4,
            "bin_end": 0.5,
            "count": 0
           },
           {
            "bin_start": 0.5,
            "bin_end": 0.6000000000000001,
            "count": 0
           },
           {
            "bin_start": 0.6000000000000001,
            "bin_end": 0.7000000000000001,
            "count": 0
           },
           {
            "bin_start": 0.7000000000000001,
            "bin_end": 0.8,
            "count": 0
           },
           {
            "bin_start": 0.8,
            "bin_end": 0.9,
            "count": 0
           },
           {
            "bin_start": 0.9,
            "bin_end": 1,
            "count": 0
           }
          ]
         }
        },
        {
         "name": "Sales/Avg. Store",
         "dtype": "float64",
         "stats": {
          "unique_count": 0,
          "nan_count": 2,
          "min": null,
          "max": null,
          "histogram": [
           {
            "bin_start": 0,
            "bin_end": 0.1,
            "count": 0
           },
           {
            "bin_start": 0.1,
            "bin_end": 0.2,
            "count": 0
           },
           {
            "bin_start": 0.2,
            "bin_end": 0.30000000000000004,
            "count": 0
           },
           {
            "bin_start": 0.30000000000000004,
            "bin_end": 0.4,
            "count": 0
           },
           {
            "bin_start": 0.4,
            "bin_end": 0.5,
            "count": 0
           },
           {
            "bin_start": 0.5,
            "bin_end": 0.6000000000000001,
            "count": 0
           },
           {
            "bin_start": 0.6000000000000001,
            "bin_end": 0.7000000000000001,
            "count": 0
           },
           {
            "bin_start": 0.7000000000000001,
            "bin_end": 0.8,
            "count": 0
           },
           {
            "bin_start": 0.8,
            "bin_end": 0.9,
            "count": 0
           },
           {
            "bin_start": 0.9,
            "bin_end": 1,
            "count": 0
           }
          ]
         }
        },
        {
         "name": "Store Count Growth",
         "dtype": "float64",
         "stats": {
          "unique_count": 0,
          "nan_count": 2,
          "min": null,
          "max": null,
          "histogram": [
           {
            "bin_start": 0,
            "bin_end": 0.1,
            "count": 0
           },
           {
            "bin_start": 0.1,
            "bin_end": 0.2,
            "count": 0
           },
           {
            "bin_start": 0.2,
            "bin_end": 0.30000000000000004,
            "count": 0
           },
           {
            "bin_start": 0.30000000000000004,
            "bin_end": 0.4,
            "count": 0
           },
           {
            "bin_start": 0.4,
            "bin_end": 0.5,
            "count": 0
           },
           {
            "bin_start": 0.5,
            "bin_end": 0.6000000000000001,
            "count": 0
           },
           {
            "bin_start": 0.6000000000000001,
            "bin_end": 0.7000000000000001,
            "count": 0
           },
           {
            "bin_start": 0.7000000000000001,
            "bin_end": 0.8,
            "count": 0
           },
           {
            "bin_start": 0.8,
            "bin_end": 0.9,
            "count": 0
           },
           {
            "bin_start": 0.9,
            "bin_end": 1,
            "count": 0
           }
          ]
         }
        },
        {
         "name": "Category",
         "dtype": "object",
         "stats": {
          "unique_count": 1,
          "nan_count": 1,
          "categories": [
           {
            "name": "Electronic/Mail Order",
            "count": 1
           },
           {
            "name": "Missing",
            "count": 1
           }
          ]
         }
        },
        {
         "name": "_deepnote_index_column",
         "dtype": "int64"
        }
       ],
       "rows": [
        {
         "Company": "Amazon",
         "Sales": 71687,
         "Stores": "nan",
         "Sales/Avg. Store": "nan",
         "Store Count Growth": "nan",
         "Category": "Electronic/Mail Order",
         "_deepnote_index_column": 6
        },
        {
         "Company": "Apple incl. Online",
         "Sales": 37664,
         "Stores": "nan",
         "Sales/Avg. Store": "nan",
         "Store Count Growth": "nan",
         "Category": "nan",
         "_deepnote_index_column": 11
        }
       ]
      },
      "text/plain": "               Company  Sales  Stores  Sales/Avg. Store  Store Count Growth  \\\n6               Amazon  71687     NaN               NaN                 NaN   \n11  Apple incl. Online  37664     NaN               NaN                 NaN   \n\n                 Category  \n6   Electronic/Mail Order  \n11                    NaN  ",
      "text/html": "<div>\n<style scoped>\n    .dataframe tbody tr th:only-of-type {\n        vertical-align: middle;\n    }\n\n    .dataframe tbody tr th {\n        vertical-align: top;\n    }\n\n    .dataframe thead th {\n        text-align: right;\n    }\n</style>\n<table border=\"1\" class=\"dataframe\">\n  <thead>\n    <tr style=\"text-align: right;\">\n      <th></th>\n      <th>Company</th>\n      <th>Sales</th>\n      <th>Stores</th>\n      <th>Sales/Avg. Store</th>\n      <th>Store Count Growth</th>\n      <th>Category</th>\n    </tr>\n  </thead>\n  <tbody>\n    <tr>\n      <th>6</th>\n      <td>Amazon</td>\n      <td>71687</td>\n      <td>NaN</td>\n      <td>NaN</td>\n      <td>NaN</td>\n      <td>Electronic/Mail Order</td>\n    </tr>\n    <tr>\n      <th>11</th>\n      <td>Apple incl. Online</td>\n      <td>37664</td>\n      <td>NaN</td>\n      <td>NaN</td>\n      <td>NaN</td>\n      <td>NaN</td>\n    </tr>\n  </tbody>\n</table>\n</div>"
     },
     "metadata": {}
    }
   ]
  },
  {
   "cell_type": "code",
   "metadata": {
    "cell_id": "b6aa884c-7bab-4383-9f85-bad8daa69dec",
    "tags": [],
    "deepnote_to_be_reexecuted": false,
    "source_hash": "92623e55",
    "execution_start": 1645592640371,
    "execution_millis": 57,
    "deepnote_app_coordinates": {
     "x": 0,
     "y": 490,
     "w": 19,
     "h": 31
    },
    "deepnote_cell_type": "code"
   },
   "source": "alt.Chart(df).mark_bar().encode(\n    x = alt.X('Sales', title = '', axis=alt.Axis(grid = False,labelFontSize=12,labels = False,ticks = False, domain = False)),\n    y = alt.Y('Company', title = 'Stores', sort='-x', axis=alt.Axis(grid = False,labelFontSize=14, titleAnchor='start',titleAngle=0,titleFontSize=18)),\n    tooltip = [alt.Tooltip('Company',title = 'Company'),alt.Tooltip('Sales', title = 'Sales MUSD'),alt.Tooltip('Stores',title='Stores')],\n    color = alt.condition(\n        alt.datum.Stores,\n        alt.ColorValue(\"steelblue\"),\n        alt.ColorValue(\"orange\"))\n).configure_view(\n    strokeWidth=0\n)",
   "execution_count": 26,
   "outputs": [
    {
     "output_type": "execute_result",
     "execution_count": 26,
     "data": {
      "text/html": "\n<div id=\"altair-viz-53069c285c27433aadc30343729f8fbe\"></div>\n<script type=\"text/javascript\">\n  (function(spec, embedOpt){\n    let outputDiv = document.currentScript.previousElementSibling;\n    if (outputDiv.id !== \"altair-viz-53069c285c27433aadc30343729f8fbe\") {\n      outputDiv = document.getElementById(\"altair-viz-53069c285c27433aadc30343729f8fbe\");\n    }\n    const paths = {\n      \"vega\": \"https://cdn.jsdelivr.net/npm//vega@5?noext\",\n      \"vega-lib\": \"https://cdn.jsdelivr.net/npm//vega-lib?noext\",\n      \"vega-lite\": \"https://cdn.jsdelivr.net/npm//vega-lite@4.8.1?noext\",\n      \"vega-embed\": \"https://cdn.jsdelivr.net/npm//vega-embed@6?noext\",\n    };\n\n    function loadScript(lib) {\n      return new Promise(function(resolve, reject) {\n        var s = document.createElement('script');\n        s.src = paths[lib];\n        s.async = true;\n        s.onload = () => resolve(paths[lib]);\n        s.onerror = () => reject(`Error loading script: ${paths[lib]}`);\n        document.getElementsByTagName(\"head\")[0].appendChild(s);\n      });\n    }\n\n    function showError(err) {\n      outputDiv.innerHTML = `<div class=\"error\" style=\"color:red;\">${err}</div>`;\n      throw err;\n    }\n\n    function displayChart(vegaEmbed) {\n      vegaEmbed(outputDiv, spec, embedOpt)\n        .catch(err => showError(`Javascript Error: ${err.message}<br>This usually means there's a typo in your chart specification. See the javascript console for the full traceback.`));\n    }\n\n    if(typeof define === \"function\" && define.amd) {\n      requirejs.config({paths});\n      require([\"vega-embed\"], displayChart, err => showError(`Error loading script: ${err.message}`));\n    } else if (typeof vegaEmbed === \"function\") {\n      displayChart(vegaEmbed);\n    } else {\n      loadScript(\"vega\")\n        .then(() => loadScript(\"vega-lite\"))\n        .then(() => loadScript(\"vega-embed\"))\n        .catch(showError)\n        .then(() => displayChart(vegaEmbed));\n    }\n  })({\"config\": {\"view\": {\"continuousWidth\": 400, \"continuousHeight\": 300, \"strokeWidth\": 0}}, \"data\": {\"name\": \"data-0fbaf84e8f0f7d7f527747f9806e7599\"}, \"mark\": \"bar\", \"encoding\": {\"color\": {\"condition\": {\"value\": \"steelblue\", \"test\": \"datum.Stores\"}, \"value\": \"orange\"}, \"tooltip\": [{\"type\": \"nominal\", \"field\": \"Company\", \"title\": \"Company\"}, {\"type\": \"quantitative\", \"field\": \"Sales\", \"title\": \"Sales MUSD\"}, {\"type\": \"quantitative\", \"field\": \"Stores\", \"title\": \"Stores\"}], \"x\": {\"type\": \"quantitative\", \"axis\": {\"domain\": false, \"grid\": false, \"labelFontSize\": 12, \"labels\": false, \"ticks\": false}, \"field\": \"Sales\", \"title\": \"\"}, \"y\": {\"type\": \"nominal\", \"axis\": {\"grid\": false, \"labelFontSize\": 14, \"titleAnchor\": \"start\", \"titleAngle\": 0, \"titleFontSize\": 18}, \"field\": \"Company\", \"sort\": \"-x\", \"title\": \"Stores\"}}, \"$schema\": \"https://vega.github.io/schema/vega-lite/v4.8.1.json\", \"datasets\": {\"data-0fbaf84e8f0f7d7f527747f9806e7599\": [{\"Company\": \"Walmart US\", \"Sales\": 658119, \"Stores\": 4574.0, \"Sales/Avg. Store\": 65.64972497, \"Store Count Growth\": 0.01284322409, \"Category\": \"Supercenters\"}, {\"Company\": \"Kroger\", \"Sales\": 115037, \"Stores\": 3931.0, \"Sales/Avg. Store\": 30.03184963, \"Store Count Growth\": 0.05388739946, \"Category\": \"Grocery\"}, {\"Company\": \"Costco\", \"Sales\": 90048, \"Stores\": 495.0, \"Sales/Avg. Store\": 187.7956204, \"Store Count Growth\": 0.06681034483, \"Category\": \"Warehouse Club\"}, {\"Company\": \"Home Depot\", \"Sales\": 83976, \"Stores\": 1965.0, \"Sales/Avg. Store\": 42.73587786, \"Store Count Growth\": 0.0, \"Category\": \"Home Improvement\"}, {\"Company\": \"Walgreen Boots\", \"Sales\": 78924, \"Stores\": 8002.0, \"Sales/Avg. Store\": 9.81092672, \"Store Count Growth\": -0.01051069618, \"Category\": \"Drug Stores\"}, {\"Company\": \"CVS incl. Target\", \"Sales\": 77792, \"Stores\": 9813.0, \"Sales/Avg. Store\": 8.825958702, \"Store Count Growth\": 0.2556621881, \"Category\": \"Drug Stores\"}, {\"Company\": \"Amazon\", \"Sales\": 71687, \"Stores\": null, \"Sales/Avg. Store\": null, \"Store Count Growth\": null, \"Category\": \"Electronic/Mail Order\"}, {\"Company\": \"Target\", \"Sales\": 71208, \"Stores\": 1772.0, \"Sales/Avg. Store\": 39.98203257, \"Store Count Growth\": -0.01005586592, \"Category\": \"Supercenters\"}, {\"Company\": \"Lowe's\", \"Sales\": 60311, \"Stores\": 1828.0, \"Sales/Avg. Store\": 33.31179232, \"Store Count Growth\": 0.01952035694, \"Category\": \"Home Improvement\"}, {\"Company\": \"Albertsons\", \"Sales\": 56829, \"Stores\": 2326.0, \"Sales/Avg. Store\": 23.87773109, \"Store Count Growth\": -0.04437140509, \"Category\": \"Grocery\"}, {\"Company\": \"Sam's Club\", \"Sales\": 56828, \"Stores\": 655.0, \"Sales/Avg. Store\": 87.29339478, \"Store Count Growth\": 0.01236476043, \"Category\": \"Warehouse Clubs\"}, {\"Company\": \"Apple incl. Online\", \"Sales\": 37664, \"Stores\": null, \"Sales/Avg. Store\": null, \"Store Count Growth\": null, \"Category\": null}, {\"Company\": \"Best Buy\", \"Sales\": 34980, \"Stores\": 1389.0, \"Sales/Avg. Store\": 24.68595625, \"Store Count Growth\": -0.03875432526, \"Category\": \"Electronics\"}, {\"Company\": \"Publix\", \"Sales\": 34408, \"Stores\": 1351.0, \"Sales/Avg. Store\": 25.99773328, \"Store Count Growth\": 0.0424382716, \"Category\": \"Grocery\"}, {\"Company\": \"Rite Aid\", \"Sales\": 27486, \"Stores\": 4553.0, \"Sales/Avg. Store\": 6.025649457, \"Store Count Growth\": -0.003719912473, \"Category\": \"Drug Stores\"}, {\"Company\": \"Ahold\", \"Sales\": 26903, \"Stores\": 794.0, \"Sales/Avg. Store\": 34.446863, \"Store Count Growth\": 0.03385416667, \"Category\": \"Grocery\"}, {\"Company\": \"Macy's\", \"Sales\": 26028, \"Stores\": 889.0, \"Sales/Avg. Store\": 30.44210526, \"Store Count Growth\": 0.08282582217, \"Category\": \"Department Stores\"}, {\"Company\": \"TJX\", \"Sales\": 25012, \"Stores\": 2770.0, \"Sales/Avg. Store\": 9.369544859, \"Store Count Growth\": 0.07824056053, \"Category\": \"Apparel\"}, {\"Company\": \"Aldi\", \"Sales\": 24402, \"Stores\": 2021.0, \"Sales/Avg. Store\": 12.71599792, \"Store Count Growth\": 0.1122729774, \"Category\": \"Grocery\"}, {\"Company\": \"Dollar General\", \"Sales\": 22234, \"Stores\": 13350.0, \"Sales/Avg. Store\": 1.768884999, \"Store Count Growth\": 0.1324115701, \"Category\": \"Dollar Stores\"}, {\"Company\": \"Dollar Tree\", \"Sales\": 21464, \"Stores\": 14250.0, \"Sales/Avg. Store\": 1.56391854, \"Store Count Growth\": 0.07962724449, \"Category\": \"Dollar Stores\"}, {\"Company\": \"HEB\", \"Sales\": 21384, \"Stores\": 323.0, \"Sales/Avg. Store\": 66.825, \"Store Count Growth\": 0.01892744479, \"Category\": \"Grocery\"}, {\"Company\": \"Kohl's\", \"Sales\": 19060, \"Stores\": 1169.0, \"Sales/Avg. Store\": 16.35349635, \"Store Count Growth\": 0.006024096386, \"Category\": \"Department Stores\"}, {\"Company\": \"Delhaize\", \"Sales\": 18201, \"Stores\": 1280.0, \"Sales/Avg. Store\": 13.78341537, \"Store Count Growth\": -0.05951506245, \"Category\": \"Grocery\"}, {\"Company\": \"Meijer\", \"Sales\": 16592, \"Stores\": 231.0, \"Sales/Avg. Store\": 74.73873874, \"Store Count Growth\": 0.08450704225, \"Category\": \"Supercenters\"}]}}, {\"mode\": \"vega-lite\"});\n</script>",
      "text/plain": "alt.Chart(...)"
     },
     "metadata": {}
    }
   ]
  },
  {
   "cell_type": "markdown",
   "source": "**Amazon** y **Apple Online** no cuentan con tiendas físicas, sin embargo, sus ventas están dentro del rango de las ventas del resto de las compañias; no los posiciona entre las cinco mejores ventas pero si tienen un lugar medio en el conteo general. ",
   "metadata": {
    "cell_id": "a418d8df-abb1-48f3-8727-b30d7564f0ef",
    "tags": [],
    "deepnote_app_coordinates": {
     "x": 0,
     "y": 522,
     "w": 19,
     "h": 4
    },
    "deepnote_cell_type": "markdown"
   }
  },
  {
   "cell_type": "markdown",
   "source": "## III. Tus propias preguntas",
   "metadata": {
    "cell_id": "58c80612-3fb2-4c71-9aab-813b121430a0",
    "tags": [],
    "deepnote_cell_height": 70,
    "deepnote_cell_type": "markdown"
   }
  },
  {
   "cell_type": "markdown",
   "source": "### 10.",
   "metadata": {
    "cell_id": "fa60966b-7d95-43f0-9a1e-201f1373f1be",
    "tags": [],
    "deepnote_cell_height": 62,
    "deepnote_cell_type": "markdown"
   }
  },
  {
   "cell_type": "markdown",
   "source": "### 11.",
   "metadata": {
    "cell_id": "83e0e566-969d-4872-b32d-915ac945a370",
    "tags": [],
    "deepnote_cell_height": 62,
    "deepnote_cell_type": "markdown"
   }
  },
  {
   "cell_type": "code",
   "source": "",
   "metadata": {
    "cell_id": "efba92c3-bf9b-4202-8a30-dc2b467f61f9",
    "tags": [],
    "deepnote_to_be_reexecuted": false,
    "source_hash": "b623e53d",
    "execution_start": 1645592494315,
    "deepnote_cell_type": "code"
   },
   "outputs": [],
   "execution_count": 22
  },
  {
   "cell_type": "markdown",
   "source": "### 12.",
   "metadata": {
    "cell_id": "d5a17c31-5e8f-4d67-9679-c5705053de69",
    "tags": [],
    "deepnote_cell_height": 62,
    "deepnote_cell_type": "markdown"
   }
  },
  {
   "cell_type": "code",
   "metadata": {
    "cell_id": "b168ad4f-adf7-4f82-9126-461a1fc64b84",
    "tags": [],
    "deepnote_to_be_reexecuted": false,
    "source_hash": "b623e53d",
    "deepnote_cell_height": 81,
    "execution_start": 1645592494361,
    "execution_millis": 7521813,
    "deepnote_cell_type": "code"
   },
   "source": "",
   "execution_count": 22,
   "outputs": []
  },
  {
   "cell_type": "markdown",
   "source": "<a style='text-decoration:none;line-height:16px;display:flex;color:#5B5B62;padding:10px;justify-content:end;' href='https://deepnote.com?utm_source=created-in-deepnote-cell&projectId=0162aef3-1eed-4dcb-aebd-bc59ff2f8f2f' target=\"_blank\">\n<img alt='Created in deepnote.com' style='display:inline;max-height:16px;margin:0px;margin-right:7.5px;' src='data:image/svg+xml;base64,PD94bWwgdmVyc2lvbj0iMS4wIiBlbmNvZGluZz0iVVRGLTgiPz4KPHN2ZyB3aWR0aD0iODBweCIgaGVpZ2h0PSI4MHB4IiB2aWV3Qm94PSIwIDAgODAgODAiIHZlcnNpb249IjEuMSIgeG1sbnM9Imh0dHA6Ly93d3cudzMub3JnLzIwMDAvc3ZnIiB4bWxuczp4bGluaz0iaHR0cDovL3d3dy53My5vcmcvMTk5OS94bGluayI+CiAgICA8IS0tIEdlbmVyYXRvcjogU2tldGNoIDU0LjEgKDc2NDkwKSAtIGh0dHBzOi8vc2tldGNoYXBwLmNvbSAtLT4KICAgIDx0aXRsZT5Hcm91cCAzPC90aXRsZT4KICAgIDxkZXNjPkNyZWF0ZWQgd2l0aCBTa2V0Y2guPC9kZXNjPgogICAgPGcgaWQ9IkxhbmRpbmciIHN0cm9rZT0ibm9uZSIgc3Ryb2tlLXdpZHRoPSIxIiBmaWxsPSJub25lIiBmaWxsLXJ1bGU9ImV2ZW5vZGQiPgogICAgICAgIDxnIGlkPSJBcnRib2FyZCIgdHJhbnNmb3JtPSJ0cmFuc2xhdGUoLTEyMzUuMDAwMDAwLCAtNzkuMDAwMDAwKSI+CiAgICAgICAgICAgIDxnIGlkPSJHcm91cC0zIiB0cmFuc2Zvcm09InRyYW5zbGF0ZSgxMjM1LjAwMDAwMCwgNzkuMDAwMDAwKSI+CiAgICAgICAgICAgICAgICA8cG9seWdvbiBpZD0iUGF0aC0yMCIgZmlsbD0iIzAyNjVCNCIgcG9pbnRzPSIyLjM3NjIzNzYyIDgwIDM4LjA0NzY2NjcgODAgNTcuODIxNzgyMiA3My44MDU3NTkyIDU3LjgyMTc4MjIgMzIuNzU5MjczOSAzOS4xNDAyMjc4IDMxLjY4MzE2ODMiPjwvcG9seWdvbj4KICAgICAgICAgICAgICAgIDxwYXRoIGQ9Ik0zNS4wMDc3MTgsODAgQzQyLjkwNjIwMDcsNzYuNDU0OTM1OCA0Ny41NjQ5MTY3LDcxLjU0MjI2NzEgNDguOTgzODY2LDY1LjI2MTk5MzkgQzUxLjExMjI4OTksNTUuODQxNTg0MiA0MS42NzcxNzk1LDQ5LjIxMjIyODQgMjUuNjIzOTg0Niw0OS4yMTIyMjg0IEMyNS40ODQ5Mjg5LDQ5LjEyNjg0NDggMjkuODI2MTI5Niw0My4yODM4MjQ4IDM4LjY0NzU4NjksMzEuNjgzMTY4MyBMNzIuODcxMjg3MSwzMi41NTQ0MjUgTDY1LjI4MDk3Myw2Ny42NzYzNDIxIEw1MS4xMTIyODk5LDc3LjM3NjE0NCBMMzUuMDA3NzE4LDgwIFoiIGlkPSJQYXRoLTIyIiBmaWxsPSIjMDAyODY4Ij48L3BhdGg+CiAgICAgICAgICAgICAgICA8cGF0aCBkPSJNMCwzNy43MzA0NDA1IEwyNy4xMTQ1MzcsMC4yNTcxMTE0MzYgQzYyLjM3MTUxMjMsLTEuOTkwNzE3MDEgODAsMTAuNTAwMzkyNyA4MCwzNy43MzA0NDA1IEM4MCw2NC45NjA0ODgyIDY0Ljc3NjUwMzgsNzkuMDUwMzQxNCAzNC4zMjk1MTEzLDgwIEM0Ny4wNTUzNDg5LDc3LjU2NzA4MDggNTMuNDE4MjY3Nyw3MC4zMTM2MTAzIDUzLjQxODI2NzcsNTguMjM5NTg4NSBDNTMuNDE4MjY3Nyw0MC4xMjg1NTU3IDM2LjMwMzk1NDQsMzcuNzMwNDQwNSAyNS4yMjc0MTcsMzcuNzMwNDQwNSBDMTcuODQzMDU4NiwzNy43MzA0NDA1IDkuNDMzOTE5NjYsMzcuNzMwNDQwNSAwLDM3LjczMDQ0MDUgWiIgaWQ9IlBhdGgtMTkiIGZpbGw9IiMzNzkzRUYiPjwvcGF0aD4KICAgICAgICAgICAgPC9nPgogICAgICAgIDwvZz4KICAgIDwvZz4KPC9zdmc+' > </img>\nCreated in <span style='font-weight:600;margin-left:4px;'>Deepnote</span></a>",
   "metadata": {
    "tags": [],
    "created_in_deepnote_cell": true,
    "deepnote_cell_type": "markdown"
   }
  }
 ],
 "nbformat": 4,
 "nbformat_minor": 2,
 "metadata": {
  "orig_nbformat": 2,
  "deepnote": {
   "is_reactive": false
  },
  "deepnote_notebook_id": "85b76ea9-ace4-4c85-8b21-59120be91703",
  "deepnote_execution_queue": [],
  "deepnote_app_layout": "dashboard"
 }
}